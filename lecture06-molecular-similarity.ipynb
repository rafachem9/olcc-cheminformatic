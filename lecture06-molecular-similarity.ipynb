{
 "cells": [
  {
   "cell_type": "markdown",
   "metadata": {},
   "source": [
    "# Molecular Similarity"
   ]
  },
  {
   "cell_type": "markdown",
   "metadata": {},
   "source": [
    "## Objectives"
   ]
  },
  {
   "cell_type": "markdown",
   "metadata": {},
   "source": [
    "- Generete molecular fingerprints for a given molecule.\n",
    "- Evaluate structural similarity between molecules using different molecular fingerpints and similarity metrics."
   ]
  },
  {
   "cell_type": "markdown",
   "metadata": {},
   "source": [
    "Many useful documents/papers describe various aspects of molecular similarity, including molecular fingerprints and similarity measures.  Please read these if you need more details."
   ]
  },
  {
   "cell_type": "markdown",
   "metadata": {},
   "source": [
    "- Getting Started with the RDKit in Python<br>\n",
    "(https://www.rdkit.org/docs/GettingStartedInPython.html#fingerprinting-and-molecular-similarity)\n",
    "\n",
    "- Fingerprint Generation, GraphSim Toolkit 2.4.2<br>\n",
    "(https://docs.eyesopen.com/toolkits/python/graphsimtk/fingerprint.html)\n",
    "\n",
    "- Chemical Fingerprints<br>\n",
    "(https://docs.chemaxon.com/display/docs/Chemical+Fingerprints)\n",
    "\n",
    "- Extended-Connectivity Fingerprints<br>\n",
    "(https://doi.org/10.1021/ci100050t)\n",
    "\n"
   ]
  },
  {
   "cell_type": "markdown",
   "metadata": {},
   "source": [
    "## 1. Fingerprint Generation"
   ]
  },
  {
   "cell_type": "code",
   "execution_count": 40,
   "metadata": {
    "ExecuteTime": {
     "end_time": "2023-12-23T22:47:18.540375152Z",
     "start_time": "2023-12-23T22:47:17.958835827Z"
    }
   },
   "outputs": [],
   "source": [
    "from rdkit import Chem"
   ]
  },
  {
   "cell_type": "code",
   "outputs": [],
   "source": [
    "import os\n",
    "DATA_DIR = 'lecture-6-data'\n",
    "if os.path.isdir(DATA_DIR) is False:\n",
    "    os.mkdir(DATA_DIR)"
   ],
   "metadata": {
    "collapsed": false,
    "ExecuteTime": {
     "end_time": "2023-12-23T22:47:18.570764316Z",
     "start_time": "2023-12-23T22:47:18.516653872Z"
    }
   },
   "execution_count": 41
  },
  {
   "cell_type": "code",
   "execution_count": 42,
   "metadata": {
    "ExecuteTime": {
     "end_time": "2023-12-23T22:47:18.673341845Z",
     "start_time": "2023-12-23T22:47:18.558777591Z"
    }
   },
   "outputs": [],
   "source": [
    "mol = Chem.MolFromSmiles('CC(C)C1=C(C(=C(N1CC[C@H](C[C@H](CC(=O)O)O)O)C2=CC=C(C=C2)F)C3=CC=CC=C3)C(=O)NC4=CC=CC=C4')"
   ]
  },
  {
   "cell_type": "markdown",
   "metadata": {},
   "source": [
    "### 1-(1) MACCS keys"
   ]
  },
  {
   "cell_type": "markdown",
   "metadata": {},
   "source": [
    "The MACCS key is a binary fingerprint (a string of 0's and 1's).  Each bit position represents the presence (=1) or absence (=0) of a pre-defined structural feature.  The feature definitions for the MACCS keys are available at:<br> https://github.com/rdkit/rdkit/blob/master/rdkit/Chem/MACCSkeys.py"
   ]
  },
  {
   "cell_type": "code",
   "execution_count": 43,
   "metadata": {
    "ExecuteTime": {
     "end_time": "2023-12-23T22:47:18.748941583Z",
     "start_time": "2023-12-23T22:47:18.664794085Z"
    }
   },
   "outputs": [],
   "source": [
    "from rdkit.Chem import MACCSkeys\n",
    "fp = MACCSkeys.GenMACCSKeys(mol)"
   ]
  },
  {
   "cell_type": "code",
   "execution_count": 44,
   "metadata": {
    "ExecuteTime": {
     "end_time": "2023-12-23T22:47:18.838261925Z",
     "start_time": "2023-12-23T22:47:18.707565571Z"
    }
   },
   "outputs": [
    {
     "name": "stdout",
     "output_type": "stream",
     "text": [
      "<class 'rdkit.DataStructs.cDataStructs.ExplicitBitVect'>\n",
      "00000000000000000000000000000000000000000010000000000100000000100100000000110000100101010111100011001000100110110000011001110100110111111101101011111111111111111111110"
     ]
    },
    {
     "data": {
      "text/plain": "'00000000000000000000000000000000000000000010000000000100000000100100000000110000100101010111100011001000100110110000011001110100110111111101101011111111111111111111110'"
     },
     "execution_count": 44,
     "metadata": {},
     "output_type": "execute_result"
    }
   ],
   "source": [
    "print(type(fp))\n",
    "\n",
    "for i in range(len(fp)):\n",
    "    print(fp[i], end='')\n",
    "\n",
    "fp.ToBitString()    # Alternative, easier way to convert it to a bitstring."
   ]
  },
  {
   "cell_type": "code",
   "execution_count": 45,
   "metadata": {
    "ExecuteTime": {
     "end_time": "2023-12-23T22:47:18.884510589Z",
     "start_time": "2023-12-23T22:47:18.801370874Z"
    }
   },
   "outputs": [
    {
     "data": {
      "text/plain": "167"
     },
     "execution_count": 45,
     "metadata": {},
     "output_type": "execute_result"
    }
   ],
   "source": [
    "len(fp)"
   ]
  },
  {
   "cell_type": "markdown",
   "metadata": {},
   "source": [
    "Note that the MACCS key is **166-bit-long**, but RDKit generates a 167-bit-long fingerprint.  It is because the index of a list/vector in many programming languages (including python) begins at 0.  To use the original numbering of the MACCS keys (1-166) (rather than 0-165), the MACCS keys were implemented to be 167-bit-long, with Bit 0 being always zero. Because Bit 0 is set to OFF for all compounds, it does not affect the evaluation of molecular similarity."
   ]
  },
  {
   "cell_type": "markdown",
   "metadata": {},
   "source": [
    "These are some methods that allow you to get some additional information on the MACCS Keys."
   ]
  },
  {
   "cell_type": "code",
   "execution_count": 46,
   "metadata": {
    "ExecuteTime": {
     "end_time": "2023-12-23T22:47:19.106504872Z",
     "start_time": "2023-12-23T22:47:18.883122754Z"
    }
   },
   "outputs": [
    {
     "name": "stdout",
     "output_type": "stream",
     "text": [
      "167\n",
      "105\n",
      "62\n",
      "b'\\xe0\\xff\\xff\\xff\\xa7\\x00\\x00\\x00>\\x00\\x00\\x00T\\x14\\x10\\x04\\x10\\x00\\x08\\x04\\x02\\x02\\x02\\x00\\x00\\x00\\x06\\x00\\x04\\x06\\x04\\x00\\x02\\x00\\n\\x00\\x04\\x00\\x00\\x02\\x04\\x00\\x02\\x00\\x00\\x00\\x00\\x00\\x00\\x02\\x00\\x02\\x02\\x00\\x00\\x00\\x00\\x00\\x00\\x00\\x00\\x00\\x00\\x00\\x00\\x00\\x00\\x00\\x00\\x00\\x00\\x00\\x00\\x00\\x02'\n"
     ]
    }
   ],
   "source": [
    "print(fp.GetNumBits())\n",
    "print(fp.GetNumOffBits())\n",
    "print(fp.GetNumOnBits())\n",
    "print(fp.ToBinary())"
   ]
  },
  {
   "cell_type": "markdown",
   "metadata": {},
   "source": [
    "**Exercise 1a:** Generate the MACCS keys for the molecules represented by the following SMILES, and get the positions of the bits set to ON in each of the three fingerprints.  What fragments do these bit positions correspond to?  (the bit definitions are available at"
   ]
  },
  {
   "cell_type": "code",
   "execution_count": 47,
   "metadata": {
    "ExecuteTime": {
     "end_time": "2023-12-23T22:47:19.282863983Z",
     "start_time": "2023-12-23T22:47:19.093127897Z"
    }
   },
   "outputs": [],
   "source": [
    "smiles = [ 'C1=CC=CC=C1', # Benzene (Kekule)\n",
    "           'c1ccccc1',    # Benzene (\"Aromatized\" carbons)\n",
    "           'C1CCCCC1']     # Cyclohexene"
   ]
  },
  {
   "cell_type": "code",
   "execution_count": 48,
   "metadata": {
    "ExecuteTime": {
     "end_time": "2023-12-23T22:47:19.288449931Z",
     "start_time": "2023-12-23T22:47:19.160018573Z"
    }
   },
   "outputs": [],
   "source": [
    "# Write your code in this cell.\n",
    "\n",
    "\n"
   ]
  },
  {
   "cell_type": "markdown",
   "metadata": {},
   "source": [
    "<br>**Write the fragment definition of the bits ON** (one is already provided for you as an example)."
   ]
  },
  {
   "cell_type": "raw",
   "metadata": {},
   "source": [
    "- 118: ACH2CH2A > 1\n",
    "\n",
    "\n",
    "\n",
    "\n",
    "\n"
   ]
  },
  {
   "cell_type": "markdown",
   "metadata": {},
   "source": [
    "### 1-(2) Circular Fingerprints"
   ]
  },
  {
   "cell_type": "markdown",
   "metadata": {},
   "source": [
    "Circular fingerprints are hashed fingerprints.  They are generated by exhaustively enumerating \"circular\" fragments (containing all atoms within a given radius from each heavy atom of the molecule) and then hashing these fragments into a fixed-length bitstring.  (Here, the \"radius\" from an atom is measured by the number of bonds that separates two atoms).\n",
    "\n",
    "Examples of circular fingerprints are the extended-connectivity fingerprint (ECFPs) and their variant called FCFPs (Functional-Class Fingerprints), originally described in a paper by Rogers and Hahn (https://doi.org/10.1021/ci100050t).  The RDKit implementation of these fingerprints are called \"Morgan Fingerprints\" (https://www.rdkit.org/docs/GettingStartedInPython.html#morgan-fingerprints-circular-fingerprints)."
   ]
  },
  {
   "cell_type": "code",
   "execution_count": 49,
   "metadata": {
    "ExecuteTime": {
     "end_time": "2023-12-23T22:47:19.391847556Z",
     "start_time": "2023-12-23T22:47:19.293493668Z"
    }
   },
   "outputs": [
    {
     "name": "stdout",
     "output_type": "stream",
     "text": [
      "0100000000000000000000000000010001100000000000000000010000000000100000000000000010000000001000000000000000000100000001000100000010000000100000000000000010000000000000000100000100000000000000010000000000000000000000000000000000010000000000000000000000000000000000000010000000000000000100000100000000000000000000000000000000000000000000000000000000000001000010010000000000000000000000000010010000000001000000000000000000000000000000000000000000000000000000000000000000000000000000000000001000000000000000000000000000000000000000000000000000000000000000000000000000000000000000000000000000100000000000100000000000000000000000001000000000000000000000100010000000000000000000000000010010000000000000000001000100000000010000000001001000000000100100000000000000000000000000000000000000000000000000001000000000100001000000000000000000000000000000000000000001000000000000000000000000000000000000000000010010000000100000000000000000000000000000010000000000000000001000000000000000000100000000000000000000000000000000000000001000000000\n"
     ]
    }
   ],
   "source": [
    "from rdkit.Chem import AllChem\n",
    "fp = AllChem.GetMorganFingerprintAsBitVect(mol, 2, nBits=1024).ToBitString()\n",
    "print(fp)"
   ]
  },
  {
   "cell_type": "markdown",
   "metadata": {},
   "source": [
    "When comparing the RDK's Morgan fingerprints with the ECFP/FCFP fingerprints, it is important to remember that the name of ECFP/FCFP fingerprints are suffixed with the **diameter** of the atom environments considered, while the Morgan Fingerprints take a **radius** parameter (e.g., the second argument \"2\" of GetMorganFingerprintAsBitVect() in the above code cell).  The Morgan fingerprint generated above (with a radius of 2) is comparable to the ECFP4 fingerprint (with a diameter of 4)."
   ]
  },
  {
   "cell_type": "markdown",
   "metadata": {},
   "source": [
    "**Exercise 1b:** For the moleculess below, generate the 512-bit-long Morgan Fingeprint comparable to the **FCFP6** fingerprint.\n",
    "\n",
    "- Search for the compounds by name and get their SMILES strings.\n",
    "- Generate the molecular fingerprints from the SMILES strings.\n",
    "- Print the generated fingerprints.\n",
    "- To generate FCFP (not ECFP), read the following document: https://www.rdkit.org/docs/GettingStartedInPython.html#morgan-fingerprints-circular-fingerprints"
   ]
  },
  {
   "cell_type": "code",
   "execution_count": 50,
   "metadata": {
    "ExecuteTime": {
     "end_time": "2023-12-23T22:47:19.480932726Z",
     "start_time": "2023-12-23T22:47:19.384277195Z"
    }
   },
   "outputs": [],
   "source": [
    "synonyms = [ 'diphenhydramine', 'cetirizine', 'fexofenadine', 'loratadine' ]"
   ]
  },
  {
   "cell_type": "code",
   "execution_count": 51,
   "metadata": {
    "ExecuteTime": {
     "end_time": "2023-12-23T22:47:19.584318439Z",
     "start_time": "2023-12-23T22:47:19.457584040Z"
    }
   },
   "outputs": [],
   "source": [
    "# Write your code in this cell\n",
    "\n",
    "\n"
   ]
  },
  {
   "cell_type": "markdown",
   "metadata": {},
   "source": [
    "### 1-(3) Path-Based Fingeprints"
   ]
  },
  {
   "cell_type": "markdown",
   "metadata": {},
   "source": [
    "Path-based fingerprints are also hashed fingerprints.  They are generated by enumerating linear fragments of a given length and hashing them into a fixed-length bitstring.  An example is the RDKit's topological fingeprint.  As described in the RDK documentation (https://www.rdkit.org/docs/GettingStartedInPython.html#topological-fingerprints), while this fingerprint can be generated using FingerprintMols.FingerprintMol(), it is recommended to use rdmolops.RDKFingerprint() to generate the fingerprint using non-default parameter values. "
   ]
  },
  {
   "cell_type": "code",
   "execution_count": 52,
   "metadata": {
    "ExecuteTime": {
     "end_time": "2023-12-23T22:47:19.628604754Z",
     "start_time": "2023-12-23T22:47:19.518709745Z"
    }
   },
   "outputs": [
    {
     "name": "stdout",
     "output_type": "stream",
     "text": [
      "11011101111101010111110010111110101111011110100111111111110111001111111101101111011111111111101111111011111101111101010010110111011111011111111111011011011111101110001101111111000110010101111111110110111011010111110101111101111001111111011111101111110011101110111010010110001110001111011001111110001111111001111011111110000100001111101111110111111111000111111111111110111001010111011111111101111011111010000110110101111111110111111011100111011110110111010111111011111111101111110111011011101111111111011111111111111011110100100011111111110110101110110001101111101110111101011110101111111101010010011110010111101110110011000011110111011111111110111111110111101111001000011101001111111110011101101011111001011101001111011011011111011111111111111111011101110000111011111011110111110101001111001110111111111111111101101111110110101111111001111001101101100111111100111101101010111111000101111101101111111110110111111111011111011011111111011111101011101010010011101101101110111110011111000011101011110011111011100100111011011010111111111010010101111111100111101110111010111110001101011111110101110111111101111111111111010110100011101101110011011010011110100111111111101111101110101111010011110001110101101101011101110001111111111011101001110110001101111110111011100011010101111110111111111011110110111111101110001011011110000111111001111100011111011011111101110010001001010011111110110011011011111000011101111101110111111111101111111100111110100010111011000110111101100110111111111100111101111101111101111111100011111101111111011100101110110110010011110111110110111011101110101001110110111101011111011011100101111111110100110100111100110111010011001111010110010111011111111010101100111111110111001000111110111011111101110001110101111111111010001101101111111101110111111101011011111011110111111011101110101011011011101101111101110101111101011011110101111111111111010011110011111111111101011110111111110001011111111111111111000111101111110110111111101111111111111001011011110111111111111011111110101111101110101111011010010101010110010011111011011110111011\n"
     ]
    }
   ],
   "source": [
    "from rdkit.Chem import rdmolops\n",
    "fp = rdmolops.RDKFingerprint(mol, fpSize=2048, minPath=1, maxPath=7).ToBitString()\n",
    "print(fp)"
   ]
  },
  {
   "cell_type": "markdown",
   "metadata": {},
   "source": [
    "### 1-(4) PubChem Fingerprint"
   ]
  },
  {
   "cell_type": "markdown",
   "metadata": {},
   "source": [
    "The PubChem Fingerprint is a 881-bit-long binary fingerprint (ftp://ftp.ncbi.nlm.nih.gov/pubchem/specifications/pubchem_fingerprints.pdf).  Similar to the MACCS keys, it uses a pre-defined fragment dictionary.  The PubChem fingerprint for each compound in PubChem can be downloaded from PubChem.  However, because they are base64-encoded, they should be decoded into binary bitstrings or bitvectors."
   ]
  },
  {
   "cell_type": "markdown",
   "metadata": {},
   "source": [
    "Details about how to decode base64-encoded PubChem fingerprints is described on the last page of the PubChem Fingerprint specification (ftp://ftp.ncbi.nlm.nih.gov/pubchem/specifications/pubchem_fingerprints.pdf).  Below is a user-defined function that decodes a PubChem fingerprint into a bit string."
   ]
  },
  {
   "cell_type": "code",
   "execution_count": 53,
   "metadata": {
    "ExecuteTime": {
     "end_time": "2023-12-23T22:47:19.807650149Z",
     "start_time": "2023-12-23T22:47:19.630692463Z"
    }
   },
   "outputs": [],
   "source": [
    "from base64 import b64decode\n",
    "\n",
    "def PCFP_BitString(pcfp_base64) :\n",
    "\n",
    "    pcfp_bitstring = \"\".join( [\"{:08b}\".format(x) for x in b64decode( pcfp_base64 )] )[32:913]\n",
    "    return pcfp_bitstring\n",
    "    "
   ]
  },
  {
   "cell_type": "code",
   "execution_count": 54,
   "metadata": {
    "ExecuteTime": {
     "end_time": "2023-12-23T22:47:19.835780695Z",
     "start_time": "2023-12-23T22:47:19.771518780Z"
    }
   },
   "outputs": [],
   "source": [
    "pcfps = 'AAADcYBgAAAAAAAAAAAAAAAAAAAAAAAAAAAwAAAAAAAAAAABAAAAGAAAAAAACACAEAAwAIAAAACAACBCAAACAAAgAAAIiAAAAIgIICKAERCAIAAggAAIiAcAAAAAAAAAAAAAAAAAAAAAAAAAAAAAAAAAAA=='"
   ]
  },
  {
   "cell_type": "code",
   "execution_count": 55,
   "metadata": {
    "ExecuteTime": {
     "end_time": "2023-12-23T22:47:19.915449924Z",
     "start_time": "2023-12-23T22:47:19.840067414Z"
    }
   },
   "outputs": [
    {
     "name": "stdout",
     "output_type": "stream",
     "text": [
      "881\n",
      "10000000011000000000000000000000000000000000000000000000000000000000000000000000000000000000000000000000000000000000000000000000000000000000000000000000000000000000000000000000001100000000000000000000000000000000000000000000000000000000000000000000000000010000000000000000000000000001100000000000000000000000000000000000000000000000100000000000100000000001000000000000001100000000000010000000000000000000000000000000100000000000000000100000010000100000000000000000000000100000000000000000001000000000000000000000000010001000100000000000000000000000000010001000000010000010000000100010100000000001000100010000100000000010000000000000001000001000000000000000000010001000100000000111000000000000000000000000000000000000000000000000000000000000000000000000000000000000000000000000000000000000000000000000000000000000000000000000000000000000000000000000000000000000000000000000000000000\n"
     ]
    }
   ],
   "source": [
    "print( len(PCFP_BitString(pcfps)) )\n",
    "print(PCFP_BitString(pcfps))"
   ]
  },
  {
   "cell_type": "markdown",
   "metadata": {},
   "source": [
    "The generated bitstring can be converted to a bitvector that can be used for molecular similarity computation in RDKit (to be discussed in the next section)."
   ]
  },
  {
   "cell_type": "code",
   "execution_count": 56,
   "metadata": {
    "ExecuteTime": {
     "end_time": "2023-12-23T22:47:19.952151008Z",
     "start_time": "2023-12-23T22:47:19.916480685Z"
    }
   },
   "outputs": [
    {
     "data": {
      "text/plain": "rdkit.DataStructs.cDataStructs.ExplicitBitVect"
     },
     "execution_count": 56,
     "metadata": {},
     "output_type": "execute_result"
    }
   ],
   "source": [
    "from rdkit import DataStructs\n",
    "bitvect = DataStructs.CreateFromBitString(PCFP_BitString(pcfps))\n",
    "type(bitvect)"
   ]
  },
  {
   "cell_type": "markdown",
   "metadata": {},
   "source": [
    "## 2. Computation of similarity scores"
   ]
  },
  {
   "cell_type": "code",
   "execution_count": 57,
   "metadata": {
    "ExecuteTime": {
     "end_time": "2023-12-23T22:47:20.099343308Z",
     "start_time": "2023-12-23T22:47:19.940149854Z"
    }
   },
   "outputs": [],
   "source": [
    "import requests\n",
    "import time"
   ]
  },
  {
   "cell_type": "code",
   "execution_count": 58,
   "metadata": {
    "ExecuteTime": {
     "end_time": "2023-12-23T22:47:20.113352348Z",
     "start_time": "2023-12-23T22:47:20.054375939Z"
    }
   },
   "outputs": [],
   "source": [
    "cids = [    54454,  # Simvastatin (Zocor)\n",
    "            54687,  # Pravastatin (Pravachol)\n",
    "            60823,  # Atorvastatin (Lipitor)\n",
    "           446155,  # Fluvastatin (Lescol)   \n",
    "           446157,  # Rosuvastatin (Crestor)\n",
    "          5282452,  # Pitavastatin (Livalo)\n",
    "         97938126 ] # Lovastatin (Altoprev)"
   ]
  },
  {
   "cell_type": "markdown",
   "metadata": {},
   "source": [
    "Let's get the SMILES strings from PubChem, generate Mol objects from them, and draw their chemical structures."
   ]
  },
  {
   "cell_type": "code",
   "execution_count": 59,
   "metadata": {
    "ExecuteTime": {
     "end_time": "2023-12-23T22:47:21.386458208Z",
     "start_time": "2023-12-23T22:47:20.117506590Z"
    }
   },
   "outputs": [],
   "source": [
    "prolog = \"https://pubchem.ncbi.nlm.nih.gov/rest/pug\"\n",
    "\n",
    "str_cid = \",\".join([ str(x) for x in cids])\n",
    "\n",
    "url = prolog + \"/compound/cid/\" + str_cid + \"/property/isomericsmiles/txt\"\n",
    "res = requests.get(url)\n",
    "smiles = res.text.split()"
   ]
  },
  {
   "cell_type": "code",
   "execution_count": 60,
   "metadata": {
    "ExecuteTime": {
     "end_time": "2023-12-23T22:47:21.537468152Z",
     "start_time": "2023-12-23T22:47:21.424138362Z"
    }
   },
   "outputs": [
    {
     "data": {
      "image/png": "[encoded data removed]",
      "text/plain": "<IPython.core.display.Image object>"
     },
     "execution_count": 60,
     "metadata": {},
     "output_type": "execute_result"
    }
   ],
   "source": [
    "from rdkit import Chem\n",
    "from rdkit.Chem import Draw\n",
    "\n",
    "mols = [ Chem.MolFromSmiles(x) for x in smiles ]\n",
    "Chem.Draw.MolsToGridImage(mols, molsPerRow=4, subImgSize=(200,200), legends=[str(x) for x in cids] )"
   ]
  },
  {
   "cell_type": "markdown",
   "metadata": {},
   "source": [
    "Now generate MACCS keys for each compound."
   ]
  },
  {
   "cell_type": "code",
   "execution_count": 61,
   "metadata": {
    "ExecuteTime": {
     "end_time": "2023-12-23T22:47:21.561622374Z",
     "start_time": "2023-12-23T22:47:21.549755174Z"
    }
   },
   "outputs": [],
   "source": [
    "from rdkit import DataStructs\n",
    "from rdkit.Chem import MACCSkeys\n",
    "\n",
    "fps = [ MACCSkeys.GenMACCSKeys(x) for x in mols ]"
   ]
  },
  {
   "cell_type": "markdown",
   "metadata": {},
   "source": [
    "Now let's compute the pair-wise similarity scores among them.  To make higher scores easier to find, they are indicated with the \"\\*\" character(s)."
   ]
  },
  {
   "cell_type": "code",
   "execution_count": 62,
   "metadata": {
    "ExecuteTime": {
     "end_time": "2023-12-23T22:47:21.738326274Z",
     "start_time": "2023-12-23T22:47:21.559136818Z"
    }
   },
   "outputs": [
    {
     "name": "stdout",
     "output_type": "stream",
     "text": [
      "54454 vs. 54687 : 0.812 ***\n",
      "54454 vs. 60823 : 0.354 \n",
      "54454 vs. 446155 : 0.379 \n",
      "54454 vs. 446157 : 0.307 \n",
      "54454 vs. 5282452 : 0.4 \n",
      "54454 vs. 97938126 : 0.867 ****\n",
      "54687 vs. 60823 : 0.387 \n",
      "54687 vs. 446155 : 0.397 \n",
      "54687 vs. 446157 : 0.287 \n",
      "54687 vs. 5282452 : 0.421 \n",
      "54687 vs. 97938126 : 0.8 ***\n",
      "60823 vs. 446155 : 0.662 **\n",
      "60823 vs. 446157 : 0.535 \n",
      "60823 vs. 5282452 : 0.507 \n",
      "60823 vs. 97938126 : 0.365 \n",
      "446155 vs. 446157 : 0.526 \n",
      "446155 vs. 5282452 : 0.735 **\n",
      "446155 vs. 97938126 : 0.393 \n",
      "446157 vs. 5282452 : 0.473 \n",
      "446157 vs. 97938126 : 0.298 \n",
      "5282452 vs. 97938126 : 0.444 \n"
     ]
    }
   ],
   "source": [
    "for i in range(0, len(fps)) :\n",
    "    for j in range(i+1, len(fps)) :\n",
    "        \n",
    "        score = DataStructs.FingerprintSimilarity(fps[i], fps[j])\n",
    "        print(cids[i], \"vs.\", cids[j], \":\", round(score,3), end='')\n",
    "        \n",
    "        if ( score >= 0.85 ):\n",
    "            print(\" ****\")\n",
    "        elif ( score >= 0.75 ):\n",
    "            print(\" ***\")\n",
    "        elif ( score >= 0.65 ):\n",
    "            print(\" **\")\n",
    "        elif ( score >= 0.55 ):\n",
    "            print(\" *\")\n",
    "        else:\n",
    "            print(\" \")\n"
   ]
  },
  {
   "cell_type": "markdown",
   "metadata": {},
   "source": [
    "By default, the similarity score is generated using the **Tanimoto** equation.  RDKit also supports other similarity metrics, including Dice, Cosine, Sokal, Russel, Kulczynski, McConnaughey, and Tversky.  The definition of these metrics is available at the LibreTexts page (https://bit.ly/2kx9NCd)."
   ]
  },
  {
   "cell_type": "code",
   "execution_count": 63,
   "metadata": {
    "ExecuteTime": {
     "end_time": "2023-12-23T22:47:21.824338615Z",
     "start_time": "2023-12-23T22:47:21.571196214Z"
    }
   },
   "outputs": [
    {
     "name": "stdout",
     "output_type": "stream",
     "text": [
      "Tanimoto    : 0.8125\n",
      "Dice        : 0.8966\n",
      "Cosine      : 0.8971\n",
      "Sokal       : 0.6842\n",
      "McConnaughey: 0.7952\n"
     ]
    }
   ],
   "source": [
    "print(\"Tanimoto    :\", round(DataStructs.TanimotoSimilarity(fps[0], fps[1]), 4))\n",
    "print(\"Dice        :\", round(DataStructs.DiceSimilarity(fps[0], fps[1]), 4))\n",
    "print(\"Cosine      :\", round(DataStructs.CosineSimilarity(fps[0], fps[1]), 4))\n",
    "print(\"Sokal       :\", round(DataStructs.SokalSimilarity(fps[0], fps[1]), 4))\n",
    "print(\"McConnaughey:\", round(DataStructs.McConnaugheySimilarity(fps[0], fps[1]), 4))"
   ]
  },
  {
   "cell_type": "markdown",
   "metadata": {},
   "source": [
    "The Tversky score is an asymmetric similarity measure, and its computation requires the weightings of the two molecules being compared."
   ]
  },
  {
   "cell_type": "code",
   "execution_count": 64,
   "metadata": {
    "ExecuteTime": {
     "end_time": "2023-12-23T22:47:21.827620605Z",
     "start_time": "2023-12-23T22:47:21.612213147Z"
    }
   },
   "outputs": [
    {
     "name": "stdout",
     "output_type": "stream",
     "text": [
      "(alpha, beta) = ( 0.0 , 1.0 ) : 0.9286\n",
      "(alpha, beta) = ( 0.1 , 0.9 ) : 0.922\n",
      "(alpha, beta) = ( 0.2 , 0.8 ) : 0.9155\n",
      "(alpha, beta) = ( 0.3 , 0.7 ) : 0.9091\n",
      "(alpha, beta) = ( 0.4 , 0.6 ) : 0.9028\n",
      "(alpha, beta) = ( 0.5 , 0.5 ) : 0.8966\n",
      "(alpha, beta) = ( 0.6 , 0.4 ) : 0.8904\n",
      "(alpha, beta) = ( 0.7 , 0.3 ) : 0.8844\n",
      "(alpha, beta) = ( 0.8 , 0.2 ) : 0.8784\n",
      "(alpha, beta) = ( 0.9 , 0.1 ) : 0.8725\n",
      "(alpha, beta) = ( 1.0 , 0.0 ) : 0.8667\n"
     ]
    }
   ],
   "source": [
    "for i in range(0,11) :\n",
    "    \n",
    "    alpha = round( i * 0.1, 1 )\n",
    "    beta = round( 1 - alpha, 1 )\n",
    "    print(\"(alpha, beta) = (\", alpha, \",\", beta, \") : \", end='')\n",
    "    print(round(DataStructs.TverskySimilarity( fps[0], fps[1], alpha, beta ), 4))"
   ]
  },
  {
   "cell_type": "markdown",
   "metadata": {},
   "source": [
    "**Exercise 2a:**  Compute the Tanimoto similarity scores between the seven compounds used in this section, using the PubChem fingerprints\n",
    "\n",
    "- Download the PubChem Fingerprint for the seven CIDs.\n",
    "- Convert the downloaded fingerprints into bit vectors.\n",
    "- Compute the pair-wise Tanimoto scores using the bit vectors."
   ]
  },
  {
   "cell_type": "code",
   "execution_count": 65,
   "metadata": {
    "ExecuteTime": {
     "end_time": "2023-12-23T22:47:21.848397262Z",
     "start_time": "2023-12-23T22:47:21.612579735Z"
    }
   },
   "outputs": [],
   "source": [
    "# Write your code in this cell\n",
    "\n",
    "\n",
    "\n"
   ]
  },
  {
   "cell_type": "markdown",
   "metadata": {},
   "source": [
    "## 3. Interpretation of similarity scores"
   ]
  },
  {
   "cell_type": "markdown",
   "metadata": {},
   "source": [
    "Using molecular fingeprints. we can compute the similarity scores between molecules.  However, how should these scores be interpreted?  For example, the Tanimoto score between CID 60823 and CID 446155 is computed to be 0.662, but does it mean that the two compounds are similar?  How similar is similar?  The following analysis would help answer these questions."
   ]
  },
  {
   "cell_type": "markdown",
   "metadata": {},
   "source": [
    "**Step 1.** Randomly select 1,000 compounds from PubChem and download their SMILES strings."
   ]
  },
  {
   "cell_type": "code",
   "execution_count": 66,
   "metadata": {
    "ExecuteTime": {
     "end_time": "2023-12-23T22:47:31.873570560Z",
     "start_time": "2023-12-23T22:47:21.612821869Z"
    }
   },
   "outputs": [
    {
     "name": "stdout",
     "output_type": "stream",
     "text": [
      "Processing chunk 0 1 2 3 4 5 6 7 8 9 Done!\n",
      "# Number of SMILES :  1000\n"
     ]
    }
   ],
   "source": [
    "import random\n",
    "random.seed(0)\n",
    "\n",
    "cid_max = 138962044    # The maximum CID in PubChem as of September 2019\n",
    "\n",
    "cids = []\n",
    "\n",
    "for x in range(1000):\n",
    "    cids.append(random.randint(1, cid_max + 1))\n",
    "\n",
    "chunk_size = 100\n",
    "\n",
    "if len(cids) % chunk_size == 0 :\n",
    "    num_chunks = int( len(cids) / chunk_size )\n",
    "else :\n",
    "    num_chunks = int( len(cids) / chunk_size ) + 1\n",
    "\n",
    "smiles = []\n",
    "    \n",
    "for i in range(num_chunks):\n",
    "\n",
    "    if (i == 0):\n",
    "        print(\"Processing chunk \", end='')\n",
    "    \n",
    "    print(i, end=' ')\n",
    "    \n",
    "    idx1 = chunk_size * i\n",
    "    idx2 = chunk_size * (i + 1)\n",
    "    str_cids = \",\".join([ str(x) for x in cids[idx1:idx2]])\n",
    "\n",
    "    url = prolog + \"/compound/cid/\" + str_cids + \"/property/isomericsmiles/txt\"\n",
    "    res = requests.get(url)\n",
    "\n",
    "    if ( res.status_code == 200) :\n",
    "        smiles.extend( res.text.split() )\n",
    "    else :\n",
    "        print(\"Chunk\", i, \"Failed to get SMILES.\")\n",
    "        \n",
    "    time.sleep(0.2)\n",
    "\n",
    "print(\"Done!\")\n",
    "print(\"# Number of SMILES : \", len(smiles))"
   ]
  },
  {
   "cell_type": "markdown",
   "metadata": {},
   "source": [
    "**Step 2.** Generate the MACCSKeys for each compound."
   ]
  },
  {
   "cell_type": "code",
   "execution_count": 67,
   "metadata": {
    "ExecuteTime": {
     "end_time": "2023-12-23T22:47:33.086166297Z",
     "start_time": "2023-12-23T22:47:31.878569690Z"
    }
   },
   "outputs": [
    {
     "name": "stderr",
     "output_type": "stream",
     "text": [
      "[22:47:31] WARNING: not removing hydrogen atom without neighbors\n"
     ]
    },
    {
     "name": "stdout",
     "output_type": "stream",
     "text": [
      "# Number of compounds: 1000\n",
      "# Number of fingerprints: 1000\n"
     ]
    }
   ],
   "source": [
    "from rdkit import Chem\n",
    "\n",
    "mols = [ Chem.MolFromSmiles(x) for x in smiles if x != None ]\n",
    "fps  = [ MACCSkeys.GenMACCSKeys(x) for x in mols if x != None ]\n",
    "print(\"# Number of compounds:\", len(mols))\n",
    "print(\"# Number of fingerprints:\", len(fps))"
   ]
  },
  {
   "cell_type": "code",
   "execution_count": 68,
   "metadata": {
    "ExecuteTime": {
     "end_time": "2023-12-23T22:47:33.108371329Z",
     "start_time": "2023-12-23T22:47:33.090889126Z"
    }
   },
   "outputs": [],
   "source": [
    "# Run this cell if the number of compounds != the number of fingerprints.\n",
    "#if ( len(cids) != len(fps) ):\n",
    "#    print(\"SMILES at index\", mols.index(None), \":\", smiles[ mols.index(None) ])"
   ]
  },
  {
   "cell_type": "markdown",
   "metadata": {},
   "source": [
    "**Step 3.** Compute the Tanimoto scores between compounds."
   ]
  },
  {
   "cell_type": "code",
   "execution_count": 69,
   "metadata": {
    "ExecuteTime": {
     "end_time": "2023-12-23T22:47:33.123375704Z",
     "start_time": "2023-12-23T22:47:33.096360379Z"
    }
   },
   "outputs": [
    {
     "name": "stdout",
     "output_type": "stream",
     "text": [
      "# The number of compound pairs: 499500.0\n"
     ]
    }
   ],
   "source": [
    "print(\"# The number of compound pairs:\", (len(fps) * (len(fps) - 1))/2 )"
   ]
  },
  {
   "cell_type": "code",
   "execution_count": 70,
   "metadata": {
    "ExecuteTime": {
     "end_time": "2023-12-23T22:47:35.727796877Z",
     "start_time": "2023-12-23T22:47:33.102206890Z"
    }
   },
   "outputs": [
    {
     "name": "stdout",
     "output_type": "stream",
     "text": [
      "Processing compound 0 100 200 300 400 500 600 700 800 900 Done!\n",
      "# Number of scores :  499500\n"
     ]
    }
   ],
   "source": [
    "scores = []\n",
    "\n",
    "for i in range(0, len(fps)) :\n",
    "\n",
    "    if (i == 0) :\n",
    "        print(\"Processing compound \", end='')\n",
    "    \n",
    "    if (i % 100 == 0) :\n",
    "        print(i, end=' ')\n",
    "    \n",
    "    for j in range(i+1, len(fps)) :\n",
    "        scores.append(DataStructs.FingerprintSimilarity(fps[i], fps[j]))\n",
    "\n",
    "print(\"Done!\")\n",
    "print(\"# Number of scores : \", len(scores))"
   ]
  },
  {
   "cell_type": "markdown",
   "metadata": {},
   "source": [
    "**Step 4.** Generate a histogram that shows the distribution of the pair-wise scores."
   ]
  },
  {
   "cell_type": "code",
   "execution_count": 71,
   "metadata": {
    "ExecuteTime": {
     "end_time": "2023-12-23T22:47:35.743510820Z",
     "start_time": "2023-12-23T22:47:35.735280698Z"
    }
   },
   "outputs": [],
   "source": [
    "import matplotlib.pyplot as plt\n",
    "%matplotlib inline"
   ]
  },
  {
   "cell_type": "code",
   "execution_count": 72,
   "metadata": {
    "ExecuteTime": {
     "end_time": "2023-12-23T22:47:41.153087417Z",
     "start_time": "2023-12-23T22:47:35.740674232Z"
    }
   },
   "outputs": [
    {
     "data": {
      "text/plain": "<Figure size 2400x1200 with 2 Axes>",
      "image/png": "[encoded data removed]"
     },
     "metadata": {},
     "output_type": "display_data"
    }
   ],
   "source": [
    "mybins = [ x * 0.01 for x in range(101)]\n",
    "\n",
    "fig = plt.figure(figsize=(8,4), dpi=300)\n",
    "\n",
    "plt.subplot(1, 2, 1)\n",
    "plt.title(\"Distribution\")\n",
    "plt.hist(scores, bins=mybins)\n",
    "\n",
    "plt.subplot(1, 2, 2)\n",
    "plt.title(\"Cumulative Distribution\")\n",
    "plt.hist(scores, bins=mybins, density=True, cumulative=1)\n",
    "plt.plot([0,1],[0.95,0.95]);"
   ]
  },
  {
   "cell_type": "code",
   "execution_count": 73,
   "metadata": {
    "ExecuteTime": {
     "end_time": "2023-12-23T22:47:42.278197015Z",
     "start_time": "2023-12-23T22:47:41.194253683Z"
    }
   },
   "outputs": [
    {
     "name": "stdout",
     "output_type": "stream",
     "text": [
      "0.000   499500 (100.0000 %)\n",
      "0.050   497010 ( 99.5015 %)\n",
      "0.100   488714 ( 97.8406 %)\n",
      "0.150   469193 ( 93.9325 %)\n",
      "0.200   435672 ( 87.2216 %)\n",
      "0.250   385198 ( 77.1167 %)\n",
      "0.300   318637 ( 63.7912 %)\n",
      "0.350   245621 ( 49.1734 %)\n",
      "0.400   175158 ( 35.0667 %)\n",
      "0.450   111668 ( 22.3560 %)\n",
      "0.500    66599 ( 13.3331 %)\n",
      "0.550    32209 (  6.4482 %)\n",
      "0.600    13897 (  2.7822 %)\n",
      "0.650     4668 (  0.9345 %)\n",
      "0.700     1351 (  0.2705 %)\n",
      "0.750      355 (  0.0711 %)\n",
      "0.800       76 (  0.0152 %)\n",
      "0.850       24 (  0.0048 %)\n",
      "0.900        6 (  0.0012 %)\n",
      "0.950        1 (  0.0002 %)\n",
      "1.000        0 (  0.0000 %)\n"
     ]
    }
   ],
   "source": [
    "for i in range(21) :\n",
    "\n",
    "    thresh = i / 20\n",
    "    num_similar_pairs = len([x for x in scores if x >= thresh]) \n",
    "    prob = num_similar_pairs / len(scores) * 100\n",
    "    print(\"%.3f %8d (%8.4f %%)\" % (thresh, num_similar_pairs, round(prob,4)))"
   ]
  },
  {
   "cell_type": "code",
   "execution_count": 74,
   "metadata": {
    "ExecuteTime": {
     "end_time": "2023-12-23T22:47:42.315216487Z",
     "start_time": "2023-12-23T22:47:42.287217248Z"
    }
   },
   "outputs": [
    {
     "name": "stdout",
     "output_type": "stream",
     "text": [
      "Average: 0.3488195436976387\n"
     ]
    }
   ],
   "source": [
    "print(\"Average:\", sum(scores)/len(scores))"
   ]
  },
  {
   "cell_type": "markdown",
   "metadata": {},
   "source": [
    "From the distribution of the similarity scores among 1,000 compounds, we observe the following:<br>\n",
    "- If you randomly select two compounds from PubChem, the similarity score between them (computed using the Tanimoto equation and MACCS keys) is ~0.35 on average.\n",
    "- About %5 of randomly selected compound pairs have a similarity score greater than 0.55.\n",
    "- About %1 of randomly selected compound pairs have a similarity score greater than 0.65."
   ]
  },
  {
   "cell_type": "markdown",
   "metadata": {},
   "source": [
    "If two compounds have a Tanimoto score of 0.35, it is close to the avaerage Tanimoto score between randomly selected compounds and there is a 50% chance that you will get a score of 0.35 or greater just by selecting two compounds from PubChem.  Therefore, it is reasonable to consider the two compounds are not similar.<br>\n",
    "\n",
    "The Tanimoto index may have a value ranging from 0 (for no similarity) to 1 (for identical molecules) and the midpoint of this value range is 0.5.  Because of this, a Tanimoto score of **0.55** may not sound great enough to consider two compounds to be similar.  However, according to the score distribution curve generated here, only **~5%** of randomly selected compound pairs will have a score greater than this.<br>\n",
    "\n",
    "In the previous section, we computed the similarity scores between some cholesterol-lowering drugs, and CID 60823 and CID 446155 had a Tanimoto score of **0.662**.  Based on the score distribution curve generated in the second section, we can say that the probablilty of two randomly selected compounds from PubChem having a Tanimoto score greater than 0.662 is **less than 1%**."
   ]
  },
  {
   "cell_type": "markdown",
   "metadata": {},
   "source": [
    "The following code cell demonstrates how to find an appropriate similarity score threshold above which a given percentage of the compound pairs will be considered to be similar to each other."
   ]
  },
  {
   "cell_type": "code",
   "execution_count": 75,
   "metadata": {
    "ExecuteTime": {
     "end_time": "2023-12-23T22:47:42.429069042Z",
     "start_time": "2023-12-23T22:47:42.421401861Z"
    }
   },
   "outputs": [],
   "source": [
    "scores.sort()    # Sort the scores in an increasing order."
   ]
  },
  {
   "cell_type": "code",
   "execution_count": 76,
   "metadata": {
    "ExecuteTime": {
     "end_time": "2023-12-23T22:47:42.453697166Z",
     "start_time": "2023-12-23T22:47:42.427191880Z"
    }
   },
   "outputs": [
    {
     "name": "stdout",
     "output_type": "stream",
     "text": [
      "# total compound pairs:    499500\n",
      "# 95% of compound pairs:   484515.0\n",
      "# score at 95% percentile: 0.5945945945945946\n"
     ]
    }
   ],
   "source": [
    "# to find a threshold for top 3% compound pairs (i.e., 97% percentile)\n",
    "print(\"# total compound pairs:   \", len(scores))\n",
    "print(\"# 95% of compound pairs:  \", len(scores) * 0.97)\n",
    "print(\"# score at 95% percentile:\", scores[ round(len(scores) * 0.97) ] )\n"
   ]
  },
  {
   "cell_type": "markdown",
   "metadata": {},
   "source": [
    "**Exercise 3a:** In this exercise, we want to generate the distribution of the similarity scores among 1,000 compounds randomly selected from PubChem, using different molecular fingeprints and similarity metrics.<br>\n",
    "For molecular fingerprints, use the following:\n",
    "- PubChem Fingerprint\n",
    "- MACCS keys\n",
    "- Morgan Fingerprint (ECFP4 analogue, 1024-bit-long)\n",
    "\n",
    "For similarity metrics, use the following:\n",
    "- Tanimoto similarity\n",
    "- Dice similarity\n",
    "- Cosine similarity\n",
    "\n",
    "As a result, a total of 9 distribution curves need to be generated.  \n",
    "\n",
    "Here are additional instructions to follow:\n",
    "- When generating the histograms, bin the scores from 0 to 1 with an increment of 0.01.\n",
    "- For each distribution curve, determine the similarity score threshold so that **1%** of the compound pairs have a similarity score greater than or equal to this threshold.\n",
    "- Use RDKit to generate the MACCS keys and Morgan fingerprint and download the PubChem fingerprints from PubChem.\n",
    "- For reproducibility, use **random.seed(2019)** before you generate random CIDs."
   ]
  },
  {
   "cell_type": "markdown",
   "metadata": {},
   "source": [
    "**Step 1:** Generate 1,000 random CIDs, download the isomeric SMILES for them, and create the RDKit mol objects from the downloaded SMILES strings."
   ]
  },
  {
   "cell_type": "code",
   "execution_count": 77,
   "metadata": {
    "ExecuteTime": {
     "end_time": "2023-12-23T22:47:42.456631581Z",
     "start_time": "2023-12-23T22:47:42.431882333Z"
    }
   },
   "outputs": [],
   "source": [
    "# Write your code in this cell\n",
    "\n",
    "\n",
    "\n"
   ]
  },
  {
   "cell_type": "markdown",
   "metadata": {},
   "source": [
    "**Step 2:**  Generate the fingerprints, compute the similarity scores, determine similarity thresholds, and make histograms."
   ]
  },
  {
   "cell_type": "code",
   "execution_count": 78,
   "metadata": {
    "ExecuteTime": {
     "end_time": "2023-12-23T22:47:42.531579174Z",
     "start_time": "2023-12-23T22:47:42.440929613Z"
    }
   },
   "outputs": [],
   "source": [
    "# Write your code in this cell\n",
    "\n",
    "\n",
    "\n"
   ]
  },
  {
   "cell_type": "code",
   "execution_count": 78,
   "metadata": {
    "ExecuteTime": {
     "end_time": "2023-12-23T22:47:42.554319227Z",
     "start_time": "2023-12-23T22:47:42.445785061Z"
    }
   },
   "outputs": [],
   "source": []
  }
 ],
 "metadata": {
  "kernelspec": {
   "display_name": "Python 3 (ipykernel)",
   "language": "python",
   "name": "python3"
  },
  "language_info": {
   "codemirror_mode": {
    "name": "ipython",
    "version": 3
   },
   "file_extension": ".py",
   "mimetype": "text/x-python",
   "name": "python",
   "nbconvert_exporter": "python",
   "pygments_lexer": "ipython3",
   "version": "3.7.13"
  }
 },
 "nbformat": 4,
 "nbformat_minor": 4
}
