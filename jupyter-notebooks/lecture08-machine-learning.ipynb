{
 "cells": [
  {
   "cell_type": "markdown",
   "metadata": {},
   "source": [
    "# Machine Learning Basics"
   ]
  },
  {
   "cell_type": "markdown",
   "metadata": {},
   "source": [
    "## Objectives\n",
    "\n",
    "- Build binary classification models that predict activity/inactivity of small molecules against human aromatase using supervised learning methods.\n",
    "- Evaluate the performance of the developed models using performance measures."
   ]
  },
  {
   "cell_type": "markdown",
   "metadata": {},
   "source": [
    "## 1. Import bioactivity data from PubChem"
   ]
  },
  {
   "cell_type": "markdown",
   "metadata": {},
   "source": [
    "In this notebook, we will develop a prediction model for small molecule's activity against human aromatase (https://pubchem.ncbi.nlm.nih.gov/protein/EAW77416), which is encoded by the CYP19A1 gene (https://pubchem.ncbi.nlm.nih.gov/gene/1588). The model will predict the activity of a molecule based on the structure of the molecule (represented with molecular fingerprints).\n",
    "\n",
    "For model development, we will use the Tox21 bioassay data for human aromatase, archived in PubChem (https://pubchem.ncbi.nlm.nih.gov/bioassay/743139).  The bioactivity data presented on this page can be downloaded by clicking the \"Download\" button available on this page and then read the data into a data frame.  Alternatively, you can directly load the data into a data frame as shown in the cell below."
   ]
  },
  {
   "cell_type": "code",
   "outputs": [],
   "source": [
    "import os\n",
    "DATA_DIR = 'lecture-8-data'\n",
    "if os.path.isdir(DATA_DIR) is False:\n",
    "    os.mkdir(DATA_DIR)"
   ],
   "metadata": {
    "collapsed": false,
    "ExecuteTime": {
     "end_time": "2023-12-23T22:15:32.138720565Z",
     "start_time": "2023-12-23T22:15:32.132641297Z"
    }
   },
   "execution_count": 82
  },
  {
   "cell_type": "code",
   "execution_count": 83,
   "metadata": {
    "ExecuteTime": {
     "end_time": "2023-12-23T22:15:33.632577713Z",
     "start_time": "2023-12-23T22:15:32.133372804Z"
    }
   },
   "outputs": [],
   "source": [
    "import pandas as pd\n",
    "import numpy as np\n",
    "\n",
    "url = 'https://pubchem.ncbi.nlm.nih.gov/assay/pcget.cgi?query=download&record_type=datatable&actvty=all&response_type=save&aid=743139'\n",
    "df_raw = pd.read_csv(url)"
   ]
  },
  {
   "cell_type": "code",
   "execution_count": 84,
   "metadata": {
    "ExecuteTime": {
     "end_time": "2023-12-23T22:15:33.667572393Z",
     "start_time": "2023-12-23T22:15:33.657326921Z"
    }
   },
   "outputs": [
    {
     "data": {
      "text/plain": "  PUBCHEM_RESULT_TAG  PUBCHEM_SID  PUBCHEM_CID  \\\n0        RESULT_TYPE          NaN          NaN   \n1       RESULT_DESCR          NaN          NaN   \n2        RESULT_UNIT          NaN          NaN   \n3                  1  144203552.0   12850184.0   \n4                  2  144203553.0      89753.0   \n5                  3  144203554.0       9403.0   \n6                  4  144203555.0   13218779.0   \n\n                       PUBCHEM_EXT_DATASOURCE_SMILES PUBCHEM_ACTIVITY_OUTCOME  \\\n0                                                NaN                      NaN   \n1                                                NaN                      NaN   \n2                                                NaN                      NaN   \n3  C(C(=O)[C@H]([C@@H]([C@H](C(=O)[O-])O)O)O)O.C(...                 Inactive   \n4  C([C@H]([C@H]([C@@H]([C@H](C(=O)[O-])O)O)O)O)O...                 Inactive   \n5  C[C@]12CC[C@H]3[C@H]([C@@H]1CC[C@@H]2OC(=O)CCC...                 Inactive   \n6         C[C@@]12CC[C@@H](C1(C)C)C[C@H]2OC(=O)CSC#N                 Inactive   \n\n   PUBCHEM_ACTIVITY_SCORE  PUBCHEM_ACTIVITY_URL  PUBCHEM_ASSAYDATA_COMMENT  \\\n0                     NaN                   NaN                        NaN   \n1                     NaN                   NaN                        NaN   \n2                     NaN                   NaN                        NaN   \n3                     0.0                   NaN                        NaN   \n4                     0.0                   NaN                        NaN   \n5                     0.0                   NaN                        NaN   \n6                     0.0                   NaN                        NaN   \n\n                                    Activity Summary  \\\n0                                             STRING   \n1  Type of compound activity based on both the ar...   \n2                                                NaN   \n3                                           inactive   \n4                                           inactive   \n5                                           inactive   \n6                                           inactive   \n\n                                 Antagonist Activity  \\\n0                                             STRING   \n1  Type of compound activity in the aromatase ant...   \n2                                                NaN   \n3                                           inactive   \n4                                           inactive   \n5                                           inactive   \n6                                           inactive   \n\n                             Antagonist Potency (uM)  \\\n0                                              FLOAT   \n1  The concentration of sample yielding half-maxi...   \n2                                         MICROMOLAR   \n3                                                NaN   \n4                                                NaN   \n5                                                NaN   \n6                                                NaN   \n\n            Antagonist Efficacy (%)  \\\n0                             FLOAT   \n1  Percent inhibition of aromatase.   \n2                           PERCENT   \n3                                 0   \n4                                 0   \n5                                 0   \n6                                 0   \n\n                                  Viability Activity  \\\n0                                             STRING   \n1  Type of compound activity in the cell viabilit...   \n2                                                NaN   \n3                                           inactive   \n4                                           inactive   \n5                                           inactive   \n6                                           inactive   \n\n                              Viability Potency (uM)  \\\n0                                              FLOAT   \n1  The concentration of sample yielding half-maxi...   \n2                                         MICROMOLAR   \n3                                                NaN   \n4                                                NaN   \n5                                                NaN   \n6                                                NaN   \n\n                  Viability Efficacy (%)               Sample Source  \n0                                  FLOAT                      STRING  \n1  Percent inhibition of cell viability.  Where sample was obtained.  \n2                                PERCENT                         NaN  \n3                                      0                         NCI  \n4                                      0                         NCI  \n5                                      0                         NCI  \n6                                      0                         NCI  ",
      "text/html": "<div>\n<style scoped>\n    .dataframe tbody tr th:only-of-type {\n        vertical-align: middle;\n    }\n\n    .dataframe tbody tr th {\n        vertical-align: top;\n    }\n\n    .dataframe thead th {\n        text-align: right;\n    }\n</style>\n<table border=\"1\" class=\"dataframe\">\n  <thead>\n    <tr style=\"text-align: right;\">\n      <th></th>\n      <th>PUBCHEM_RESULT_TAG</th>\n      <th>PUBCHEM_SID</th>\n      <th>PUBCHEM_CID</th>\n      <th>PUBCHEM_EXT_DATASOURCE_SMILES</th>\n      <th>PUBCHEM_ACTIVITY_OUTCOME</th>\n      <th>PUBCHEM_ACTIVITY_SCORE</th>\n      <th>PUBCHEM_ACTIVITY_URL</th>\n      <th>PUBCHEM_ASSAYDATA_COMMENT</th>\n      <th>Activity Summary</th>\n      <th>Antagonist Activity</th>\n      <th>Antagonist Potency (uM)</th>\n      <th>Antagonist Efficacy (%)</th>\n      <th>Viability Activity</th>\n      <th>Viability Potency (uM)</th>\n      <th>Viability Efficacy (%)</th>\n      <th>Sample Source</th>\n    </tr>\n  </thead>\n  <tbody>\n    <tr>\n      <th>0</th>\n      <td>RESULT_TYPE</td>\n      <td>NaN</td>\n      <td>NaN</td>\n      <td>NaN</td>\n      <td>NaN</td>\n      <td>NaN</td>\n      <td>NaN</td>\n      <td>NaN</td>\n      <td>STRING</td>\n      <td>STRING</td>\n      <td>FLOAT</td>\n      <td>FLOAT</td>\n      <td>STRING</td>\n      <td>FLOAT</td>\n      <td>FLOAT</td>\n      <td>STRING</td>\n    </tr>\n    <tr>\n      <th>1</th>\n      <td>RESULT_DESCR</td>\n      <td>NaN</td>\n      <td>NaN</td>\n      <td>NaN</td>\n      <td>NaN</td>\n      <td>NaN</td>\n      <td>NaN</td>\n      <td>NaN</td>\n      <td>Type of compound activity based on both the ar...</td>\n      <td>Type of compound activity in the aromatase ant...</td>\n      <td>The concentration of sample yielding half-maxi...</td>\n      <td>Percent inhibition of aromatase.</td>\n      <td>Type of compound activity in the cell viabilit...</td>\n      <td>The concentration of sample yielding half-maxi...</td>\n      <td>Percent inhibition of cell viability.</td>\n      <td>Where sample was obtained.</td>\n    </tr>\n    <tr>\n      <th>2</th>\n      <td>RESULT_UNIT</td>\n      <td>NaN</td>\n      <td>NaN</td>\n      <td>NaN</td>\n      <td>NaN</td>\n      <td>NaN</td>\n      <td>NaN</td>\n      <td>NaN</td>\n      <td>NaN</td>\n      <td>NaN</td>\n      <td>MICROMOLAR</td>\n      <td>PERCENT</td>\n      <td>NaN</td>\n      <td>MICROMOLAR</td>\n      <td>PERCENT</td>\n      <td>NaN</td>\n    </tr>\n    <tr>\n      <th>3</th>\n      <td>1</td>\n      <td>144203552.0</td>\n      <td>12850184.0</td>\n      <td>C(C(=O)[C@H]([C@@H]([C@H](C(=O)[O-])O)O)O)O.C(...</td>\n      <td>Inactive</td>\n      <td>0.0</td>\n      <td>NaN</td>\n      <td>NaN</td>\n      <td>inactive</td>\n      <td>inactive</td>\n      <td>NaN</td>\n      <td>0</td>\n      <td>inactive</td>\n      <td>NaN</td>\n      <td>0</td>\n      <td>NCI</td>\n    </tr>\n    <tr>\n      <th>4</th>\n      <td>2</td>\n      <td>144203553.0</td>\n      <td>89753.0</td>\n      <td>C([C@H]([C@H]([C@@H]([C@H](C(=O)[O-])O)O)O)O)O...</td>\n      <td>Inactive</td>\n      <td>0.0</td>\n      <td>NaN</td>\n      <td>NaN</td>\n      <td>inactive</td>\n      <td>inactive</td>\n      <td>NaN</td>\n      <td>0</td>\n      <td>inactive</td>\n      <td>NaN</td>\n      <td>0</td>\n      <td>NCI</td>\n    </tr>\n    <tr>\n      <th>5</th>\n      <td>3</td>\n      <td>144203554.0</td>\n      <td>9403.0</td>\n      <td>C[C@]12CC[C@H]3[C@H]([C@@H]1CC[C@@H]2OC(=O)CCC...</td>\n      <td>Inactive</td>\n      <td>0.0</td>\n      <td>NaN</td>\n      <td>NaN</td>\n      <td>inactive</td>\n      <td>inactive</td>\n      <td>NaN</td>\n      <td>0</td>\n      <td>inactive</td>\n      <td>NaN</td>\n      <td>0</td>\n      <td>NCI</td>\n    </tr>\n    <tr>\n      <th>6</th>\n      <td>4</td>\n      <td>144203555.0</td>\n      <td>13218779.0</td>\n      <td>C[C@@]12CC[C@@H](C1(C)C)C[C@H]2OC(=O)CSC#N</td>\n      <td>Inactive</td>\n      <td>0.0</td>\n      <td>NaN</td>\n      <td>NaN</td>\n      <td>inactive</td>\n      <td>inactive</td>\n      <td>NaN</td>\n      <td>0</td>\n      <td>inactive</td>\n      <td>NaN</td>\n      <td>0</td>\n      <td>NCI</td>\n    </tr>\n  </tbody>\n</table>\n</div>"
     },
     "execution_count": 84,
     "metadata": {},
     "output_type": "execute_result"
    }
   ],
   "source": [
    "df_raw.head(7)"
   ]
  },
  {
   "cell_type": "markdown",
   "metadata": {},
   "source": [
    "__Note:__ Lines 0-2 provide the descriptions for each column (data type, descriptions, units, etc).  These rows need be removed."
   ]
  },
  {
   "cell_type": "code",
   "execution_count": 85,
   "metadata": {
    "ExecuteTime": {
     "end_time": "2023-12-23T22:15:33.736685757Z",
     "start_time": "2023-12-23T22:15:33.671016796Z"
    }
   },
   "outputs": [
    {
     "data": {
      "text/plain": "  PUBCHEM_RESULT_TAG  PUBCHEM_SID  PUBCHEM_CID  \\\n3                  1  144203552.0   12850184.0   \n4                  2  144203553.0      89753.0   \n5                  3  144203554.0       9403.0   \n6                  4  144203555.0   13218779.0   \n7                  5  144203556.0     142766.0   \n\n                       PUBCHEM_EXT_DATASOURCE_SMILES PUBCHEM_ACTIVITY_OUTCOME  \\\n3  C(C(=O)[C@H]([C@@H]([C@H](C(=O)[O-])O)O)O)O.C(...                 Inactive   \n4  C([C@H]([C@H]([C@@H]([C@H](C(=O)[O-])O)O)O)O)O...                 Inactive   \n5  C[C@]12CC[C@H]3[C@H]([C@@H]1CC[C@@H]2OC(=O)CCC...                 Inactive   \n6         C[C@@]12CC[C@@H](C1(C)C)C[C@H]2OC(=O)CSC#N                 Inactive   \n7    C1=CC=C(C(=C1)C(=O)O)O.C1=CC2=C(C(=C1)O)N=CC=C2             Inconclusive   \n\n   PUBCHEM_ACTIVITY_SCORE  PUBCHEM_ACTIVITY_URL  PUBCHEM_ASSAYDATA_COMMENT  \\\n3                     0.0                   NaN                        NaN   \n4                     0.0                   NaN                        NaN   \n5                     0.0                   NaN                        NaN   \n6                     0.0                   NaN                        NaN   \n7                    25.0                   NaN                        NaN   \n\n                      Activity Summary Antagonist Activity  \\\n3                             inactive            inactive   \n4                             inactive            inactive   \n5                             inactive            inactive   \n6                             inactive            inactive   \n7  inconclusive antagonist (cytotoxic)   active antagonist   \n\n  Antagonist Potency (uM) Antagonist Efficacy (%) Viability Activity  \\\n3                     NaN                       0           inactive   \n4                     NaN                       0           inactive   \n5                     NaN                       0           inactive   \n6                     NaN                       0           inactive   \n7                 15.5454                -115.803  active antagonist   \n\n  Viability Potency (uM) Viability Efficacy (%) Sample Source  \n3                    NaN                      0           NCI  \n4                    NaN                      0           NCI  \n5                    NaN                      0           NCI  \n6                    NaN                      0           NCI  \n7                14.9601               -76.8218           NCI  ",
      "text/html": "<div>\n<style scoped>\n    .dataframe tbody tr th:only-of-type {\n        vertical-align: middle;\n    }\n\n    .dataframe tbody tr th {\n        vertical-align: top;\n    }\n\n    .dataframe thead th {\n        text-align: right;\n    }\n</style>\n<table border=\"1\" class=\"dataframe\">\n  <thead>\n    <tr style=\"text-align: right;\">\n      <th></th>\n      <th>PUBCHEM_RESULT_TAG</th>\n      <th>PUBCHEM_SID</th>\n      <th>PUBCHEM_CID</th>\n      <th>PUBCHEM_EXT_DATASOURCE_SMILES</th>\n      <th>PUBCHEM_ACTIVITY_OUTCOME</th>\n      <th>PUBCHEM_ACTIVITY_SCORE</th>\n      <th>PUBCHEM_ACTIVITY_URL</th>\n      <th>PUBCHEM_ASSAYDATA_COMMENT</th>\n      <th>Activity Summary</th>\n      <th>Antagonist Activity</th>\n      <th>Antagonist Potency (uM)</th>\n      <th>Antagonist Efficacy (%)</th>\n      <th>Viability Activity</th>\n      <th>Viability Potency (uM)</th>\n      <th>Viability Efficacy (%)</th>\n      <th>Sample Source</th>\n    </tr>\n  </thead>\n  <tbody>\n    <tr>\n      <th>3</th>\n      <td>1</td>\n      <td>144203552.0</td>\n      <td>12850184.0</td>\n      <td>C(C(=O)[C@H]([C@@H]([C@H](C(=O)[O-])O)O)O)O.C(...</td>\n      <td>Inactive</td>\n      <td>0.0</td>\n      <td>NaN</td>\n      <td>NaN</td>\n      <td>inactive</td>\n      <td>inactive</td>\n      <td>NaN</td>\n      <td>0</td>\n      <td>inactive</td>\n      <td>NaN</td>\n      <td>0</td>\n      <td>NCI</td>\n    </tr>\n    <tr>\n      <th>4</th>\n      <td>2</td>\n      <td>144203553.0</td>\n      <td>89753.0</td>\n      <td>C([C@H]([C@H]([C@@H]([C@H](C(=O)[O-])O)O)O)O)O...</td>\n      <td>Inactive</td>\n      <td>0.0</td>\n      <td>NaN</td>\n      <td>NaN</td>\n      <td>inactive</td>\n      <td>inactive</td>\n      <td>NaN</td>\n      <td>0</td>\n      <td>inactive</td>\n      <td>NaN</td>\n      <td>0</td>\n      <td>NCI</td>\n    </tr>\n    <tr>\n      <th>5</th>\n      <td>3</td>\n      <td>144203554.0</td>\n      <td>9403.0</td>\n      <td>C[C@]12CC[C@H]3[C@H]([C@@H]1CC[C@@H]2OC(=O)CCC...</td>\n      <td>Inactive</td>\n      <td>0.0</td>\n      <td>NaN</td>\n      <td>NaN</td>\n      <td>inactive</td>\n      <td>inactive</td>\n      <td>NaN</td>\n      <td>0</td>\n      <td>inactive</td>\n      <td>NaN</td>\n      <td>0</td>\n      <td>NCI</td>\n    </tr>\n    <tr>\n      <th>6</th>\n      <td>4</td>\n      <td>144203555.0</td>\n      <td>13218779.0</td>\n      <td>C[C@@]12CC[C@@H](C1(C)C)C[C@H]2OC(=O)CSC#N</td>\n      <td>Inactive</td>\n      <td>0.0</td>\n      <td>NaN</td>\n      <td>NaN</td>\n      <td>inactive</td>\n      <td>inactive</td>\n      <td>NaN</td>\n      <td>0</td>\n      <td>inactive</td>\n      <td>NaN</td>\n      <td>0</td>\n      <td>NCI</td>\n    </tr>\n    <tr>\n      <th>7</th>\n      <td>5</td>\n      <td>144203556.0</td>\n      <td>142766.0</td>\n      <td>C1=CC=C(C(=C1)C(=O)O)O.C1=CC2=C(C(=C1)O)N=CC=C2</td>\n      <td>Inconclusive</td>\n      <td>25.0</td>\n      <td>NaN</td>\n      <td>NaN</td>\n      <td>inconclusive antagonist (cytotoxic)</td>\n      <td>active antagonist</td>\n      <td>15.5454</td>\n      <td>-115.803</td>\n      <td>active antagonist</td>\n      <td>14.9601</td>\n      <td>-76.8218</td>\n      <td>NCI</td>\n    </tr>\n  </tbody>\n</table>\n</div>"
     },
     "execution_count": 85,
     "metadata": {},
     "output_type": "execute_result"
    }
   ],
   "source": [
    "df_raw = df_raw[3:]\n",
    "df_raw.head(5)"
   ]
  },
  {
   "cell_type": "markdown",
   "metadata": {},
   "source": [
    "The column names in this data frame contain white spaces and special characters.  For simplicity, let's rename the columns (no spaces or special characters except for the \"_\" character.)"
   ]
  },
  {
   "cell_type": "code",
   "execution_count": 86,
   "metadata": {
    "ExecuteTime": {
     "end_time": "2023-12-23T22:15:33.791841232Z",
     "start_time": "2023-12-23T22:15:33.694155471Z"
    }
   },
   "outputs": [
    {
     "data": {
      "text/plain": "Index(['PUBCHEM_RESULT_TAG', 'PUBCHEM_SID', 'PUBCHEM_CID',\n       'PUBCHEM_EXT_DATASOURCE_SMILES', 'PUBCHEM_ACTIVITY_OUTCOME',\n       'PUBCHEM_ACTIVITY_SCORE', 'PUBCHEM_ACTIVITY_URL',\n       'PUBCHEM_ASSAYDATA_COMMENT', 'Activity Summary', 'Antagonist Activity',\n       'Antagonist Potency (uM)', 'Antagonist Efficacy (%)',\n       'Viability Activity', 'Viability Potency (uM)',\n       'Viability Efficacy (%)', 'Sample Source'],\n      dtype='object')"
     },
     "execution_count": 86,
     "metadata": {},
     "output_type": "execute_result"
    }
   ],
   "source": [
    "df_raw.columns"
   ]
  },
  {
   "cell_type": "code",
   "execution_count": 87,
   "metadata": {
    "ExecuteTime": {
     "end_time": "2023-12-23T22:15:33.796305035Z",
     "start_time": "2023-12-23T22:15:33.703646729Z"
    }
   },
   "outputs": [],
   "source": [
    "col_names_map = {'PUBCHEM_RESULT_TAG' : 'pc_result_tag', \n",
    "                 'PUBCHEM_SID' : 'sid', \n",
    "                 'PUBCHEM_CID' : 'cid',\n",
    "                 'PUBCHEM_ACTIVITY_OUTCOME' : 'activity_outcome', \n",
    "                 'PUBCHEM_ACTIVITY_SCORE' : 'activity_score',\n",
    "                 'PUBCHEM_ACTIVITY_URL' : 'activity_url', \n",
    "                 'PUBCHEM_ASSAYDATA_COMMENT' : 'assay_data_comment', \n",
    "                 'Activity Summary' : 'activity_summary',\n",
    "                 'Antagonist Activity' : 'antagonist_activity', \n",
    "                 'Antagonist Potency (uM)' : 'antagonist_potency', \n",
    "                 'Antagonist Efficacy (%)' : 'antagonist_efficacy',\n",
    "                 'Viability Activity' : 'viability_activity', \n",
    "                 'Viability Potency (uM)' : 'viability_potency',\n",
    "                 'Viability Efficacy (%)' : 'viability_efficacy', \n",
    "                 'Sample Source' : 'sample_source' }"
   ]
  },
  {
   "cell_type": "code",
   "execution_count": 88,
   "metadata": {
    "ExecuteTime": {
     "end_time": "2023-12-23T22:15:33.906476742Z",
     "start_time": "2023-12-23T22:15:33.710363873Z"
    }
   },
   "outputs": [
    {
     "data": {
      "text/plain": "Index(['pc_result_tag', 'sid', 'cid', 'PUBCHEM_EXT_DATASOURCE_SMILES',\n       'activity_outcome', 'activity_score', 'activity_url',\n       'assay_data_comment', 'activity_summary', 'antagonist_activity',\n       'antagonist_potency', 'antagonist_efficacy', 'viability_activity',\n       'viability_potency', 'viability_efficacy', 'sample_source'],\n      dtype='object')"
     },
     "execution_count": 88,
     "metadata": {},
     "output_type": "execute_result"
    }
   ],
   "source": [
    "df_raw = df_raw.rename(columns = col_names_map)\n",
    "df_raw.columns"
   ]
  },
  {
   "cell_type": "markdown",
   "metadata": {},
   "source": [
    "## 2. Check the number of compounds for each activity group"
   ]
  },
  {
   "cell_type": "markdown",
   "metadata": {},
   "source": [
    "First, we need to understand what our data look like.  Especially, we are interested in the activity class of the tested compounds because we are developing a model that classifies small molecules according to their activities against the target.  This information is available in the \"**activity_outcome**\" and \"**activity_summary**\" columns."
   ]
  },
  {
   "cell_type": "code",
   "execution_count": 89,
   "metadata": {
    "ExecuteTime": {
     "end_time": "2023-12-23T22:15:33.946542899Z",
     "start_time": "2023-12-23T22:15:33.752228266Z"
    }
   },
   "outputs": [
    {
     "data": {
      "text/plain": "                  pc_result_tag   sid   cid  PUBCHEM_EXT_DATASOURCE_SMILES  \\\nactivity_outcome                                                             \nActive                      379   379   378                            378   \nInactive                   7562  7562  7466                           7466   \nInconclusive               2545  2545  2493                           2493   \n\n                  activity_score  activity_url  assay_data_comment  \\\nactivity_outcome                                                     \nActive                       379             0                   0   \nInactive                    7562             0                   0   \nInconclusive                2545             0                   0   \n\n                  activity_summary  antagonist_activity  antagonist_potency  \\\nactivity_outcome                                                              \nActive                         379                  379                 378   \nInactive                      7562                 7562                   0   \nInconclusive                  2545                 2545                2111   \n\n                  antagonist_efficacy  viability_activity  viability_potency  \\\nactivity_outcome                                                               \nActive                            379                 379                115   \nInactive                         7562                7562                324   \nInconclusive                     2136                2545               1206   \n\n                  viability_efficacy  sample_source  \nactivity_outcome                                     \nActive                           359            379  \nInactive                        7449           7562  \nInconclusive                    2450           2545  ",
      "text/html": "<div>\n<style scoped>\n    .dataframe tbody tr th:only-of-type {\n        vertical-align: middle;\n    }\n\n    .dataframe tbody tr th {\n        vertical-align: top;\n    }\n\n    .dataframe thead th {\n        text-align: right;\n    }\n</style>\n<table border=\"1\" class=\"dataframe\">\n  <thead>\n    <tr style=\"text-align: right;\">\n      <th></th>\n      <th>pc_result_tag</th>\n      <th>sid</th>\n      <th>cid</th>\n      <th>PUBCHEM_EXT_DATASOURCE_SMILES</th>\n      <th>activity_score</th>\n      <th>activity_url</th>\n      <th>assay_data_comment</th>\n      <th>activity_summary</th>\n      <th>antagonist_activity</th>\n      <th>antagonist_potency</th>\n      <th>antagonist_efficacy</th>\n      <th>viability_activity</th>\n      <th>viability_potency</th>\n      <th>viability_efficacy</th>\n      <th>sample_source</th>\n    </tr>\n    <tr>\n      <th>activity_outcome</th>\n      <th></th>\n      <th></th>\n      <th></th>\n      <th></th>\n      <th></th>\n      <th></th>\n      <th></th>\n      <th></th>\n      <th></th>\n      <th></th>\n      <th></th>\n      <th></th>\n      <th></th>\n      <th></th>\n      <th></th>\n    </tr>\n  </thead>\n  <tbody>\n    <tr>\n      <th>Active</th>\n      <td>379</td>\n      <td>379</td>\n      <td>378</td>\n      <td>378</td>\n      <td>379</td>\n      <td>0</td>\n      <td>0</td>\n      <td>379</td>\n      <td>379</td>\n      <td>378</td>\n      <td>379</td>\n      <td>379</td>\n      <td>115</td>\n      <td>359</td>\n      <td>379</td>\n    </tr>\n    <tr>\n      <th>Inactive</th>\n      <td>7562</td>\n      <td>7562</td>\n      <td>7466</td>\n      <td>7466</td>\n      <td>7562</td>\n      <td>0</td>\n      <td>0</td>\n      <td>7562</td>\n      <td>7562</td>\n      <td>0</td>\n      <td>7562</td>\n      <td>7562</td>\n      <td>324</td>\n      <td>7449</td>\n      <td>7562</td>\n    </tr>\n    <tr>\n      <th>Inconclusive</th>\n      <td>2545</td>\n      <td>2545</td>\n      <td>2493</td>\n      <td>2493</td>\n      <td>2545</td>\n      <td>0</td>\n      <td>0</td>\n      <td>2545</td>\n      <td>2545</td>\n      <td>2111</td>\n      <td>2136</td>\n      <td>2545</td>\n      <td>1206</td>\n      <td>2450</td>\n      <td>2545</td>\n    </tr>\n  </tbody>\n</table>\n</div>"
     },
     "execution_count": 89,
     "metadata": {},
     "output_type": "execute_result"
    }
   ],
   "source": [
    "df_raw.groupby(['activity_outcome']).count()"
   ]
  },
  {
   "cell_type": "markdown",
   "metadata": {},
   "source": [
    "Based on the data in the **activity_outcome** column, there are 379 actives, 7562 inactives, and 2545 inconclusives."
   ]
  },
  {
   "cell_type": "code",
   "execution_count": 90,
   "metadata": {
    "ExecuteTime": {
     "end_time": "2023-12-23T22:15:33.998754043Z",
     "start_time": "2023-12-23T22:15:33.796433912Z"
    }
   },
   "outputs": [
    {
     "data": {
      "text/plain": "                                                      pc_result_tag   sid  \\\nactivity_outcome activity_summary                                           \nActive           active antagonist                              379   379   \nInactive         inactive                                      7562  7562   \nInconclusive     active agonist                                 612   612   \n                 inconclusive                                    44    44   \n                 inconclusive agonist                           414   414   \n                 inconclusive agonist (cytotoxic)                59    59   \n                 inconclusive antagonist                        367   367   \n                 inconclusive antagonist (cytotoxic)           1049  1049   \n\n                                                       cid  \\\nactivity_outcome activity_summary                            \nActive           active antagonist                     378   \nInactive         inactive                             7466   \nInconclusive     active agonist                        571   \n                 inconclusive                           44   \n                 inconclusive agonist                  409   \n                 inconclusive agonist (cytotoxic)       59   \n                 inconclusive antagonist               364   \n                 inconclusive antagonist (cytotoxic)  1046   \n\n                                                      PUBCHEM_EXT_DATASOURCE_SMILES  \\\nactivity_outcome activity_summary                                                     \nActive           active antagonist                                              378   \nInactive         inactive                                                      7466   \nInconclusive     active agonist                                                 571   \n                 inconclusive                                                    44   \n                 inconclusive agonist                                           409   \n                 inconclusive agonist (cytotoxic)                                59   \n                 inconclusive antagonist                                        364   \n                 inconclusive antagonist (cytotoxic)                           1046   \n\n                                                      activity_score  \\\nactivity_outcome activity_summary                                      \nActive           active antagonist                               379   \nInactive         inactive                                       7562   \nInconclusive     active agonist                                  612   \n                 inconclusive                                     44   \n                 inconclusive agonist                            414   \n                 inconclusive agonist (cytotoxic)                 59   \n                 inconclusive antagonist                         367   \n                 inconclusive antagonist (cytotoxic)            1049   \n\n                                                      activity_url  \\\nactivity_outcome activity_summary                                    \nActive           active antagonist                               0   \nInactive         inactive                                        0   \nInconclusive     active agonist                                  0   \n                 inconclusive                                    0   \n                 inconclusive agonist                            0   \n                 inconclusive agonist (cytotoxic)                0   \n                 inconclusive antagonist                         0   \n                 inconclusive antagonist (cytotoxic)             0   \n\n                                                      assay_data_comment  \\\nactivity_outcome activity_summary                                          \nActive           active antagonist                                     0   \nInactive         inactive                                              0   \nInconclusive     active agonist                                        0   \n                 inconclusive                                          0   \n                 inconclusive agonist                                  0   \n                 inconclusive agonist (cytotoxic)                      0   \n                 inconclusive antagonist                               0   \n                 inconclusive antagonist (cytotoxic)                   0   \n\n                                                      antagonist_activity  \\\nactivity_outcome activity_summary                                           \nActive           active antagonist                                    379   \nInactive         inactive                                            7562   \nInconclusive     active agonist                                       612   \n                 inconclusive                                          44   \n                 inconclusive agonist                                 414   \n                 inconclusive agonist (cytotoxic)                      59   \n                 inconclusive antagonist                              367   \n                 inconclusive antagonist (cytotoxic)                 1049   \n\n                                                      antagonist_potency  \\\nactivity_outcome activity_summary                                          \nActive           active antagonist                                   378   \nInactive         inactive                                              0   \nInconclusive     active agonist                                      612   \n                 inconclusive                                          0   \n                 inconclusive agonist                                212   \n                 inconclusive agonist (cytotoxic)                     41   \n                 inconclusive antagonist                             227   \n                 inconclusive antagonist (cytotoxic)                1019   \n\n                                                      antagonist_efficacy  \\\nactivity_outcome activity_summary                                           \nActive           active antagonist                                    379   \nInactive         inactive                                            7562   \nInconclusive     active agonist                                       612   \n                 inconclusive                                           0   \n                 inconclusive agonist                                 223   \n                 inconclusive agonist (cytotoxic)                      45   \n                 inconclusive antagonist                              230   \n                 inconclusive antagonist (cytotoxic)                 1026   \n\n                                                      viability_activity  \\\nactivity_outcome activity_summary                                          \nActive           active antagonist                                   379   \nInactive         inactive                                           7562   \nInconclusive     active agonist                                      612   \n                 inconclusive                                         44   \n                 inconclusive agonist                                414   \n                 inconclusive agonist (cytotoxic)                     59   \n                 inconclusive antagonist                             367   \n                 inconclusive antagonist (cytotoxic)                1049   \n\n                                                      viability_potency  \\\nactivity_outcome activity_summary                                         \nActive           active antagonist                                  115   \nInactive         inactive                                           324   \nInconclusive     active agonist                                      60   \n                 inconclusive                                        19   \n                 inconclusive agonist                                12   \n                 inconclusive agonist (cytotoxic)                    59   \n                 inconclusive antagonist                              8   \n                 inconclusive antagonist (cytotoxic)               1048   \n\n                                                      viability_efficacy  \\\nactivity_outcome activity_summary                                          \nActive           active antagonist                                   359   \nInactive         inactive                                           7449   \nInconclusive     active agonist                                      590   \n                 inconclusive                                         42   \n                 inconclusive agonist                                397   \n                 inconclusive agonist (cytotoxic)                     59   \n                 inconclusive antagonist                             313   \n                 inconclusive antagonist (cytotoxic)                1049   \n\n                                                      sample_source  \nactivity_outcome activity_summary                                    \nActive           active antagonist                              379  \nInactive         inactive                                      7562  \nInconclusive     active agonist                                 612  \n                 inconclusive                                    44  \n                 inconclusive agonist                           414  \n                 inconclusive agonist (cytotoxic)                59  \n                 inconclusive antagonist                        367  \n                 inconclusive antagonist (cytotoxic)           1049  ",
      "text/html": "<div>\n<style scoped>\n    .dataframe tbody tr th:only-of-type {\n        vertical-align: middle;\n    }\n\n    .dataframe tbody tr th {\n        vertical-align: top;\n    }\n\n    .dataframe thead th {\n        text-align: right;\n    }\n</style>\n<table border=\"1\" class=\"dataframe\">\n  <thead>\n    <tr style=\"text-align: right;\">\n      <th></th>\n      <th></th>\n      <th>pc_result_tag</th>\n      <th>sid</th>\n      <th>cid</th>\n      <th>PUBCHEM_EXT_DATASOURCE_SMILES</th>\n      <th>activity_score</th>\n      <th>activity_url</th>\n      <th>assay_data_comment</th>\n      <th>antagonist_activity</th>\n      <th>antagonist_potency</th>\n      <th>antagonist_efficacy</th>\n      <th>viability_activity</th>\n      <th>viability_potency</th>\n      <th>viability_efficacy</th>\n      <th>sample_source</th>\n    </tr>\n    <tr>\n      <th>activity_outcome</th>\n      <th>activity_summary</th>\n      <th></th>\n      <th></th>\n      <th></th>\n      <th></th>\n      <th></th>\n      <th></th>\n      <th></th>\n      <th></th>\n      <th></th>\n      <th></th>\n      <th></th>\n      <th></th>\n      <th></th>\n      <th></th>\n    </tr>\n  </thead>\n  <tbody>\n    <tr>\n      <th>Active</th>\n      <th>active antagonist</th>\n      <td>379</td>\n      <td>379</td>\n      <td>378</td>\n      <td>378</td>\n      <td>379</td>\n      <td>0</td>\n      <td>0</td>\n      <td>379</td>\n      <td>378</td>\n      <td>379</td>\n      <td>379</td>\n      <td>115</td>\n      <td>359</td>\n      <td>379</td>\n    </tr>\n    <tr>\n      <th>Inactive</th>\n      <th>inactive</th>\n      <td>7562</td>\n      <td>7562</td>\n      <td>7466</td>\n      <td>7466</td>\n      <td>7562</td>\n      <td>0</td>\n      <td>0</td>\n      <td>7562</td>\n      <td>0</td>\n      <td>7562</td>\n      <td>7562</td>\n      <td>324</td>\n      <td>7449</td>\n      <td>7562</td>\n    </tr>\n    <tr>\n      <th rowspan=\"6\" valign=\"top\">Inconclusive</th>\n      <th>active agonist</th>\n      <td>612</td>\n      <td>612</td>\n      <td>571</td>\n      <td>571</td>\n      <td>612</td>\n      <td>0</td>\n      <td>0</td>\n      <td>612</td>\n      <td>612</td>\n      <td>612</td>\n      <td>612</td>\n      <td>60</td>\n      <td>590</td>\n      <td>612</td>\n    </tr>\n    <tr>\n      <th>inconclusive</th>\n      <td>44</td>\n      <td>44</td>\n      <td>44</td>\n      <td>44</td>\n      <td>44</td>\n      <td>0</td>\n      <td>0</td>\n      <td>44</td>\n      <td>0</td>\n      <td>0</td>\n      <td>44</td>\n      <td>19</td>\n      <td>42</td>\n      <td>44</td>\n    </tr>\n    <tr>\n      <th>inconclusive agonist</th>\n      <td>414</td>\n      <td>414</td>\n      <td>409</td>\n      <td>409</td>\n      <td>414</td>\n      <td>0</td>\n      <td>0</td>\n      <td>414</td>\n      <td>212</td>\n      <td>223</td>\n      <td>414</td>\n      <td>12</td>\n      <td>397</td>\n      <td>414</td>\n    </tr>\n    <tr>\n      <th>inconclusive agonist (cytotoxic)</th>\n      <td>59</td>\n      <td>59</td>\n      <td>59</td>\n      <td>59</td>\n      <td>59</td>\n      <td>0</td>\n      <td>0</td>\n      <td>59</td>\n      <td>41</td>\n      <td>45</td>\n      <td>59</td>\n      <td>59</td>\n      <td>59</td>\n      <td>59</td>\n    </tr>\n    <tr>\n      <th>inconclusive antagonist</th>\n      <td>367</td>\n      <td>367</td>\n      <td>364</td>\n      <td>364</td>\n      <td>367</td>\n      <td>0</td>\n      <td>0</td>\n      <td>367</td>\n      <td>227</td>\n      <td>230</td>\n      <td>367</td>\n      <td>8</td>\n      <td>313</td>\n      <td>367</td>\n    </tr>\n    <tr>\n      <th>inconclusive antagonist (cytotoxic)</th>\n      <td>1049</td>\n      <td>1049</td>\n      <td>1046</td>\n      <td>1046</td>\n      <td>1049</td>\n      <td>0</td>\n      <td>0</td>\n      <td>1049</td>\n      <td>1019</td>\n      <td>1026</td>\n      <td>1049</td>\n      <td>1048</td>\n      <td>1049</td>\n      <td>1049</td>\n    </tr>\n  </tbody>\n</table>\n</div>"
     },
     "execution_count": 90,
     "metadata": {},
     "output_type": "execute_result"
    }
   ],
   "source": [
    "df_raw.groupby(['activity_outcome','activity_summary']).count()"
   ]
  },
  {
   "cell_type": "markdown",
   "metadata": {},
   "source": [
    "Now, we can see that, in the **activity_summary** column, the inconclusive compounds are further classified into subclasses, which include:\n",
    "\n",
    "- **active agonist**\n",
    "- inconclusive\n",
    "- inconclusive agonist\n",
    "- inconclusive antagonist\n",
    "- inconclusive agonist (cytotoxic)\n",
    "- inconclusive antagonist (cytotoxic)\n",
    "\n"
   ]
  },
  {
   "cell_type": "markdown",
   "metadata": {},
   "source": [
    "As implied in the title of this assay record (https://pubchem.ncbi.nlm.nih.gov/bioassay/743139), this assay aims to identify **aromatase inhibitors**.  Therefore, all **active antagonists** (in the activity summary column) were declared to be **active** compounds (in the activity outcome column).\n",
    "\n",
    "On the other hand, the assay also identified 612 **active agonists** (in the activity summary column), and they are declared to be **inconclusive** (in the activity outcome column).\n",
    "\n",
    "With that said, \"inactive\" compounds in this assay means those which are neither active agonists nor active antagonist."
   ]
  },
  {
   "cell_type": "markdown",
   "metadata": {},
   "source": [
    "It is important to understand that the criteria used for determining whether a compound is active or not in a given assay are selected by the data source who submitted that assay data to PubChem.  For the purpose of this assignment (which aims to develop a binary classifier that tells if a molecule is active or inactive against the target), we should clarify what we mean by \"active\" and \"inactive\".\n",
    "\n",
    "- **active** : any compounds that can change (either increase or decrease) the activity of the target.  This is equivalent to either **active antagonists** or **active agonists** in the activity summary column.\n",
    "- **inactive** : any compounds that do not change the activity of the target.  This is equivalent to **inactive** compounds in the activity summary column."
   ]
  },
  {
   "cell_type": "markdown",
   "metadata": {},
   "source": [
    "## 3. Select active/inactive compounds for model building"
   ]
  },
  {
   "cell_type": "markdown",
   "metadata": {},
   "source": [
    "Now we want to select only the active and inactive compounds from the data frame (that is, active agonists, active antagonists, and inactives based on the \"activity summary\" column)."
   ]
  },
  {
   "cell_type": "code",
   "execution_count": 91,
   "metadata": {
    "ExecuteTime": {
     "end_time": "2023-12-23T22:15:34.033620268Z",
     "start_time": "2023-12-23T22:15:33.844328265Z"
    }
   },
   "outputs": [
    {
     "data": {
      "text/plain": "8553"
     },
     "execution_count": 91,
     "metadata": {},
     "output_type": "execute_result"
    }
   ],
   "source": [
    "df = df_raw[ (df_raw['activity_summary'] == 'active agonist' ) | \n",
    "             (df_raw['activity_summary'] == 'active antagonist' ) |\n",
    "             (df_raw['activity_summary'] == 'inactive' ) ]\n",
    "\n",
    "len(df)"
   ]
  },
  {
   "cell_type": "code",
   "execution_count": 92,
   "metadata": {
    "ExecuteTime": {
     "end_time": "2023-12-23T22:15:34.034394817Z",
     "start_time": "2023-12-23T22:15:33.845007466Z"
    }
   },
   "outputs": [
    {
     "name": "stdout",
     "output_type": "stream",
     "text": [
      "8553\n",
      "6858\n"
     ]
    }
   ],
   "source": [
    "print(len(df['sid'].unique()))\n",
    "print(len(df['cid'].unique()))"
   ]
  },
  {
   "cell_type": "markdown",
   "metadata": {},
   "source": [
    "Note that the number of CIDs is not the same as the number of SIDs.  There are two important potential reasons for this observation.  \n",
    "\n",
    "First, not all substances (SIDs) in PubChem have associated compounds (CIDs) because some substances failed during structure standardization.  \\[Remember that, in PubChem, substances are depositor-provided structures and compounds are unique structures extracted from substances through structure standardization.]  Because our model will use structural information of molecules to predict their bioactivity, we need to remove substances without associated CIDs (i.e., no standardized structures).\n",
    "\n",
    "Second, some compounds are associated with more than one substances.  In the context of this assay, it means that a compound may be tested multiple times in different samples (which are designated as different substances).  It is not uncommon that different samples of the same chemical may result in conflicting activities (e.g., active agonist in one sample but inactive in another sample).  In this practice, we remove such compounds with conflicting activities."
   ]
  },
  {
   "cell_type": "markdown",
   "metadata": {},
   "source": [
    "## 3-(1) Drop substances without associated CIDs."
   ]
  },
  {
   "cell_type": "markdown",
   "metadata": {},
   "source": [
    "First, check if there are subtances without associated CIDs."
   ]
  },
  {
   "cell_type": "code",
   "execution_count": 93,
   "metadata": {
    "ExecuteTime": {
     "end_time": "2023-12-23T22:15:34.041399632Z",
     "start_time": "2023-12-23T22:15:33.845927830Z"
    }
   },
   "outputs": [
    {
     "data": {
      "text/plain": "pc_result_tag                       0\nsid                                 0\ncid                               138\nPUBCHEM_EXT_DATASOURCE_SMILES     138\nactivity_outcome                    0\nactivity_score                      0\nactivity_url                     8553\nassay_data_comment               8553\nactivity_summary                    0\nantagonist_activity                 0\nantagonist_potency               7563\nantagonist_efficacy                 0\nviability_activity                  0\nviability_potency                8054\nviability_efficacy                155\nsample_source                       0\ndtype: int64"
     },
     "execution_count": 93,
     "metadata": {},
     "output_type": "execute_result"
    }
   ],
   "source": [
    "df.isna().sum()"
   ]
  },
  {
   "cell_type": "markdown",
   "metadata": {},
   "source": [
    "There are 138 records whose \"cid\" column is NULL, and we want to remove those records."
   ]
  },
  {
   "cell_type": "code",
   "execution_count": 94,
   "metadata": {
    "ExecuteTime": {
     "end_time": "2023-12-23T22:15:34.046683095Z",
     "start_time": "2023-12-23T22:15:33.846726660Z"
    }
   },
   "outputs": [
    {
     "data": {
      "text/plain": "8415"
     },
     "execution_count": 94,
     "metadata": {},
     "output_type": "execute_result"
    }
   ],
   "source": [
    "df = df.dropna( subset=['cid'] )\n",
    "len(df)"
   ]
  },
  {
   "cell_type": "code",
   "execution_count": 95,
   "metadata": {
    "ExecuteTime": {
     "end_time": "2023-12-23T22:15:34.141183804Z",
     "start_time": "2023-12-23T22:15:33.857554530Z"
    }
   },
   "outputs": [
    {
     "name": "stdout",
     "output_type": "stream",
     "text": [
      "8415\n",
      "6857\n"
     ]
    }
   ],
   "source": [
    "print(len(df['sid'].unique()))\n",
    "print(len(df['cid'].unique()))"
   ]
  },
  {
   "cell_type": "code",
   "execution_count": 96,
   "metadata": {
    "ExecuteTime": {
     "end_time": "2023-12-23T22:15:34.156793049Z",
     "start_time": "2023-12-23T22:15:33.876071433Z"
    }
   },
   "outputs": [
    {
     "data": {
      "text/plain": "pc_result_tag                       0\nsid                                 0\ncid                                 0\nPUBCHEM_EXT_DATASOURCE_SMILES       0\nactivity_outcome                    0\nactivity_score                      0\nactivity_url                     8415\nassay_data_comment               8415\nactivity_summary                    0\nantagonist_activity                 0\nantagonist_potency               7467\nantagonist_efficacy                 0\nviability_activity                  0\nviability_potency                7919\nviability_efficacy                154\nsample_source                       0\ndtype: int64"
     },
     "execution_count": 96,
     "metadata": {},
     "output_type": "execute_result"
    }
   ],
   "source": [
    "df.isna().sum()   # Check if the NULL values disappeared in the \"cid\" column"
   ]
  },
  {
   "cell_type": "markdown",
   "metadata": {},
   "source": [
    "## 3-(2) Remove CIDs with conflicting activities"
   ]
  },
  {
   "cell_type": "markdown",
   "metadata": {},
   "source": [
    "Now identify compounds with conflicting activities and remove them."
   ]
  },
  {
   "cell_type": "code",
   "execution_count": 97,
   "metadata": {
    "ExecuteTime": {
     "end_time": "2023-12-23T22:15:37.991352114Z",
     "start_time": "2023-12-23T22:15:33.888100830Z"
    }
   },
   "outputs": [
    {
     "name": "stdout",
     "output_type": "stream",
     "text": [
      "# 66 CIDs with conflicting activities [associated with 150 rows (SIDs).]\n"
     ]
    }
   ],
   "source": [
    "cid_conflict = []\n",
    "idx_conflict = []\n",
    "\n",
    "for mycid in df['cid'].unique() :\n",
    "    \n",
    "    outcomes = df[ df.cid == mycid ].activity_summary.unique()\n",
    "    \n",
    "    if len(outcomes) > 1 :\n",
    "        \n",
    "        idx_tmp = df.index[ df.cid == mycid ].tolist()\n",
    "        idx_conflict.extend(idx_tmp)\n",
    "        cid_conflict.append(mycid)\n",
    "\n",
    "print(\"#\", len(cid_conflict), \"CIDs with conflicting activities [associated with\", len(idx_conflict), \"rows (SIDs).]\")"
   ]
  },
  {
   "cell_type": "code",
   "execution_count": 98,
   "metadata": {
    "ExecuteTime": {
     "end_time": "2023-12-23T22:15:38.025437612Z",
     "start_time": "2023-12-23T22:15:37.988891563Z"
    }
   },
   "outputs": [
    {
     "data": {
      "text/plain": "     pc_result_tag          sid       cid  \\\n8                6  144203557.0   16043.0   \n5956          5954  144209507.0   16043.0   \n6850          6848  144210401.0   16043.0   \n52              50  144203601.0  443939.0   \n6130          6128  144209681.0  443939.0   \n66              64  144203615.0    2170.0   \n9118          9116  144212669.0    2170.0   \n106            104  144203655.0    2554.0   \n5920          5918  144209471.0    2554.0   \n6964          6962  144210515.0    2554.0   \n\n                          PUBCHEM_EXT_DATASOURCE_SMILES activity_outcome  \\\n8                             CC(C)(C)C1=C(C=CC(=C1)O)O         Inactive   \n5956                          CC(C)(C)C1=C(C=CC(=C1)O)O           Active   \n6850                          CC(C)(C)C1=C(C=CC(=C1)O)O         Inactive   \n52    C[C@H]1[C@H]([C@H](C[C@@H](O1)O[C@H]2C[C@@](CC...         Inactive   \n6130  C[C@H]1[C@H]([C@H](C[C@@H](O1)O[C@H]2C[C@@](CC...           Active   \n66           C1CN(CCN1)C2=NC3=CC=CC=C3OC4=C2C=C(C=C4)Cl         Inactive   \n9118         C1CN(CCN1)C2=NC3=CC=CC=C3OC4=C2C=C(C=C4)Cl           Active   \n106                C1=CC=C2C(=C1)C=CC3=CC=CC=C3N2C(=O)N     Inconclusive   \n5920               C1=CC=C2C(=C1)C=CC3=CC=CC=C3N2C(=O)N         Inactive   \n6964               C1=CC=C2C(=C1)C=CC3=CC=CC=C3N2C(=O)N         Inactive   \n\n      activity_score  activity_url  assay_data_comment   activity_summary  \\\n8                0.0           NaN                 NaN           inactive   \n5956            43.0           NaN                 NaN  active antagonist   \n6850             0.0           NaN                 NaN           inactive   \n52               0.0           NaN                 NaN           inactive   \n6130            61.0           NaN                 NaN  active antagonist   \n66               0.0           NaN                 NaN           inactive   \n9118            50.0           NaN                 NaN  active antagonist   \n106             20.0           NaN                 NaN     active agonist   \n5920             0.0           NaN                 NaN           inactive   \n6964             0.0           NaN                 NaN           inactive   \n\n     antagonist_activity antagonist_potency antagonist_efficacy  \\\n8               inactive                NaN                   0   \n5956   active antagonist            54.4827            -73.4024   \n6850            inactive                NaN                   0   \n52              inactive                NaN                   0   \n6130   active antagonist            1.65519            -115.932   \n66              inactive                NaN                   0   \n9118   active antagonist            16.5803            -115.202   \n106       active agonist            2.87255             73.7025   \n5920            inactive                NaN                   0   \n6964            inactive                NaN                   0   \n\n           viability_activity viability_potency viability_efficacy  \\\n8                    inactive               NaN                  0   \n5956  inconclusive antagonist               NaN                NaN   \n6850                 inactive               NaN                  0   \n52                   inactive               NaN                  0   \n6130        active antagonist           12.1763           -120.598   \n66                   inactive               NaN                  0   \n9118  inconclusive antagonist           61.1306           -80.7706   \n106                  inactive               NaN                  0   \n5920                 inactive               NaN                  0   \n6964                 inactive               NaN                  0   \n\n         sample_source  \n8                  NCI  \n5956      SigmaAldrich  \n6850             SIGMA  \n52                 NCI  \n6130  Toronto Research  \n66              BIOMOL  \n9118             SIGMA  \n106       SigmaAldrich  \n5920             SIGMA  \n6964             SIGMA  ",
      "text/html": "<div>\n<style scoped>\n    .dataframe tbody tr th:only-of-type {\n        vertical-align: middle;\n    }\n\n    .dataframe tbody tr th {\n        vertical-align: top;\n    }\n\n    .dataframe thead th {\n        text-align: right;\n    }\n</style>\n<table border=\"1\" class=\"dataframe\">\n  <thead>\n    <tr style=\"text-align: right;\">\n      <th></th>\n      <th>pc_result_tag</th>\n      <th>sid</th>\n      <th>cid</th>\n      <th>PUBCHEM_EXT_DATASOURCE_SMILES</th>\n      <th>activity_outcome</th>\n      <th>activity_score</th>\n      <th>activity_url</th>\n      <th>assay_data_comment</th>\n      <th>activity_summary</th>\n      <th>antagonist_activity</th>\n      <th>antagonist_potency</th>\n      <th>antagonist_efficacy</th>\n      <th>viability_activity</th>\n      <th>viability_potency</th>\n      <th>viability_efficacy</th>\n      <th>sample_source</th>\n    </tr>\n  </thead>\n  <tbody>\n    <tr>\n      <th>8</th>\n      <td>6</td>\n      <td>144203557.0</td>\n      <td>16043.0</td>\n      <td>CC(C)(C)C1=C(C=CC(=C1)O)O</td>\n      <td>Inactive</td>\n      <td>0.0</td>\n      <td>NaN</td>\n      <td>NaN</td>\n      <td>inactive</td>\n      <td>inactive</td>\n      <td>NaN</td>\n      <td>0</td>\n      <td>inactive</td>\n      <td>NaN</td>\n      <td>0</td>\n      <td>NCI</td>\n    </tr>\n    <tr>\n      <th>5956</th>\n      <td>5954</td>\n      <td>144209507.0</td>\n      <td>16043.0</td>\n      <td>CC(C)(C)C1=C(C=CC(=C1)O)O</td>\n      <td>Active</td>\n      <td>43.0</td>\n      <td>NaN</td>\n      <td>NaN</td>\n      <td>active antagonist</td>\n      <td>active antagonist</td>\n      <td>54.4827</td>\n      <td>-73.4024</td>\n      <td>inconclusive antagonist</td>\n      <td>NaN</td>\n      <td>NaN</td>\n      <td>SigmaAldrich</td>\n    </tr>\n    <tr>\n      <th>6850</th>\n      <td>6848</td>\n      <td>144210401.0</td>\n      <td>16043.0</td>\n      <td>CC(C)(C)C1=C(C=CC(=C1)O)O</td>\n      <td>Inactive</td>\n      <td>0.0</td>\n      <td>NaN</td>\n      <td>NaN</td>\n      <td>inactive</td>\n      <td>inactive</td>\n      <td>NaN</td>\n      <td>0</td>\n      <td>inactive</td>\n      <td>NaN</td>\n      <td>0</td>\n      <td>SIGMA</td>\n    </tr>\n    <tr>\n      <th>52</th>\n      <td>50</td>\n      <td>144203601.0</td>\n      <td>443939.0</td>\n      <td>C[C@H]1[C@H]([C@H](C[C@@H](O1)O[C@H]2C[C@@](CC...</td>\n      <td>Inactive</td>\n      <td>0.0</td>\n      <td>NaN</td>\n      <td>NaN</td>\n      <td>inactive</td>\n      <td>inactive</td>\n      <td>NaN</td>\n      <td>0</td>\n      <td>inactive</td>\n      <td>NaN</td>\n      <td>0</td>\n      <td>NCI</td>\n    </tr>\n    <tr>\n      <th>6130</th>\n      <td>6128</td>\n      <td>144209681.0</td>\n      <td>443939.0</td>\n      <td>C[C@H]1[C@H]([C@H](C[C@@H](O1)O[C@H]2C[C@@](CC...</td>\n      <td>Active</td>\n      <td>61.0</td>\n      <td>NaN</td>\n      <td>NaN</td>\n      <td>active antagonist</td>\n      <td>active antagonist</td>\n      <td>1.65519</td>\n      <td>-115.932</td>\n      <td>active antagonist</td>\n      <td>12.1763</td>\n      <td>-120.598</td>\n      <td>Toronto Research</td>\n    </tr>\n    <tr>\n      <th>66</th>\n      <td>64</td>\n      <td>144203615.0</td>\n      <td>2170.0</td>\n      <td>C1CN(CCN1)C2=NC3=CC=CC=C3OC4=C2C=C(C=C4)Cl</td>\n      <td>Inactive</td>\n      <td>0.0</td>\n      <td>NaN</td>\n      <td>NaN</td>\n      <td>inactive</td>\n      <td>inactive</td>\n      <td>NaN</td>\n      <td>0</td>\n      <td>inactive</td>\n      <td>NaN</td>\n      <td>0</td>\n      <td>BIOMOL</td>\n    </tr>\n    <tr>\n      <th>9118</th>\n      <td>9116</td>\n      <td>144212669.0</td>\n      <td>2170.0</td>\n      <td>C1CN(CCN1)C2=NC3=CC=CC=C3OC4=C2C=C(C=C4)Cl</td>\n      <td>Active</td>\n      <td>50.0</td>\n      <td>NaN</td>\n      <td>NaN</td>\n      <td>active antagonist</td>\n      <td>active antagonist</td>\n      <td>16.5803</td>\n      <td>-115.202</td>\n      <td>inconclusive antagonist</td>\n      <td>61.1306</td>\n      <td>-80.7706</td>\n      <td>SIGMA</td>\n    </tr>\n    <tr>\n      <th>106</th>\n      <td>104</td>\n      <td>144203655.0</td>\n      <td>2554.0</td>\n      <td>C1=CC=C2C(=C1)C=CC3=CC=CC=C3N2C(=O)N</td>\n      <td>Inconclusive</td>\n      <td>20.0</td>\n      <td>NaN</td>\n      <td>NaN</td>\n      <td>active agonist</td>\n      <td>active agonist</td>\n      <td>2.87255</td>\n      <td>73.7025</td>\n      <td>inactive</td>\n      <td>NaN</td>\n      <td>0</td>\n      <td>SigmaAldrich</td>\n    </tr>\n    <tr>\n      <th>5920</th>\n      <td>5918</td>\n      <td>144209471.0</td>\n      <td>2554.0</td>\n      <td>C1=CC=C2C(=C1)C=CC3=CC=CC=C3N2C(=O)N</td>\n      <td>Inactive</td>\n      <td>0.0</td>\n      <td>NaN</td>\n      <td>NaN</td>\n      <td>inactive</td>\n      <td>inactive</td>\n      <td>NaN</td>\n      <td>0</td>\n      <td>inactive</td>\n      <td>NaN</td>\n      <td>0</td>\n      <td>SIGMA</td>\n    </tr>\n    <tr>\n      <th>6964</th>\n      <td>6962</td>\n      <td>144210515.0</td>\n      <td>2554.0</td>\n      <td>C1=CC=C2C(=C1)C=CC3=CC=CC=C3N2C(=O)N</td>\n      <td>Inactive</td>\n      <td>0.0</td>\n      <td>NaN</td>\n      <td>NaN</td>\n      <td>inactive</td>\n      <td>inactive</td>\n      <td>NaN</td>\n      <td>0</td>\n      <td>inactive</td>\n      <td>NaN</td>\n      <td>0</td>\n      <td>SIGMA</td>\n    </tr>\n  </tbody>\n</table>\n</div>"
     },
     "execution_count": 98,
     "metadata": {},
     "output_type": "execute_result"
    }
   ],
   "source": [
    "df.loc[idx_conflict,:].head(10)"
   ]
  },
  {
   "cell_type": "code",
   "execution_count": 99,
   "metadata": {
    "ExecuteTime": {
     "end_time": "2023-12-23T22:15:38.032886314Z",
     "start_time": "2023-12-23T22:15:38.018450053Z"
    }
   },
   "outputs": [],
   "source": [
    "df = df.drop(idx_conflict)"
   ]
  },
  {
   "cell_type": "code",
   "execution_count": 100,
   "metadata": {
    "ExecuteTime": {
     "end_time": "2023-12-23T22:15:38.065810576Z",
     "start_time": "2023-12-23T22:15:38.026813147Z"
    }
   },
   "outputs": [
    {
     "data": {
      "text/plain": "                   pc_result_tag   sid   cid  PUBCHEM_EXT_DATASOURCE_SMILES  \\\nactivity_summary                                                              \nactive agonist               537   537   537                            537   \nactive antagonist            342   342   342                            342   \ninactive                    7386  7386  7386                           7386   \n\n                   activity_outcome  activity_score  activity_url  \\\nactivity_summary                                                    \nactive agonist                  537             537             0   \nactive antagonist               342             342             0   \ninactive                       7386            7386             0   \n\n                   assay_data_comment  antagonist_activity  \\\nactivity_summary                                             \nactive agonist                      0                  537   \nactive antagonist                   0                  342   \ninactive                            0                 7386   \n\n                   antagonist_potency  antagonist_efficacy  \\\nactivity_summary                                             \nactive agonist                    537                  537   \nactive antagonist                 341                  342   \ninactive                            0                 7386   \n\n                   viability_activity  viability_potency  viability_efficacy  \\\nactivity_summary                                                               \nactive agonist                    537                 58                 517   \nactive antagonist                 342                108                 326   \ninactive                         7386                318                7275   \n\n                   sample_source  \nactivity_summary                  \nactive agonist               537  \nactive antagonist            342  \ninactive                    7386  ",
      "text/html": "<div>\n<style scoped>\n    .dataframe tbody tr th:only-of-type {\n        vertical-align: middle;\n    }\n\n    .dataframe tbody tr th {\n        vertical-align: top;\n    }\n\n    .dataframe thead th {\n        text-align: right;\n    }\n</style>\n<table border=\"1\" class=\"dataframe\">\n  <thead>\n    <tr style=\"text-align: right;\">\n      <th></th>\n      <th>pc_result_tag</th>\n      <th>sid</th>\n      <th>cid</th>\n      <th>PUBCHEM_EXT_DATASOURCE_SMILES</th>\n      <th>activity_outcome</th>\n      <th>activity_score</th>\n      <th>activity_url</th>\n      <th>assay_data_comment</th>\n      <th>antagonist_activity</th>\n      <th>antagonist_potency</th>\n      <th>antagonist_efficacy</th>\n      <th>viability_activity</th>\n      <th>viability_potency</th>\n      <th>viability_efficacy</th>\n      <th>sample_source</th>\n    </tr>\n    <tr>\n      <th>activity_summary</th>\n      <th></th>\n      <th></th>\n      <th></th>\n      <th></th>\n      <th></th>\n      <th></th>\n      <th></th>\n      <th></th>\n      <th></th>\n      <th></th>\n      <th></th>\n      <th></th>\n      <th></th>\n      <th></th>\n      <th></th>\n    </tr>\n  </thead>\n  <tbody>\n    <tr>\n      <th>active agonist</th>\n      <td>537</td>\n      <td>537</td>\n      <td>537</td>\n      <td>537</td>\n      <td>537</td>\n      <td>537</td>\n      <td>0</td>\n      <td>0</td>\n      <td>537</td>\n      <td>537</td>\n      <td>537</td>\n      <td>537</td>\n      <td>58</td>\n      <td>517</td>\n      <td>537</td>\n    </tr>\n    <tr>\n      <th>active antagonist</th>\n      <td>342</td>\n      <td>342</td>\n      <td>342</td>\n      <td>342</td>\n      <td>342</td>\n      <td>342</td>\n      <td>0</td>\n      <td>0</td>\n      <td>342</td>\n      <td>341</td>\n      <td>342</td>\n      <td>342</td>\n      <td>108</td>\n      <td>326</td>\n      <td>342</td>\n    </tr>\n    <tr>\n      <th>inactive</th>\n      <td>7386</td>\n      <td>7386</td>\n      <td>7386</td>\n      <td>7386</td>\n      <td>7386</td>\n      <td>7386</td>\n      <td>0</td>\n      <td>0</td>\n      <td>7386</td>\n      <td>0</td>\n      <td>7386</td>\n      <td>7386</td>\n      <td>318</td>\n      <td>7275</td>\n      <td>7386</td>\n    </tr>\n  </tbody>\n</table>\n</div>"
     },
     "execution_count": 100,
     "metadata": {},
     "output_type": "execute_result"
    }
   ],
   "source": [
    "df.groupby('activity_summary').count()"
   ]
  },
  {
   "cell_type": "code",
   "execution_count": 101,
   "metadata": {
    "ExecuteTime": {
     "end_time": "2023-12-23T22:15:38.075830514Z",
     "start_time": "2023-12-23T22:15:38.048630251Z"
    }
   },
   "outputs": [
    {
     "name": "stdout",
     "output_type": "stream",
     "text": [
      "8265\n",
      "6791\n"
     ]
    }
   ],
   "source": [
    "print(len(df['sid'].unique()))\n",
    "print(len(df['cid'].unique()))"
   ]
  },
  {
   "cell_type": "markdown",
   "metadata": {},
   "source": [
    "## 3-(3) Remove redundant data"
   ]
  },
  {
   "cell_type": "markdown",
   "metadata": {},
   "source": [
    "The above code cells \\[in 3-(2)] do not remove compounds tested multiple times if the testing results are consistent [e.g., active agonist in all samples (substances)].  The rows corresponding to these compounds are redundant, so we want remove them except for only one row for each compound."
   ]
  },
  {
   "cell_type": "code",
   "execution_count": 102,
   "metadata": {
    "ExecuteTime": {
     "end_time": "2023-12-23T22:15:38.141984011Z",
     "start_time": "2023-12-23T22:15:38.058179274Z"
    }
   },
   "outputs": [
    {
     "name": "stdout",
     "output_type": "stream",
     "text": [
      "6791\n",
      "6791\n"
     ]
    }
   ],
   "source": [
    "df = df.drop_duplicates(subset='cid')  # remove duplicate rows except for the first occurring row.\n",
    "print(len(df['sid'].unique()))\n",
    "print(len(df['cid'].unique()))"
   ]
  },
  {
   "cell_type": "markdown",
   "metadata": {},
   "source": [
    "## 3-(4) Adding \"numeric\" activity classes"
   ]
  },
  {
   "cell_type": "markdown",
   "metadata": {},
   "source": [
    "In general, the inputs and outputs to machine learning algorithms need to have numerical forms.   \n",
    "In this practice, the input (molecular structure) will be represented with binary fingerprints, which already have numerical forms (0 or 1).  However, the output (activity) is currently in a string format (e.g., 'active agonist', 'active antagonist').  Therefore, we want to add an additional, 'activity' column, which contains numeric codes representing the active and inactive compounds:\n",
    "- 1 for actives (either active agonists or active antagonists)\n",
    "- 0 for inactives\n",
    "\n",
    "Note that we are merging the two classes \"active agonist\" and \"active antagonist\", because we are going to build a binary classifer that distinguish actives from inactives."
   ]
  },
  {
   "cell_type": "code",
   "execution_count": 103,
   "metadata": {
    "ExecuteTime": {
     "end_time": "2023-12-23T22:15:38.168847169Z",
     "start_time": "2023-12-23T22:15:38.073262514Z"
    }
   },
   "outputs": [],
   "source": [
    "df['activity'] = [ 0 if x == 'inactive' else 1 for x in df['activity_summary'] ]"
   ]
  },
  {
   "cell_type": "markdown",
   "metadata": {},
   "source": [
    "Check if the new column 'activity' is added to (the end of) the data frame."
   ]
  },
  {
   "cell_type": "code",
   "execution_count": 104,
   "metadata": {
    "ExecuteTime": {
     "end_time": "2023-12-23T22:15:38.281523336Z",
     "start_time": "2023-12-23T22:15:38.095602778Z"
    }
   },
   "outputs": [
    {
     "data": {
      "text/plain": "  pc_result_tag          sid         cid  \\\n3             1  144203552.0  12850184.0   \n4             2  144203553.0     89753.0   \n5             3  144203554.0      9403.0   \n\n                       PUBCHEM_EXT_DATASOURCE_SMILES activity_outcome  \\\n3  C(C(=O)[C@H]([C@@H]([C@H](C(=O)[O-])O)O)O)O.C(...         Inactive   \n4  C([C@H]([C@H]([C@@H]([C@H](C(=O)[O-])O)O)O)O)O...         Inactive   \n5  C[C@]12CC[C@H]3[C@H]([C@@H]1CC[C@@H]2OC(=O)CCC...         Inactive   \n\n   activity_score  activity_url  assay_data_comment activity_summary  \\\n3             0.0           NaN                 NaN         inactive   \n4             0.0           NaN                 NaN         inactive   \n5             0.0           NaN                 NaN         inactive   \n\n  antagonist_activity antagonist_potency antagonist_efficacy  \\\n3            inactive                NaN                   0   \n4            inactive                NaN                   0   \n5            inactive                NaN                   0   \n\n  viability_activity viability_potency viability_efficacy sample_source  \\\n3           inactive               NaN                  0           NCI   \n4           inactive               NaN                  0           NCI   \n5           inactive               NaN                  0           NCI   \n\n   activity  \n3         0  \n4         0  \n5         0  ",
      "text/html": "<div>\n<style scoped>\n    .dataframe tbody tr th:only-of-type {\n        vertical-align: middle;\n    }\n\n    .dataframe tbody tr th {\n        vertical-align: top;\n    }\n\n    .dataframe thead th {\n        text-align: right;\n    }\n</style>\n<table border=\"1\" class=\"dataframe\">\n  <thead>\n    <tr style=\"text-align: right;\">\n      <th></th>\n      <th>pc_result_tag</th>\n      <th>sid</th>\n      <th>cid</th>\n      <th>PUBCHEM_EXT_DATASOURCE_SMILES</th>\n      <th>activity_outcome</th>\n      <th>activity_score</th>\n      <th>activity_url</th>\n      <th>assay_data_comment</th>\n      <th>activity_summary</th>\n      <th>antagonist_activity</th>\n      <th>antagonist_potency</th>\n      <th>antagonist_efficacy</th>\n      <th>viability_activity</th>\n      <th>viability_potency</th>\n      <th>viability_efficacy</th>\n      <th>sample_source</th>\n      <th>activity</th>\n    </tr>\n  </thead>\n  <tbody>\n    <tr>\n      <th>3</th>\n      <td>1</td>\n      <td>144203552.0</td>\n      <td>12850184.0</td>\n      <td>C(C(=O)[C@H]([C@@H]([C@H](C(=O)[O-])O)O)O)O.C(...</td>\n      <td>Inactive</td>\n      <td>0.0</td>\n      <td>NaN</td>\n      <td>NaN</td>\n      <td>inactive</td>\n      <td>inactive</td>\n      <td>NaN</td>\n      <td>0</td>\n      <td>inactive</td>\n      <td>NaN</td>\n      <td>0</td>\n      <td>NCI</td>\n      <td>0</td>\n    </tr>\n    <tr>\n      <th>4</th>\n      <td>2</td>\n      <td>144203553.0</td>\n      <td>89753.0</td>\n      <td>C([C@H]([C@H]([C@@H]([C@H](C(=O)[O-])O)O)O)O)O...</td>\n      <td>Inactive</td>\n      <td>0.0</td>\n      <td>NaN</td>\n      <td>NaN</td>\n      <td>inactive</td>\n      <td>inactive</td>\n      <td>NaN</td>\n      <td>0</td>\n      <td>inactive</td>\n      <td>NaN</td>\n      <td>0</td>\n      <td>NCI</td>\n      <td>0</td>\n    </tr>\n    <tr>\n      <th>5</th>\n      <td>3</td>\n      <td>144203554.0</td>\n      <td>9403.0</td>\n      <td>C[C@]12CC[C@H]3[C@H]([C@@H]1CC[C@@H]2OC(=O)CCC...</td>\n      <td>Inactive</td>\n      <td>0.0</td>\n      <td>NaN</td>\n      <td>NaN</td>\n      <td>inactive</td>\n      <td>inactive</td>\n      <td>NaN</td>\n      <td>0</td>\n      <td>inactive</td>\n      <td>NaN</td>\n      <td>0</td>\n      <td>NCI</td>\n      <td>0</td>\n    </tr>\n  </tbody>\n</table>\n</div>"
     },
     "execution_count": 104,
     "metadata": {},
     "output_type": "execute_result"
    }
   ],
   "source": [
    "df.head(3)"
   ]
  },
  {
   "cell_type": "markdown",
   "metadata": {},
   "source": [
    "Double-check the count of active/inactive compounds."
   ]
  },
  {
   "cell_type": "code",
   "execution_count": 105,
   "metadata": {
    "ExecuteTime": {
     "end_time": "2023-12-23T22:15:38.287043791Z",
     "start_time": "2023-12-23T22:15:38.136504002Z"
    }
   },
   "outputs": [
    {
     "data": {
      "text/plain": "                   pc_result_tag   sid   cid  PUBCHEM_EXT_DATASOURCE_SMILES  \\\nactivity_summary                                                              \nactive agonist               451   451   451                            451   \nactive antagonist            290   290   290                            290   \ninactive                    6050  6050  6050                           6050   \n\n                   activity_outcome  activity_score  activity_url  \\\nactivity_summary                                                    \nactive agonist                  451             451             0   \nactive antagonist               290             290             0   \ninactive                       6050            6050             0   \n\n                   assay_data_comment  antagonist_activity  \\\nactivity_summary                                             \nactive agonist                      0                  451   \nactive antagonist                   0                  290   \ninactive                            0                 6050   \n\n                   antagonist_potency  antagonist_efficacy  \\\nactivity_summary                                             \nactive agonist                    451                  451   \nactive antagonist                 289                  290   \ninactive                            0                 6050   \n\n                   viability_activity  viability_potency  viability_efficacy  \\\nactivity_summary                                                               \nactive agonist                    451                 44                 432   \nactive antagonist                 290                 88                 275   \ninactive                         6050                269                5964   \n\n                   sample_source  activity  \nactivity_summary                            \nactive agonist               451       451  \nactive antagonist            290       290  \ninactive                    6050      6050  ",
      "text/html": "<div>\n<style scoped>\n    .dataframe tbody tr th:only-of-type {\n        vertical-align: middle;\n    }\n\n    .dataframe tbody tr th {\n        vertical-align: top;\n    }\n\n    .dataframe thead th {\n        text-align: right;\n    }\n</style>\n<table border=\"1\" class=\"dataframe\">\n  <thead>\n    <tr style=\"text-align: right;\">\n      <th></th>\n      <th>pc_result_tag</th>\n      <th>sid</th>\n      <th>cid</th>\n      <th>PUBCHEM_EXT_DATASOURCE_SMILES</th>\n      <th>activity_outcome</th>\n      <th>activity_score</th>\n      <th>activity_url</th>\n      <th>assay_data_comment</th>\n      <th>antagonist_activity</th>\n      <th>antagonist_potency</th>\n      <th>antagonist_efficacy</th>\n      <th>viability_activity</th>\n      <th>viability_potency</th>\n      <th>viability_efficacy</th>\n      <th>sample_source</th>\n      <th>activity</th>\n    </tr>\n    <tr>\n      <th>activity_summary</th>\n      <th></th>\n      <th></th>\n      <th></th>\n      <th></th>\n      <th></th>\n      <th></th>\n      <th></th>\n      <th></th>\n      <th></th>\n      <th></th>\n      <th></th>\n      <th></th>\n      <th></th>\n      <th></th>\n      <th></th>\n      <th></th>\n    </tr>\n  </thead>\n  <tbody>\n    <tr>\n      <th>active agonist</th>\n      <td>451</td>\n      <td>451</td>\n      <td>451</td>\n      <td>451</td>\n      <td>451</td>\n      <td>451</td>\n      <td>0</td>\n      <td>0</td>\n      <td>451</td>\n      <td>451</td>\n      <td>451</td>\n      <td>451</td>\n      <td>44</td>\n      <td>432</td>\n      <td>451</td>\n      <td>451</td>\n    </tr>\n    <tr>\n      <th>active antagonist</th>\n      <td>290</td>\n      <td>290</td>\n      <td>290</td>\n      <td>290</td>\n      <td>290</td>\n      <td>290</td>\n      <td>0</td>\n      <td>0</td>\n      <td>290</td>\n      <td>289</td>\n      <td>290</td>\n      <td>290</td>\n      <td>88</td>\n      <td>275</td>\n      <td>290</td>\n      <td>290</td>\n    </tr>\n    <tr>\n      <th>inactive</th>\n      <td>6050</td>\n      <td>6050</td>\n      <td>6050</td>\n      <td>6050</td>\n      <td>6050</td>\n      <td>6050</td>\n      <td>0</td>\n      <td>0</td>\n      <td>6050</td>\n      <td>0</td>\n      <td>6050</td>\n      <td>6050</td>\n      <td>269</td>\n      <td>5964</td>\n      <td>6050</td>\n      <td>6050</td>\n    </tr>\n  </tbody>\n</table>\n</div>"
     },
     "execution_count": 105,
     "metadata": {},
     "output_type": "execute_result"
    }
   ],
   "source": [
    "df.groupby('activity_summary').count()"
   ]
  },
  {
   "cell_type": "code",
   "execution_count": 106,
   "metadata": {
    "ExecuteTime": {
     "end_time": "2023-12-23T22:15:38.368438015Z",
     "start_time": "2023-12-23T22:15:38.180184401Z"
    }
   },
   "outputs": [
    {
     "data": {
      "text/plain": "          pc_result_tag   sid   cid  PUBCHEM_EXT_DATASOURCE_SMILES  \\\nactivity                                                             \n0                  6050  6050  6050                           6050   \n1                   741   741   741                            741   \n\n          activity_outcome  activity_score  activity_url  assay_data_comment  \\\nactivity                                                                       \n0                     6050            6050             0                   0   \n1                      741             741             0                   0   \n\n          activity_summary  antagonist_activity  antagonist_potency  \\\nactivity                                                              \n0                     6050                 6050                   0   \n1                      741                  741                 740   \n\n          antagonist_efficacy  viability_activity  viability_potency  \\\nactivity                                                               \n0                        6050                6050                269   \n1                         741                 741                132   \n\n          viability_efficacy  sample_source  \nactivity                                     \n0                       5964           6050  \n1                        707            741  ",
      "text/html": "<div>\n<style scoped>\n    .dataframe tbody tr th:only-of-type {\n        vertical-align: middle;\n    }\n\n    .dataframe tbody tr th {\n        vertical-align: top;\n    }\n\n    .dataframe thead th {\n        text-align: right;\n    }\n</style>\n<table border=\"1\" class=\"dataframe\">\n  <thead>\n    <tr style=\"text-align: right;\">\n      <th></th>\n      <th>pc_result_tag</th>\n      <th>sid</th>\n      <th>cid</th>\n      <th>PUBCHEM_EXT_DATASOURCE_SMILES</th>\n      <th>activity_outcome</th>\n      <th>activity_score</th>\n      <th>activity_url</th>\n      <th>assay_data_comment</th>\n      <th>activity_summary</th>\n      <th>antagonist_activity</th>\n      <th>antagonist_potency</th>\n      <th>antagonist_efficacy</th>\n      <th>viability_activity</th>\n      <th>viability_potency</th>\n      <th>viability_efficacy</th>\n      <th>sample_source</th>\n    </tr>\n    <tr>\n      <th>activity</th>\n      <th></th>\n      <th></th>\n      <th></th>\n      <th></th>\n      <th></th>\n      <th></th>\n      <th></th>\n      <th></th>\n      <th></th>\n      <th></th>\n      <th></th>\n      <th></th>\n      <th></th>\n      <th></th>\n      <th></th>\n      <th></th>\n    </tr>\n  </thead>\n  <tbody>\n    <tr>\n      <th>0</th>\n      <td>6050</td>\n      <td>6050</td>\n      <td>6050</td>\n      <td>6050</td>\n      <td>6050</td>\n      <td>6050</td>\n      <td>0</td>\n      <td>0</td>\n      <td>6050</td>\n      <td>6050</td>\n      <td>0</td>\n      <td>6050</td>\n      <td>6050</td>\n      <td>269</td>\n      <td>5964</td>\n      <td>6050</td>\n    </tr>\n    <tr>\n      <th>1</th>\n      <td>741</td>\n      <td>741</td>\n      <td>741</td>\n      <td>741</td>\n      <td>741</td>\n      <td>741</td>\n      <td>0</td>\n      <td>0</td>\n      <td>741</td>\n      <td>741</td>\n      <td>740</td>\n      <td>741</td>\n      <td>741</td>\n      <td>132</td>\n      <td>707</td>\n      <td>741</td>\n    </tr>\n  </tbody>\n</table>\n</div>"
     },
     "execution_count": 106,
     "metadata": {},
     "output_type": "execute_result"
    }
   ],
   "source": [
    "df.groupby('activity').count()"
   ]
  },
  {
   "cell_type": "markdown",
   "metadata": {},
   "source": [
    "## 3-(5) Create a smaller data frame that only contains CIDs and activities."
   ]
  },
  {
   "cell_type": "markdown",
   "metadata": {},
   "source": [
    "Let's create a smaller data frame that only contains CIDs and activities.  This data frame will be merged with a data frame containing molecular fingerprint information."
   ]
  },
  {
   "cell_type": "code",
   "execution_count": 107,
   "metadata": {
    "ExecuteTime": {
     "end_time": "2023-12-23T22:15:38.373446578Z",
     "start_time": "2023-12-23T22:15:38.180801901Z"
    }
   },
   "outputs": [],
   "source": [
    "df_activity = df[['cid','activity']]"
   ]
  },
  {
   "cell_type": "code",
   "execution_count": 108,
   "metadata": {
    "ExecuteTime": {
     "end_time": "2023-12-23T22:15:38.391609031Z",
     "start_time": "2023-12-23T22:15:38.194883249Z"
    }
   },
   "outputs": [
    {
     "data": {
      "text/plain": "           cid  activity\n3   12850184.0         0\n4      89753.0         0\n5       9403.0         0\n6   13218779.0         0\n12    637566.0         0",
      "text/html": "<div>\n<style scoped>\n    .dataframe tbody tr th:only-of-type {\n        vertical-align: middle;\n    }\n\n    .dataframe tbody tr th {\n        vertical-align: top;\n    }\n\n    .dataframe thead th {\n        text-align: right;\n    }\n</style>\n<table border=\"1\" class=\"dataframe\">\n  <thead>\n    <tr style=\"text-align: right;\">\n      <th></th>\n      <th>cid</th>\n      <th>activity</th>\n    </tr>\n  </thead>\n  <tbody>\n    <tr>\n      <th>3</th>\n      <td>12850184.0</td>\n      <td>0</td>\n    </tr>\n    <tr>\n      <th>4</th>\n      <td>89753.0</td>\n      <td>0</td>\n    </tr>\n    <tr>\n      <th>5</th>\n      <td>9403.0</td>\n      <td>0</td>\n    </tr>\n    <tr>\n      <th>6</th>\n      <td>13218779.0</td>\n      <td>0</td>\n    </tr>\n    <tr>\n      <th>12</th>\n      <td>637566.0</td>\n      <td>0</td>\n    </tr>\n  </tbody>\n</table>\n</div>"
     },
     "execution_count": 108,
     "metadata": {},
     "output_type": "execute_result"
    }
   ],
   "source": [
    "df_activity.head(5)"
   ]
  },
  {
   "cell_type": "markdown",
   "metadata": {},
   "source": [
    "## 4. Download structure information for each compound from PubChem"
   ]
  },
  {
   "cell_type": "markdown",
   "metadata": {},
   "source": [
    "Now we want to get structure information of the compounds from PubChem (in isomeric SMILES)."
   ]
  },
  {
   "cell_type": "code",
   "execution_count": 109,
   "metadata": {
    "ExecuteTime": {
     "end_time": "2023-12-23T22:15:38.460707672Z",
     "start_time": "2023-12-23T22:15:38.201969708Z"
    }
   },
   "outputs": [],
   "source": [
    "cids = df.cid.astype(int).tolist()"
   ]
  },
  {
   "cell_type": "code",
   "execution_count": 110,
   "metadata": {
    "ExecuteTime": {
     "end_time": "2023-12-23T22:15:38.471786971Z",
     "start_time": "2023-12-23T22:15:38.212190071Z"
    }
   },
   "outputs": [
    {
     "name": "stdout",
     "output_type": "stream",
     "text": [
      "# CIDs =  6791\n",
      "# CID Chunks =  34 (chunked by  200 )\n"
     ]
    }
   ],
   "source": [
    "chunk_size = 200\n",
    "num_cids = len(cids)\n",
    "\n",
    "if num_cids % chunk_size == 0 :\n",
    "    num_chunks = int( num_cids / chunk_size )\n",
    "else :\n",
    "    num_chunks = int( num_cids / chunk_size ) + 1\n",
    "\n",
    "print(\"# CIDs = \", num_cids)\n",
    "print(\"# CID Chunks = \", num_chunks, \"(chunked by \", chunk_size, \")\")"
   ]
  },
  {
   "cell_type": "code",
   "execution_count": 111,
   "metadata": {
    "ExecuteTime": {
     "end_time": "2023-12-23T22:16:11.645017037Z",
     "start_time": "2023-12-23T22:15:38.221932727Z"
    }
   },
   "outputs": [
    {
     "name": "stdout",
     "output_type": "stream",
     "text": [
      "Processing Chunk  0\n",
      "Processing Chunk  5\n",
      "Processing Chunk  10\n",
      "Processing Chunk  15\n",
      "Processing Chunk  20\n",
      "Processing Chunk  25\n",
      "Processing Chunk  30\n"
     ]
    },
    {
     "data": {
      "text/plain": "                                              smiles       cid\n0  C(C(=O)[C@H]([C@@H]([C@H](C(=O)[O-])O)O)O)O.C(...  12850184\n1  C([C@H]([C@H]([C@@H]([C@H](C(=O)[O-])O)O)O)O)O...     89753\n2  C[C@]12CC[C@H]3[C@H]([C@@H]1CC[C@@H]2OC(=O)CCC...      9403\n3         C[C@@]12CC[C@@H](C1(C)C)C[C@H]2OC(=O)CSC#N  13218779\n4                               CC(=CCC/C(=C/CO)/C)C    637566",
      "text/html": "<div>\n<style scoped>\n    .dataframe tbody tr th:only-of-type {\n        vertical-align: middle;\n    }\n\n    .dataframe tbody tr th {\n        vertical-align: top;\n    }\n\n    .dataframe thead th {\n        text-align: right;\n    }\n</style>\n<table border=\"1\" class=\"dataframe\">\n  <thead>\n    <tr style=\"text-align: right;\">\n      <th></th>\n      <th>smiles</th>\n      <th>cid</th>\n    </tr>\n  </thead>\n  <tbody>\n    <tr>\n      <th>0</th>\n      <td>C(C(=O)[C@H]([C@@H]([C@H](C(=O)[O-])O)O)O)O.C(...</td>\n      <td>12850184</td>\n    </tr>\n    <tr>\n      <th>1</th>\n      <td>C([C@H]([C@H]([C@@H]([C@H](C(=O)[O-])O)O)O)O)O...</td>\n      <td>89753</td>\n    </tr>\n    <tr>\n      <th>2</th>\n      <td>C[C@]12CC[C@H]3[C@H]([C@@H]1CC[C@@H]2OC(=O)CCC...</td>\n      <td>9403</td>\n    </tr>\n    <tr>\n      <th>3</th>\n      <td>C[C@@]12CC[C@@H](C1(C)C)C[C@H]2OC(=O)CSC#N</td>\n      <td>13218779</td>\n    </tr>\n    <tr>\n      <th>4</th>\n      <td>CC(=CCC/C(=C/CO)/C)C</td>\n      <td>637566</td>\n    </tr>\n  </tbody>\n</table>\n</div>"
     },
     "execution_count": 111,
     "metadata": {},
     "output_type": "execute_result"
    }
   ],
   "source": [
    "import time\n",
    "import requests\n",
    "from io import StringIO\n",
    "\n",
    "df_smiles = pd.DataFrame()\n",
    "list_dfs = []  # temporary list of data frames\n",
    "\n",
    "for i in range(0, num_chunks) :\n",
    "    \n",
    "    idx1 = chunk_size * i\n",
    "    idx2 = chunk_size * (i + 1)\n",
    "    cidstr = \",\".join( str(x) for x in cids[idx1:idx2] )\n",
    "\n",
    "    url = ('https://pubchem.ncbi.nlm.nih.gov/rest/pug/compound/cid/' + cidstr + '/property/IsomericSMILES/TXT')\n",
    "    res = requests.get(url)\n",
    "    data = pd.read_csv( StringIO(res.text), header=None, names=['smiles'] )\n",
    "    list_dfs.append(data)\n",
    "    \n",
    "    time.sleep(0.2)\n",
    "    \n",
    "    if ( i % 5 == 0 ) :\n",
    "        print(\"Processing Chunk \", i)   \n",
    "\n",
    "#    if ( i == 2 ) : break  #- for debugging\n",
    "\n",
    "df_smiles = pd.concat(list_dfs,ignore_index=True)\n",
    "df_smiles[ 'cid' ] = cids\n",
    "df_smiles.head(5)"
   ]
  },
  {
   "cell_type": "code",
   "execution_count": 112,
   "metadata": {
    "ExecuteTime": {
     "end_time": "2023-12-23T22:16:11.657147911Z",
     "start_time": "2023-12-23T22:16:11.634837774Z"
    }
   },
   "outputs": [
    {
     "data": {
      "text/plain": "6791"
     },
     "execution_count": 112,
     "metadata": {},
     "output_type": "execute_result"
    }
   ],
   "source": [
    "len(df_smiles)"
   ]
  },
  {
   "cell_type": "code",
   "execution_count": 113,
   "metadata": {
    "ExecuteTime": {
     "end_time": "2023-12-23T22:16:11.730446433Z",
     "start_time": "2023-12-23T22:16:11.648444494Z"
    }
   },
   "outputs": [
    {
     "data": {
      "text/plain": "        cid                                             smiles\n0  12850184  C(C(=O)[C@H]([C@@H]([C@H](C(=O)[O-])O)O)O)O.C(...\n1     89753  C([C@H]([C@H]([C@@H]([C@H](C(=O)[O-])O)O)O)O)O...\n2      9403  C[C@]12CC[C@H]3[C@H]([C@@H]1CC[C@@H]2OC(=O)CCC...\n3  13218779         C[C@@]12CC[C@@H](C1(C)C)C[C@H]2OC(=O)CSC#N\n4    637566                               CC(=CCC/C(=C/CO)/C)C",
      "text/html": "<div>\n<style scoped>\n    .dataframe tbody tr th:only-of-type {\n        vertical-align: middle;\n    }\n\n    .dataframe tbody tr th {\n        vertical-align: top;\n    }\n\n    .dataframe thead th {\n        text-align: right;\n    }\n</style>\n<table border=\"1\" class=\"dataframe\">\n  <thead>\n    <tr style=\"text-align: right;\">\n      <th></th>\n      <th>cid</th>\n      <th>smiles</th>\n    </tr>\n  </thead>\n  <tbody>\n    <tr>\n      <th>0</th>\n      <td>12850184</td>\n      <td>C(C(=O)[C@H]([C@@H]([C@H](C(=O)[O-])O)O)O)O.C(...</td>\n    </tr>\n    <tr>\n      <th>1</th>\n      <td>89753</td>\n      <td>C([C@H]([C@H]([C@@H]([C@H](C(=O)[O-])O)O)O)O)O...</td>\n    </tr>\n    <tr>\n      <th>2</th>\n      <td>9403</td>\n      <td>C[C@]12CC[C@H]3[C@H]([C@@H]1CC[C@@H]2OC(=O)CCC...</td>\n    </tr>\n    <tr>\n      <th>3</th>\n      <td>13218779</td>\n      <td>C[C@@]12CC[C@@H](C1(C)C)C[C@H]2OC(=O)CSC#N</td>\n    </tr>\n    <tr>\n      <th>4</th>\n      <td>637566</td>\n      <td>CC(=CCC/C(=C/CO)/C)C</td>\n    </tr>\n  </tbody>\n</table>\n</div>"
     },
     "execution_count": 113,
     "metadata": {},
     "output_type": "execute_result"
    }
   ],
   "source": [
    "df_smiles = df_smiles[['cid','smiles']]\n",
    "df_smiles.head(5)"
   ]
  },
  {
   "cell_type": "markdown",
   "metadata": {},
   "source": [
    "## 5. Generate MACCS keys from SMILES."
   ]
  },
  {
   "cell_type": "code",
   "execution_count": 114,
   "metadata": {
    "ExecuteTime": {
     "end_time": "2023-12-23T22:16:11.967120638Z",
     "start_time": "2023-12-23T22:16:11.657444130Z"
    }
   },
   "outputs": [],
   "source": [
    "from rdkit import Chem\n",
    "from rdkit.Chem import MACCSkeys"
   ]
  },
  {
   "cell_type": "code",
   "execution_count": 115,
   "metadata": {
    "ExecuteTime": {
     "end_time": "2023-12-23T22:16:21.214248693Z",
     "start_time": "2023-12-23T22:16:11.668710666Z"
    }
   },
   "outputs": [
    {
     "name": "stderr",
     "output_type": "stream",
     "text": [
      "[22:16:15] Explicit valence for atom # 3 Si, 8, is greater than permitted\n"
     ]
    },
    {
     "name": "stdout",
     "output_type": "stream",
     "text": [
      "Can't generate MOL object: CID 28145 [NH4+].[NH4+].F[Si-2](F)(F)(F)(F)F\n"
     ]
    },
    {
     "name": "stderr",
     "output_type": "stream",
     "text": [
      "[22:16:19] WARNING: not removing hydrogen atom without neighbors\n",
      "[22:16:20] Explicit valence for atom # 1 Si, 8, is greater than permitted\n"
     ]
    },
    {
     "name": "stdout",
     "output_type": "stream",
     "text": [
      "Can't generate MOL object: CID 28127 F[Si-2](F)(F)(F)(F)F.[Na+].[Na+]\n"
     ]
    }
   ],
   "source": [
    "fps=dict()\n",
    "\n",
    "for idx, row in df_smiles.iterrows() :\n",
    "    \n",
    "    mol = Chem.MolFromSmiles(row.smiles)\n",
    "    \n",
    "    if mol == None :\n",
    "        print(\"Can't generate MOL object:\", \"CID\", row.cid, row.smiles)\n",
    "    else:\n",
    "        fps[row.cid] = [row.cid] + list(MACCSkeys.GenMACCSKeys(mol).ToBitString())"
   ]
  },
  {
   "cell_type": "code",
   "execution_count": 116,
   "metadata": {
    "ExecuteTime": {
     "end_time": "2023-12-23T22:16:21.296879122Z",
     "start_time": "2023-12-23T22:16:21.213174986Z"
    }
   },
   "outputs": [],
   "source": [
    "# Generate column names\n",
    "fpbitnames = []\n",
    "\n",
    "fpbitnames.append('cid')\n",
    "\n",
    "for i in range(0,167):   # from MACCS000 to MACCS166\n",
    "    fpbitnames.append( \"maccs\" + str(i).zfill(3) )\n",
    "\n",
    "df_fps = pd.DataFrame.from_dict(fps, orient='index', columns=fpbitnames)"
   ]
  },
  {
   "cell_type": "code",
   "execution_count": 117,
   "metadata": {
    "ExecuteTime": {
     "end_time": "2023-12-23T22:16:21.326975945Z",
     "start_time": "2023-12-23T22:16:21.309417907Z"
    }
   },
   "outputs": [
    {
     "data": {
      "text/plain": "               cid maccs000 maccs001 maccs002 maccs003 maccs004 maccs005  \\\n12850184  12850184        0        0        0        0        0        0   \n89753        89753        0        0        0        0        0        0   \n9403          9403        0        0        0        0        0        0   \n13218779  13218779        0        0        0        0        0        0   \n637566      637566        0        0        0        0        0        0   \n\n         maccs006 maccs007 maccs008  ... maccs157 maccs158 maccs159 maccs160  \\\n12850184        0        0        0  ...        1        0        1        0   \n89753           0        0        0  ...        1        0        1        0   \n9403            0        0        0  ...        1        0        1        1   \n13218779        0        0        0  ...        1        0        1        1   \n637566          0        0        0  ...        1        0        0        1   \n\n         maccs161 maccs162 maccs163 maccs164 maccs165 maccs166  \n12850184        0        0        0        1        0        1  \n89753           0        0        0        1        0        1  \n9403            0        1        1        1        1        0  \n13218779        1        0        1        1        1        0  \n637566          0        0        0        1        0        0  \n\n[5 rows x 168 columns]",
      "text/html": "<div>\n<style scoped>\n    .dataframe tbody tr th:only-of-type {\n        vertical-align: middle;\n    }\n\n    .dataframe tbody tr th {\n        vertical-align: top;\n    }\n\n    .dataframe thead th {\n        text-align: right;\n    }\n</style>\n<table border=\"1\" class=\"dataframe\">\n  <thead>\n    <tr style=\"text-align: right;\">\n      <th></th>\n      <th>cid</th>\n      <th>maccs000</th>\n      <th>maccs001</th>\n      <th>maccs002</th>\n      <th>maccs003</th>\n      <th>maccs004</th>\n      <th>maccs005</th>\n      <th>maccs006</th>\n      <th>maccs007</th>\n      <th>maccs008</th>\n      <th>...</th>\n      <th>maccs157</th>\n      <th>maccs158</th>\n      <th>maccs159</th>\n      <th>maccs160</th>\n      <th>maccs161</th>\n      <th>maccs162</th>\n      <th>maccs163</th>\n      <th>maccs164</th>\n      <th>maccs165</th>\n      <th>maccs166</th>\n    </tr>\n  </thead>\n  <tbody>\n    <tr>\n      <th>12850184</th>\n      <td>12850184</td>\n      <td>0</td>\n      <td>0</td>\n      <td>0</td>\n      <td>0</td>\n      <td>0</td>\n      <td>0</td>\n      <td>0</td>\n      <td>0</td>\n      <td>0</td>\n      <td>...</td>\n      <td>1</td>\n      <td>0</td>\n      <td>1</td>\n      <td>0</td>\n      <td>0</td>\n      <td>0</td>\n      <td>0</td>\n      <td>1</td>\n      <td>0</td>\n      <td>1</td>\n    </tr>\n    <tr>\n      <th>89753</th>\n      <td>89753</td>\n      <td>0</td>\n      <td>0</td>\n      <td>0</td>\n      <td>0</td>\n      <td>0</td>\n      <td>0</td>\n      <td>0</td>\n      <td>0</td>\n      <td>0</td>\n      <td>...</td>\n      <td>1</td>\n      <td>0</td>\n      <td>1</td>\n      <td>0</td>\n      <td>0</td>\n      <td>0</td>\n      <td>0</td>\n      <td>1</td>\n      <td>0</td>\n      <td>1</td>\n    </tr>\n    <tr>\n      <th>9403</th>\n      <td>9403</td>\n      <td>0</td>\n      <td>0</td>\n      <td>0</td>\n      <td>0</td>\n      <td>0</td>\n      <td>0</td>\n      <td>0</td>\n      <td>0</td>\n      <td>0</td>\n      <td>...</td>\n      <td>1</td>\n      <td>0</td>\n      <td>1</td>\n      <td>1</td>\n      <td>0</td>\n      <td>1</td>\n      <td>1</td>\n      <td>1</td>\n      <td>1</td>\n      <td>0</td>\n    </tr>\n    <tr>\n      <th>13218779</th>\n      <td>13218779</td>\n      <td>0</td>\n      <td>0</td>\n      <td>0</td>\n      <td>0</td>\n      <td>0</td>\n      <td>0</td>\n      <td>0</td>\n      <td>0</td>\n      <td>0</td>\n      <td>...</td>\n      <td>1</td>\n      <td>0</td>\n      <td>1</td>\n      <td>1</td>\n      <td>1</td>\n      <td>0</td>\n      <td>1</td>\n      <td>1</td>\n      <td>1</td>\n      <td>0</td>\n    </tr>\n    <tr>\n      <th>637566</th>\n      <td>637566</td>\n      <td>0</td>\n      <td>0</td>\n      <td>0</td>\n      <td>0</td>\n      <td>0</td>\n      <td>0</td>\n      <td>0</td>\n      <td>0</td>\n      <td>0</td>\n      <td>...</td>\n      <td>1</td>\n      <td>0</td>\n      <td>0</td>\n      <td>1</td>\n      <td>0</td>\n      <td>0</td>\n      <td>0</td>\n      <td>1</td>\n      <td>0</td>\n      <td>0</td>\n    </tr>\n  </tbody>\n</table>\n<p>5 rows × 168 columns</p>\n</div>"
     },
     "execution_count": 117,
     "metadata": {},
     "output_type": "execute_result"
    }
   ],
   "source": [
    "df_fps.head(5)"
   ]
  },
  {
   "cell_type": "markdown",
   "metadata": {},
   "source": [
    "## 6. Merge activity data and fingerprint information"
   ]
  },
  {
   "cell_type": "code",
   "execution_count": 118,
   "metadata": {
    "ExecuteTime": {
     "end_time": "2023-12-23T22:16:21.342010518Z",
     "start_time": "2023-12-23T22:16:21.331011275Z"
    }
   },
   "outputs": [
    {
     "data": {
      "text/plain": "          cid  activity\n3  12850184.0         0\n4     89753.0         0\n5      9403.0         0",
      "text/html": "<div>\n<style scoped>\n    .dataframe tbody tr th:only-of-type {\n        vertical-align: middle;\n    }\n\n    .dataframe tbody tr th {\n        vertical-align: top;\n    }\n\n    .dataframe thead th {\n        text-align: right;\n    }\n</style>\n<table border=\"1\" class=\"dataframe\">\n  <thead>\n    <tr style=\"text-align: right;\">\n      <th></th>\n      <th>cid</th>\n      <th>activity</th>\n    </tr>\n  </thead>\n  <tbody>\n    <tr>\n      <th>3</th>\n      <td>12850184.0</td>\n      <td>0</td>\n    </tr>\n    <tr>\n      <th>4</th>\n      <td>89753.0</td>\n      <td>0</td>\n    </tr>\n    <tr>\n      <th>5</th>\n      <td>9403.0</td>\n      <td>0</td>\n    </tr>\n  </tbody>\n</table>\n</div>"
     },
     "execution_count": 118,
     "metadata": {},
     "output_type": "execute_result"
    }
   ],
   "source": [
    "df_activity.head(3)"
   ]
  },
  {
   "cell_type": "code",
   "execution_count": 119,
   "metadata": {
    "ExecuteTime": {
     "end_time": "2023-12-23T22:16:21.507882478Z",
     "start_time": "2023-12-23T22:16:21.352898468Z"
    }
   },
   "outputs": [
    {
     "data": {
      "text/plain": "               cid maccs000 maccs001 maccs002 maccs003 maccs004 maccs005  \\\n12850184  12850184        0        0        0        0        0        0   \n89753        89753        0        0        0        0        0        0   \n9403          9403        0        0        0        0        0        0   \n\n         maccs006 maccs007 maccs008  ... maccs157 maccs158 maccs159 maccs160  \\\n12850184        0        0        0  ...        1        0        1        0   \n89753           0        0        0  ...        1        0        1        0   \n9403            0        0        0  ...        1        0        1        1   \n\n         maccs161 maccs162 maccs163 maccs164 maccs165 maccs166  \n12850184        0        0        0        1        0        1  \n89753           0        0        0        1        0        1  \n9403            0        1        1        1        1        0  \n\n[3 rows x 168 columns]",
      "text/html": "<div>\n<style scoped>\n    .dataframe tbody tr th:only-of-type {\n        vertical-align: middle;\n    }\n\n    .dataframe tbody tr th {\n        vertical-align: top;\n    }\n\n    .dataframe thead th {\n        text-align: right;\n    }\n</style>\n<table border=\"1\" class=\"dataframe\">\n  <thead>\n    <tr style=\"text-align: right;\">\n      <th></th>\n      <th>cid</th>\n      <th>maccs000</th>\n      <th>maccs001</th>\n      <th>maccs002</th>\n      <th>maccs003</th>\n      <th>maccs004</th>\n      <th>maccs005</th>\n      <th>maccs006</th>\n      <th>maccs007</th>\n      <th>maccs008</th>\n      <th>...</th>\n      <th>maccs157</th>\n      <th>maccs158</th>\n      <th>maccs159</th>\n      <th>maccs160</th>\n      <th>maccs161</th>\n      <th>maccs162</th>\n      <th>maccs163</th>\n      <th>maccs164</th>\n      <th>maccs165</th>\n      <th>maccs166</th>\n    </tr>\n  </thead>\n  <tbody>\n    <tr>\n      <th>12850184</th>\n      <td>12850184</td>\n      <td>0</td>\n      <td>0</td>\n      <td>0</td>\n      <td>0</td>\n      <td>0</td>\n      <td>0</td>\n      <td>0</td>\n      <td>0</td>\n      <td>0</td>\n      <td>...</td>\n      <td>1</td>\n      <td>0</td>\n      <td>1</td>\n      <td>0</td>\n      <td>0</td>\n      <td>0</td>\n      <td>0</td>\n      <td>1</td>\n      <td>0</td>\n      <td>1</td>\n    </tr>\n    <tr>\n      <th>89753</th>\n      <td>89753</td>\n      <td>0</td>\n      <td>0</td>\n      <td>0</td>\n      <td>0</td>\n      <td>0</td>\n      <td>0</td>\n      <td>0</td>\n      <td>0</td>\n      <td>0</td>\n      <td>...</td>\n      <td>1</td>\n      <td>0</td>\n      <td>1</td>\n      <td>0</td>\n      <td>0</td>\n      <td>0</td>\n      <td>0</td>\n      <td>1</td>\n      <td>0</td>\n      <td>1</td>\n    </tr>\n    <tr>\n      <th>9403</th>\n      <td>9403</td>\n      <td>0</td>\n      <td>0</td>\n      <td>0</td>\n      <td>0</td>\n      <td>0</td>\n      <td>0</td>\n      <td>0</td>\n      <td>0</td>\n      <td>0</td>\n      <td>...</td>\n      <td>1</td>\n      <td>0</td>\n      <td>1</td>\n      <td>1</td>\n      <td>0</td>\n      <td>1</td>\n      <td>1</td>\n      <td>1</td>\n      <td>1</td>\n      <td>0</td>\n    </tr>\n  </tbody>\n</table>\n<p>3 rows × 168 columns</p>\n</div>"
     },
     "execution_count": 119,
     "metadata": {},
     "output_type": "execute_result"
    }
   ],
   "source": [
    "df_fps.head(3)"
   ]
  },
  {
   "cell_type": "code",
   "execution_count": 120,
   "metadata": {
    "ExecuteTime": {
     "end_time": "2023-12-23T22:16:21.512808117Z",
     "start_time": "2023-12-23T22:16:21.396429801Z"
    }
   },
   "outputs": [],
   "source": [
    "df_data = df_activity.join(df_fps.set_index('cid'), on='cid')"
   ]
  },
  {
   "cell_type": "markdown",
   "metadata": {},
   "source": [
    "In Section 5, there were two CIDs for which the MACCS keys could not be generated.  They need to be removed from **df_data**."
   ]
  },
  {
   "cell_type": "code",
   "execution_count": 121,
   "metadata": {
    "ExecuteTime": {
     "end_time": "2023-12-23T22:16:21.587172942Z",
     "start_time": "2023-12-23T22:16:21.468026602Z"
    }
   },
   "outputs": [
    {
     "data": {
      "text/plain": "          cid  activity maccs000 maccs001 maccs002 maccs003 maccs004 maccs005  \\\n2293  28145.0         0      NaN      NaN      NaN      NaN      NaN      NaN   \n9077  28127.0         0      NaN      NaN      NaN      NaN      NaN      NaN   \n\n     maccs006 maccs007  ... maccs157 maccs158 maccs159 maccs160 maccs161  \\\n2293      NaN      NaN  ...      NaN      NaN      NaN      NaN      NaN   \n9077      NaN      NaN  ...      NaN      NaN      NaN      NaN      NaN   \n\n     maccs162 maccs163 maccs164 maccs165 maccs166  \n2293      NaN      NaN      NaN      NaN      NaN  \n9077      NaN      NaN      NaN      NaN      NaN  \n\n[2 rows x 169 columns]",
      "text/html": "<div>\n<style scoped>\n    .dataframe tbody tr th:only-of-type {\n        vertical-align: middle;\n    }\n\n    .dataframe tbody tr th {\n        vertical-align: top;\n    }\n\n    .dataframe thead th {\n        text-align: right;\n    }\n</style>\n<table border=\"1\" class=\"dataframe\">\n  <thead>\n    <tr style=\"text-align: right;\">\n      <th></th>\n      <th>cid</th>\n      <th>activity</th>\n      <th>maccs000</th>\n      <th>maccs001</th>\n      <th>maccs002</th>\n      <th>maccs003</th>\n      <th>maccs004</th>\n      <th>maccs005</th>\n      <th>maccs006</th>\n      <th>maccs007</th>\n      <th>...</th>\n      <th>maccs157</th>\n      <th>maccs158</th>\n      <th>maccs159</th>\n      <th>maccs160</th>\n      <th>maccs161</th>\n      <th>maccs162</th>\n      <th>maccs163</th>\n      <th>maccs164</th>\n      <th>maccs165</th>\n      <th>maccs166</th>\n    </tr>\n  </thead>\n  <tbody>\n    <tr>\n      <th>2293</th>\n      <td>28145.0</td>\n      <td>0</td>\n      <td>NaN</td>\n      <td>NaN</td>\n      <td>NaN</td>\n      <td>NaN</td>\n      <td>NaN</td>\n      <td>NaN</td>\n      <td>NaN</td>\n      <td>NaN</td>\n      <td>...</td>\n      <td>NaN</td>\n      <td>NaN</td>\n      <td>NaN</td>\n      <td>NaN</td>\n      <td>NaN</td>\n      <td>NaN</td>\n      <td>NaN</td>\n      <td>NaN</td>\n      <td>NaN</td>\n      <td>NaN</td>\n    </tr>\n    <tr>\n      <th>9077</th>\n      <td>28127.0</td>\n      <td>0</td>\n      <td>NaN</td>\n      <td>NaN</td>\n      <td>NaN</td>\n      <td>NaN</td>\n      <td>NaN</td>\n      <td>NaN</td>\n      <td>NaN</td>\n      <td>NaN</td>\n      <td>...</td>\n      <td>NaN</td>\n      <td>NaN</td>\n      <td>NaN</td>\n      <td>NaN</td>\n      <td>NaN</td>\n      <td>NaN</td>\n      <td>NaN</td>\n      <td>NaN</td>\n      <td>NaN</td>\n      <td>NaN</td>\n    </tr>\n  </tbody>\n</table>\n<p>2 rows × 169 columns</p>\n</div>"
     },
     "execution_count": 121,
     "metadata": {},
     "output_type": "execute_result"
    }
   ],
   "source": [
    "df_data[df_data.isna().any(axis=1)]"
   ]
  },
  {
   "cell_type": "code",
   "execution_count": 122,
   "metadata": {
    "ExecuteTime": {
     "end_time": "2023-12-23T22:16:21.657028895Z",
     "start_time": "2023-12-23T22:16:21.492649402Z"
    }
   },
   "outputs": [
    {
     "data": {
      "text/plain": "6789"
     },
     "execution_count": 122,
     "metadata": {},
     "output_type": "execute_result"
    }
   ],
   "source": [
    "df_data = df_data.dropna()\n",
    "len(df_data)"
   ]
  },
  {
   "cell_type": "markdown",
   "metadata": {},
   "source": [
    "Save df_data in CSV for future use."
   ]
  },
  {
   "cell_type": "code",
   "execution_count": 182,
   "metadata": {
    "ExecuteTime": {
     "end_time": "2023-12-23T22:43:53.868314278Z",
     "start_time": "2023-12-23T22:43:52.179394194Z"
    }
   },
   "outputs": [],
   "source": [
    "df_data.to_csv(f'{DATA_DIR}/df_data.csv')"
   ]
  },
  {
   "cell_type": "markdown",
   "metadata": {},
   "source": [
    "## 7. Preparation for model building"
   ]
  },
  {
   "cell_type": "markdown",
   "metadata": {},
   "source": [
    "## 7-(1) Loading the data into X and y."
   ]
  },
  {
   "cell_type": "code",
   "execution_count": 124,
   "metadata": {
    "ExecuteTime": {
     "end_time": "2023-12-23T22:16:21.940626343Z",
     "start_time": "2023-12-23T22:16:21.788543687Z"
    }
   },
   "outputs": [
    {
     "data": {
      "text/plain": "          cid  activity maccs000 maccs001 maccs002 maccs003 maccs004 maccs005  \\\n3  12850184.0         0        0        0        0        0        0        0   \n4     89753.0         0        0        0        0        0        0        0   \n5      9403.0         0        0        0        0        0        0        0   \n\n  maccs006 maccs007  ... maccs157 maccs158 maccs159 maccs160 maccs161  \\\n3        0        0  ...        1        0        1        0        0   \n4        0        0  ...        1        0        1        0        0   \n5        0        0  ...        1        0        1        1        0   \n\n  maccs162 maccs163 maccs164 maccs165 maccs166  \n3        0        0        1        0        1  \n4        0        0        1        0        1  \n5        1        1        1        1        0  \n\n[3 rows x 169 columns]",
      "text/html": "<div>\n<style scoped>\n    .dataframe tbody tr th:only-of-type {\n        vertical-align: middle;\n    }\n\n    .dataframe tbody tr th {\n        vertical-align: top;\n    }\n\n    .dataframe thead th {\n        text-align: right;\n    }\n</style>\n<table border=\"1\" class=\"dataframe\">\n  <thead>\n    <tr style=\"text-align: right;\">\n      <th></th>\n      <th>cid</th>\n      <th>activity</th>\n      <th>maccs000</th>\n      <th>maccs001</th>\n      <th>maccs002</th>\n      <th>maccs003</th>\n      <th>maccs004</th>\n      <th>maccs005</th>\n      <th>maccs006</th>\n      <th>maccs007</th>\n      <th>...</th>\n      <th>maccs157</th>\n      <th>maccs158</th>\n      <th>maccs159</th>\n      <th>maccs160</th>\n      <th>maccs161</th>\n      <th>maccs162</th>\n      <th>maccs163</th>\n      <th>maccs164</th>\n      <th>maccs165</th>\n      <th>maccs166</th>\n    </tr>\n  </thead>\n  <tbody>\n    <tr>\n      <th>3</th>\n      <td>12850184.0</td>\n      <td>0</td>\n      <td>0</td>\n      <td>0</td>\n      <td>0</td>\n      <td>0</td>\n      <td>0</td>\n      <td>0</td>\n      <td>0</td>\n      <td>0</td>\n      <td>...</td>\n      <td>1</td>\n      <td>0</td>\n      <td>1</td>\n      <td>0</td>\n      <td>0</td>\n      <td>0</td>\n      <td>0</td>\n      <td>1</td>\n      <td>0</td>\n      <td>1</td>\n    </tr>\n    <tr>\n      <th>4</th>\n      <td>89753.0</td>\n      <td>0</td>\n      <td>0</td>\n      <td>0</td>\n      <td>0</td>\n      <td>0</td>\n      <td>0</td>\n      <td>0</td>\n      <td>0</td>\n      <td>0</td>\n      <td>...</td>\n      <td>1</td>\n      <td>0</td>\n      <td>1</td>\n      <td>0</td>\n      <td>0</td>\n      <td>0</td>\n      <td>0</td>\n      <td>1</td>\n      <td>0</td>\n      <td>1</td>\n    </tr>\n    <tr>\n      <th>5</th>\n      <td>9403.0</td>\n      <td>0</td>\n      <td>0</td>\n      <td>0</td>\n      <td>0</td>\n      <td>0</td>\n      <td>0</td>\n      <td>0</td>\n      <td>0</td>\n      <td>0</td>\n      <td>...</td>\n      <td>1</td>\n      <td>0</td>\n      <td>1</td>\n      <td>1</td>\n      <td>0</td>\n      <td>1</td>\n      <td>1</td>\n      <td>1</td>\n      <td>1</td>\n      <td>0</td>\n    </tr>\n  </tbody>\n</table>\n<p>3 rows × 169 columns</p>\n</div>"
     },
     "execution_count": 124,
     "metadata": {},
     "output_type": "execute_result"
    }
   ],
   "source": [
    "df_data.head(3)"
   ]
  },
  {
   "cell_type": "code",
   "execution_count": 125,
   "metadata": {
    "ExecuteTime": {
     "end_time": "2023-12-23T22:16:21.945546106Z",
     "start_time": "2023-12-23T22:16:21.789161134Z"
    }
   },
   "outputs": [],
   "source": [
    "X = df_data.iloc[:,2:]\n",
    "y = df_data['activity'].values"
   ]
  },
  {
   "cell_type": "code",
   "execution_count": 126,
   "metadata": {
    "ExecuteTime": {
     "end_time": "2023-12-23T22:16:21.952649900Z",
     "start_time": "2023-12-23T22:16:21.832590017Z"
    }
   },
   "outputs": [
    {
     "data": {
      "text/plain": "  maccs000 maccs001 maccs002 maccs003 maccs004 maccs005 maccs006 maccs007  \\\n3        0        0        0        0        0        0        0        0   \n4        0        0        0        0        0        0        0        0   \n5        0        0        0        0        0        0        0        0   \n\n  maccs008 maccs009  ... maccs157 maccs158 maccs159 maccs160 maccs161  \\\n3        0        0  ...        1        0        1        0        0   \n4        0        0  ...        1        0        1        0        0   \n5        0        0  ...        1        0        1        1        0   \n\n  maccs162 maccs163 maccs164 maccs165 maccs166  \n3        0        0        1        0        1  \n4        0        0        1        0        1  \n5        1        1        1        1        0  \n\n[3 rows x 167 columns]",
      "text/html": "<div>\n<style scoped>\n    .dataframe tbody tr th:only-of-type {\n        vertical-align: middle;\n    }\n\n    .dataframe tbody tr th {\n        vertical-align: top;\n    }\n\n    .dataframe thead th {\n        text-align: right;\n    }\n</style>\n<table border=\"1\" class=\"dataframe\">\n  <thead>\n    <tr style=\"text-align: right;\">\n      <th></th>\n      <th>maccs000</th>\n      <th>maccs001</th>\n      <th>maccs002</th>\n      <th>maccs003</th>\n      <th>maccs004</th>\n      <th>maccs005</th>\n      <th>maccs006</th>\n      <th>maccs007</th>\n      <th>maccs008</th>\n      <th>maccs009</th>\n      <th>...</th>\n      <th>maccs157</th>\n      <th>maccs158</th>\n      <th>maccs159</th>\n      <th>maccs160</th>\n      <th>maccs161</th>\n      <th>maccs162</th>\n      <th>maccs163</th>\n      <th>maccs164</th>\n      <th>maccs165</th>\n      <th>maccs166</th>\n    </tr>\n  </thead>\n  <tbody>\n    <tr>\n      <th>3</th>\n      <td>0</td>\n      <td>0</td>\n      <td>0</td>\n      <td>0</td>\n      <td>0</td>\n      <td>0</td>\n      <td>0</td>\n      <td>0</td>\n      <td>0</td>\n      <td>0</td>\n      <td>...</td>\n      <td>1</td>\n      <td>0</td>\n      <td>1</td>\n      <td>0</td>\n      <td>0</td>\n      <td>0</td>\n      <td>0</td>\n      <td>1</td>\n      <td>0</td>\n      <td>1</td>\n    </tr>\n    <tr>\n      <th>4</th>\n      <td>0</td>\n      <td>0</td>\n      <td>0</td>\n      <td>0</td>\n      <td>0</td>\n      <td>0</td>\n      <td>0</td>\n      <td>0</td>\n      <td>0</td>\n      <td>0</td>\n      <td>...</td>\n      <td>1</td>\n      <td>0</td>\n      <td>1</td>\n      <td>0</td>\n      <td>0</td>\n      <td>0</td>\n      <td>0</td>\n      <td>1</td>\n      <td>0</td>\n      <td>1</td>\n    </tr>\n    <tr>\n      <th>5</th>\n      <td>0</td>\n      <td>0</td>\n      <td>0</td>\n      <td>0</td>\n      <td>0</td>\n      <td>0</td>\n      <td>0</td>\n      <td>0</td>\n      <td>0</td>\n      <td>0</td>\n      <td>...</td>\n      <td>1</td>\n      <td>0</td>\n      <td>1</td>\n      <td>1</td>\n      <td>0</td>\n      <td>1</td>\n      <td>1</td>\n      <td>1</td>\n      <td>1</td>\n      <td>0</td>\n    </tr>\n  </tbody>\n</table>\n<p>3 rows × 167 columns</p>\n</div>"
     },
     "execution_count": 126,
     "metadata": {},
     "output_type": "execute_result"
    }
   ],
   "source": [
    "X.head(3)"
   ]
  },
  {
   "cell_type": "code",
   "execution_count": 127,
   "metadata": {
    "ExecuteTime": {
     "end_time": "2023-12-23T22:16:21.960733373Z",
     "start_time": "2023-12-23T22:16:21.833385522Z"
    }
   },
   "outputs": [
    {
     "name": "stdout",
     "output_type": "stream",
     "text": [
      "6789\n"
     ]
    },
    {
     "data": {
      "text/plain": "741"
     },
     "execution_count": 127,
     "metadata": {},
     "output_type": "execute_result"
    }
   ],
   "source": [
    "print(len(y))    # Number of all compounds\n",
    "y.sum()          # Number of actives"
   ]
  },
  {
   "cell_type": "markdown",
   "metadata": {},
   "source": [
    "## 7-(2) Remove zero-variance features"
   ]
  },
  {
   "cell_type": "markdown",
   "metadata": {},
   "source": [
    "Some features in X are not helpful in distinguishing actives from inactives, because they are set ON for all compounds or OFF for all compounds.  Such features need to be removed because they would consume more computational resources without improving the model."
   ]
  },
  {
   "cell_type": "code",
   "execution_count": 128,
   "metadata": {
    "ExecuteTime": {
     "end_time": "2023-12-23T22:16:21.966167135Z",
     "start_time": "2023-12-23T22:16:21.876337292Z"
    }
   },
   "outputs": [],
   "source": [
    "from sklearn.feature_selection import VarianceThreshold"
   ]
  },
  {
   "cell_type": "code",
   "execution_count": 129,
   "metadata": {
    "ExecuteTime": {
     "end_time": "2023-12-23T22:16:21.972850889Z",
     "start_time": "2023-12-23T22:16:21.876840764Z"
    }
   },
   "outputs": [
    {
     "data": {
      "text/plain": "(6789, 167)"
     },
     "execution_count": 129,
     "metadata": {},
     "output_type": "execute_result"
    }
   ],
   "source": [
    "X.shape  #- Before removal"
   ]
  },
  {
   "cell_type": "code",
   "execution_count": 130,
   "metadata": {
    "ExecuteTime": {
     "end_time": "2023-12-23T22:16:22.203558282Z",
     "start_time": "2023-12-23T22:16:21.970889410Z"
    }
   },
   "outputs": [
    {
     "data": {
      "text/plain": "(6789, 163)"
     },
     "execution_count": 130,
     "metadata": {},
     "output_type": "execute_result"
    }
   ],
   "source": [
    "sel = VarianceThreshold()\n",
    "X=sel.fit_transform(X)\n",
    "X.shape  #- After removal"
   ]
  },
  {
   "cell_type": "markdown",
   "metadata": {},
   "source": [
    "In this case, four features had zero variances.  Note that one of them is the first bit (maccs000) of the MACCS keys, which is added as a \"dummy\" to name each of bits 1~166 as maccs001, maccs002, ... maccs166.  "
   ]
  },
  {
   "cell_type": "markdown",
   "metadata": {},
   "source": [
    "## 7-(3) Train-Test-Split (a 9:1 ratio)"
   ]
  },
  {
   "cell_type": "markdown",
   "metadata": {},
   "source": [
    "Now split the data set into a training set (90%) and test set (10%).  The training set will be used to train the model.  The developed model will be tested against the test set."
   ]
  },
  {
   "cell_type": "code",
   "execution_count": 131,
   "metadata": {
    "ExecuteTime": {
     "end_time": "2023-12-23T22:16:22.292609397Z",
     "start_time": "2023-12-23T22:16:22.059908Z"
    }
   },
   "outputs": [
    {
     "name": "stdout",
     "output_type": "stream",
     "text": [
      "(6110, 163) (679, 163) (6110,) (679,)\n",
      "667 74\n"
     ]
    }
   ],
   "source": [
    "from sklearn.model_selection import train_test_split\n",
    "\n",
    "X_train, X_test, y_train, y_test = \\\n",
    "    train_test_split(X, y, shuffle=True, random_state=3100, stratify=y, test_size=0.1)\n",
    "\n",
    "print(X_train.shape, X_test.shape, y_train.shape, y_test.shape)\n",
    "print(y_train.sum(), y_test.sum())"
   ]
  },
  {
   "cell_type": "markdown",
   "metadata": {},
   "source": [
    "## 7-(4) Balance the training set through downsampling"
   ]
  },
  {
   "cell_type": "markdown",
   "metadata": {},
   "source": [
    "Check the dimension of the training data set."
   ]
  },
  {
   "cell_type": "code",
   "execution_count": 132,
   "metadata": {
    "ExecuteTime": {
     "end_time": "2023-12-23T22:16:22.611521239Z",
     "start_time": "2023-12-23T22:16:22.154103553Z"
    }
   },
   "outputs": [
    {
     "name": "stdout",
     "output_type": "stream",
     "text": [
      "6110\n",
      "6110\n",
      "163\n"
     ]
    }
   ],
   "source": [
    "print(len(y_train))\n",
    "print(len(X_train))\n",
    "print(len(X_train[0]))"
   ]
  },
  {
   "cell_type": "markdown",
   "metadata": {},
   "source": [
    "Check the number of actives and inactives compound."
   ]
  },
  {
   "cell_type": "code",
   "execution_count": 133,
   "metadata": {
    "ExecuteTime": {
     "end_time": "2023-12-23T22:16:22.628144393Z",
     "start_time": "2023-12-23T22:16:22.161679360Z"
    }
   },
   "outputs": [
    {
     "name": "stdout",
     "output_type": "stream",
     "text": [
      "# inactives :  5443\n",
      "# actives   :  667\n"
     ]
    }
   ],
   "source": [
    "print(\"# inactives : \", len(y_train) - y_train.sum())\n",
    "print(\"# actives   : \", y_train.sum())"
   ]
  },
  {
   "cell_type": "markdown",
   "metadata": {},
   "source": [
    "The data set is highly imbalanced \\[the inactive to active ratio is 8.16 (=5448 / 668)].  To address this issue, let's downsample the majority class (inactive compounds) to balance the data set."
   ]
  },
  {
   "cell_type": "code",
   "execution_count": 134,
   "metadata": {
    "ExecuteTime": {
     "end_time": "2023-12-23T22:16:22.647416606Z",
     "start_time": "2023-12-23T22:16:22.174170596Z"
    }
   },
   "outputs": [],
   "source": [
    "# Indicies of each class' observations\n",
    "idx_inactives = np.where( y_train == 0 )[0]\n",
    "idx_actives   = np.where( y_train == 1 )[0]\n",
    "\n",
    "# Number of observations in each class\n",
    "num_inactives = len(idx_inactives)\n",
    "num_actives   = len(idx_actives)\n",
    "\n",
    "# Randomly sample from inactives without replacement\n",
    "np.random.seed(0)\n",
    "idx_inactives_downsampled = np.random.choice(idx_inactives, size=num_actives, replace=False)\n",
    "\n",
    "# Join together downsampled inactives with actives\n",
    "X_train = np.vstack((X_train[idx_inactives_downsampled], X_train[idx_actives]))\n",
    "y_train = np.hstack((y_train[idx_inactives_downsampled], y_train[idx_actives]))"
   ]
  },
  {
   "cell_type": "markdown",
   "metadata": {},
   "source": [
    "It is noteworthy that **np.vstack** is used for X_train and **np.hstack** is used for Y_train.  The direction of stacking is different because X_train is a 2-D array and y_train is a 1-D array.\n",
    "\n",
    "Confirm that the downsampled data set has the correct dimension and active/inactive counts."
   ]
  },
  {
   "cell_type": "code",
   "execution_count": 135,
   "metadata": {
    "ExecuteTime": {
     "end_time": "2023-12-23T22:16:22.656281538Z",
     "start_time": "2023-12-23T22:16:22.220291562Z"
    }
   },
   "outputs": [
    {
     "name": "stdout",
     "output_type": "stream",
     "text": [
      "# inactives :  667\n",
      "# actives   :  667\n"
     ]
    }
   ],
   "source": [
    "print(\"# inactives : \", len(y_train) - y_train.sum())\n",
    "print(\"# actives   : \", y_train.sum())"
   ]
  },
  {
   "cell_type": "code",
   "execution_count": 136,
   "metadata": {
    "ExecuteTime": {
     "end_time": "2023-12-23T22:16:22.662021690Z",
     "start_time": "2023-12-23T22:16:22.220742588Z"
    }
   },
   "outputs": [
    {
     "name": "stdout",
     "output_type": "stream",
     "text": [
      "1334\n",
      "1334\n",
      "163\n"
     ]
    }
   ],
   "source": [
    "print(len(y_train))\n",
    "print(len(X_train))\n",
    "print(len(X_train[0]))"
   ]
  },
  {
   "cell_type": "markdown",
   "metadata": {},
   "source": [
    "# 8. Build a model using the training set."
   ]
  },
  {
   "cell_type": "markdown",
   "metadata": {},
   "source": [
    "Now we are ready to build predictive models using machine learning algorithms available in the scikit-learn library (https://scikit-learn.org/).  This notebook will use Naive Bayes and decisiont tree, because they are relatively fast and simple."
   ]
  },
  {
   "cell_type": "code",
   "execution_count": 137,
   "metadata": {
    "ExecuteTime": {
     "end_time": "2023-12-23T22:16:22.666499625Z",
     "start_time": "2023-12-23T22:16:22.221228209Z"
    }
   },
   "outputs": [],
   "source": [
    "from sklearn.naive_bayes import BernoulliNB        #-- Naive Bayes\n",
    "from sklearn.tree import DecisionTreeClassifier    #-- Decision Tree"
   ]
  },
  {
   "cell_type": "code",
   "execution_count": 138,
   "metadata": {
    "ExecuteTime": {
     "end_time": "2023-12-23T22:16:22.671130172Z",
     "start_time": "2023-12-23T22:16:22.221647557Z"
    }
   },
   "outputs": [],
   "source": [
    "from sklearn.metrics import classification_report\n",
    "from sklearn.metrics import confusion_matrix \n",
    "from sklearn.metrics import accuracy_score\n",
    "from sklearn.metrics import roc_auc_score"
   ]
  },
  {
   "cell_type": "markdown",
   "metadata": {},
   "source": [
    "## 8-(1) Naive Bayes"
   ]
  },
  {
   "cell_type": "code",
   "execution_count": 139,
   "metadata": {
    "ExecuteTime": {
     "end_time": "2023-12-23T22:16:22.674967984Z",
     "start_time": "2023-12-23T22:16:22.222075283Z"
    }
   },
   "outputs": [],
   "source": [
    "clf = BernoulliNB()            # set up the NB classification model"
   ]
  },
  {
   "cell_type": "code",
   "execution_count": 140,
   "metadata": {
    "ExecuteTime": {
     "end_time": "2023-12-23T22:16:22.840148294Z",
     "start_time": "2023-12-23T22:16:22.264097861Z"
    }
   },
   "outputs": [
    {
     "data": {
      "text/plain": "BernoulliNB()",
      "text/html": "<style>#sk-container-id-3 {color: black;}#sk-container-id-3 pre{padding: 0;}#sk-container-id-3 div.sk-toggleable {background-color: white;}#sk-container-id-3 label.sk-toggleable__label {cursor: pointer;display: block;width: 100%;margin-bottom: 0;padding: 0.3em;box-sizing: border-box;text-align: center;}#sk-container-id-3 label.sk-toggleable__label-arrow:before {content: \"▸\";float: left;margin-right: 0.25em;color: #696969;}#sk-container-id-3 label.sk-toggleable__label-arrow:hover:before {color: black;}#sk-container-id-3 div.sk-estimator:hover label.sk-toggleable__label-arrow:before {color: black;}#sk-container-id-3 div.sk-toggleable__content {max-height: 0;max-width: 0;overflow: hidden;text-align: left;background-color: #f0f8ff;}#sk-container-id-3 div.sk-toggleable__content pre {margin: 0.2em;color: black;border-radius: 0.25em;background-color: #f0f8ff;}#sk-container-id-3 input.sk-toggleable__control:checked~div.sk-toggleable__content {max-height: 200px;max-width: 100%;overflow: auto;}#sk-container-id-3 input.sk-toggleable__control:checked~label.sk-toggleable__label-arrow:before {content: \"▾\";}#sk-container-id-3 div.sk-estimator input.sk-toggleable__control:checked~label.sk-toggleable__label {background-color: #d4ebff;}#sk-container-id-3 div.sk-label input.sk-toggleable__control:checked~label.sk-toggleable__label {background-color: #d4ebff;}#sk-container-id-3 input.sk-hidden--visually {border: 0;clip: rect(1px 1px 1px 1px);clip: rect(1px, 1px, 1px, 1px);height: 1px;margin: -1px;overflow: hidden;padding: 0;position: absolute;width: 1px;}#sk-container-id-3 div.sk-estimator {font-family: monospace;background-color: #f0f8ff;border: 1px dotted black;border-radius: 0.25em;box-sizing: border-box;margin-bottom: 0.5em;}#sk-container-id-3 div.sk-estimator:hover {background-color: #d4ebff;}#sk-container-id-3 div.sk-parallel-item::after {content: \"\";width: 100%;border-bottom: 1px solid gray;flex-grow: 1;}#sk-container-id-3 div.sk-label:hover label.sk-toggleable__label {background-color: #d4ebff;}#sk-container-id-3 div.sk-serial::before {content: \"\";position: absolute;border-left: 1px solid gray;box-sizing: border-box;top: 0;bottom: 0;left: 50%;z-index: 0;}#sk-container-id-3 div.sk-serial {display: flex;flex-direction: column;align-items: center;background-color: white;padding-right: 0.2em;padding-left: 0.2em;position: relative;}#sk-container-id-3 div.sk-item {position: relative;z-index: 1;}#sk-container-id-3 div.sk-parallel {display: flex;align-items: stretch;justify-content: center;background-color: white;position: relative;}#sk-container-id-3 div.sk-item::before, #sk-container-id-3 div.sk-parallel-item::before {content: \"\";position: absolute;border-left: 1px solid gray;box-sizing: border-box;top: 0;bottom: 0;left: 50%;z-index: -1;}#sk-container-id-3 div.sk-parallel-item {display: flex;flex-direction: column;z-index: 1;position: relative;background-color: white;}#sk-container-id-3 div.sk-parallel-item:first-child::after {align-self: flex-end;width: 50%;}#sk-container-id-3 div.sk-parallel-item:last-child::after {align-self: flex-start;width: 50%;}#sk-container-id-3 div.sk-parallel-item:only-child::after {width: 0;}#sk-container-id-3 div.sk-dashed-wrapped {border: 1px dashed gray;margin: 0 0.4em 0.5em 0.4em;box-sizing: border-box;padding-bottom: 0.4em;background-color: white;}#sk-container-id-3 div.sk-label label {font-family: monospace;font-weight: bold;display: inline-block;line-height: 1.2em;}#sk-container-id-3 div.sk-label-container {text-align: center;}#sk-container-id-3 div.sk-container {/* jupyter's `normalize.less` sets `[hidden] { display: none; }` but bootstrap.min.css set `[hidden] { display: none !important; }` so we also need the `!important` here to be able to override the default hidden behavior on the sphinx rendered scikit-learn.org. See: https://github.com/scikit-learn/scikit-learn/issues/21755 */display: inline-block !important;position: relative;}#sk-container-id-3 div.sk-text-repr-fallback {display: none;}</style><div id=\"sk-container-id-3\" class=\"sk-top-container\"><div class=\"sk-text-repr-fallback\"><pre>BernoulliNB()</pre><b>In a Jupyter environment, please rerun this cell to show the HTML representation or trust the notebook. <br />On GitHub, the HTML representation is unable to render, please try loading this page with nbviewer.org.</b></div><div class=\"sk-container\" hidden><div class=\"sk-item\"><div class=\"sk-estimator sk-toggleable\"><input class=\"sk-toggleable__control sk-hidden--visually\" id=\"sk-estimator-id-3\" type=\"checkbox\" checked><label for=\"sk-estimator-id-3\" class=\"sk-toggleable__label sk-toggleable__label-arrow\">BernoulliNB</label><div class=\"sk-toggleable__content\"><pre>BernoulliNB()</pre></div></div></div></div></div>"
     },
     "execution_count": 140,
     "metadata": {},
     "output_type": "execute_result"
    }
   ],
   "source": [
    "clf.fit( X_train ,y_train )    # Train the model by fitting it to the data."
   ]
  },
  {
   "cell_type": "code",
   "execution_count": 141,
   "metadata": {
    "ExecuteTime": {
     "end_time": "2023-12-23T22:16:22.870476695Z",
     "start_time": "2023-12-23T22:16:22.482977039Z"
    }
   },
   "outputs": [],
   "source": [
    "y_true, y_pred = y_train, clf.predict( X_train )    # Apply the model to predict the training compound's activity."
   ]
  },
  {
   "cell_type": "code",
   "execution_count": 142,
   "metadata": {
    "ExecuteTime": {
     "end_time": "2023-12-23T22:16:22.878898538Z",
     "start_time": "2023-12-23T22:16:22.483396281Z"
    }
   },
   "outputs": [
    {
     "name": "stdout",
     "output_type": "stream",
     "text": [
      "[[448 219]\n",
      " [184 483]]\n"
     ]
    }
   ],
   "source": [
    "CMat = confusion_matrix( y_true, y_pred )    #-- generate confusion matrix\n",
    "print(CMat)    # [[TN, FP], \n",
    "               #  [FN, TP]]"
   ]
  },
  {
   "cell_type": "code",
   "execution_count": 143,
   "metadata": {
    "ExecuteTime": {
     "end_time": "2023-12-23T22:16:22.935471209Z",
     "start_time": "2023-12-23T22:16:22.483758060Z"
    }
   },
   "outputs": [],
   "source": [
    "acc  = accuracy_score( y_true, y_pred )\n",
    "\n",
    "sens = CMat[ 1 ][ 1 ] / ( CMat[ 1 ][ 0 ] + CMat[ 1 ][ 1 ] )    # TP / (FN + TP)\n",
    "spec = CMat[ 0 ][ 0 ] / ( CMat[ 0 ][ 0 ] + CMat[ 0 ][ 1 ] )    # TN / (TN + FP )\n",
    "bacc = (sens + spec) / 2\n",
    "\n",
    "y_score = clf.predict_proba( X_train )[:, 1]\n",
    "auc = roc_auc_score( y_true, y_score )"
   ]
  },
  {
   "cell_type": "code",
   "execution_count": 144,
   "metadata": {
    "ExecuteTime": {
     "end_time": "2023-12-23T22:16:22.944270079Z",
     "start_time": "2023-12-23T22:16:22.518647044Z"
    }
   },
   "outputs": [
    {
     "name": "stdout",
     "output_type": "stream",
     "text": [
      "#-- Accuracy          =  0.6979010494752623\n",
      "#-- Balanced Accuracy =  0.6979010494752624\n",
      "#-- Sensitivity       =  0.7241379310344828\n",
      "#-- Specificity       =  0.671664167916042\n",
      "#-- AUC-ROC           =  0.7533665700882692\n"
     ]
    }
   ],
   "source": [
    "print(\"#-- Accuracy          = \", acc)\n",
    "print(\"#-- Balanced Accuracy = \", bacc)\n",
    "print(\"#-- Sensitivity       = \", sens)\n",
    "print(\"#-- Specificity       = \", spec)\n",
    "print(\"#-- AUC-ROC           = \", auc)"
   ]
  },
  {
   "cell_type": "markdown",
   "metadata": {},
   "source": [
    "When applied to predict the activity of the training compounds, the NB classifier resulted in the accuracy of 0.70 and AUC-ROC of 0.75.  However, the real performance of the model should be evaluated with the test set data, which are not used for model training."
   ]
  },
  {
   "cell_type": "code",
   "execution_count": 145,
   "metadata": {
    "ExecuteTime": {
     "end_time": "2023-12-23T22:16:22.948760674Z",
     "start_time": "2023-12-23T22:16:22.538879082Z"
    }
   },
   "outputs": [],
   "source": [
    "y_true, y_pred = y_test, clf.predict(X_test)    #-- Apply the model to predict the test set compounds' activity."
   ]
  },
  {
   "cell_type": "code",
   "execution_count": 146,
   "metadata": {
    "ExecuteTime": {
     "end_time": "2023-12-23T22:16:22.974810310Z",
     "start_time": "2023-12-23T22:16:22.583738482Z"
    }
   },
   "outputs": [
    {
     "name": "stdout",
     "output_type": "stream",
     "text": [
      "[[401 204]\n",
      " [ 28  46]]\n"
     ]
    }
   ],
   "source": [
    "CMat = confusion_matrix( y_true, y_pred )    #-- generate confusion matrix\n",
    "print(CMat)    # [[TN, FP], \n",
    "               #  [FN, TP]]"
   ]
  },
  {
   "cell_type": "code",
   "execution_count": 147,
   "metadata": {
    "ExecuteTime": {
     "end_time": "2023-12-23T22:16:22.983245793Z",
     "start_time": "2023-12-23T22:16:22.628344665Z"
    }
   },
   "outputs": [
    {
     "name": "stdout",
     "output_type": "stream",
     "text": [
      "#-- Accuracy          =  0.658321060382916\n",
      "#-- Balanced Accuracy =  0.6422157694884967\n",
      "#-- Sensitivity       =  0.6216216216216216\n",
      "#-- Specificity       =  0.6628099173553719\n",
      "#-- AUC-ROC           =  0.7107549698458789\n"
     ]
    }
   ],
   "source": [
    "acc  = accuracy_score( y_true, y_pred )\n",
    "\n",
    "sens = CMat[ 1 ][ 1 ] / ( CMat[ 1 ][ 0 ] + CMat[ 1 ][ 1 ] )\n",
    "spec = CMat[ 0 ][ 0 ] / ( CMat[ 0 ][ 0 ] + CMat[ 0 ][ 1 ] )\n",
    "bacc = (sens + spec) / 2\n",
    "\n",
    "y_score = clf.predict_proba( X_test )[:, 1]\n",
    "auc = roc_auc_score( y_true, y_score )\n",
    "\n",
    "print(\"#-- Accuracy          = \", acc)\n",
    "print(\"#-- Balanced Accuracy = \", bacc)\n",
    "print(\"#-- Sensitivity       = \", sens)\n",
    "print(\"#-- Specificity       = \", spec)\n",
    "print(\"#-- AUC-ROC           = \", auc)"
   ]
  },
  {
   "cell_type": "markdown",
   "metadata": {},
   "source": [
    "For the test set, the accuracy is 0.67 and the AUC-ROC is 0.72.  These values are somewhat smaller (by 0.03) than those for the training set.  Also note that the accuracy is no longer the same as the balanced accruacy (which is the average of the sensitivity and specificity)."
   ]
  },
  {
   "cell_type": "markdown",
   "metadata": {},
   "source": [
    "Some additional performance information may be obtained using **classification_report()**."
   ]
  },
  {
   "cell_type": "code",
   "execution_count": 148,
   "metadata": {
    "ExecuteTime": {
     "end_time": "2023-12-23T22:16:22.995125857Z",
     "start_time": "2023-12-23T22:16:22.636639609Z"
    }
   },
   "outputs": [
    {
     "name": "stdout",
     "output_type": "stream",
     "text": [
      "              precision    recall  f1-score   support\n",
      "\n",
      "           0       0.93      0.66      0.78       605\n",
      "           1       0.18      0.62      0.28        74\n",
      "\n",
      "    accuracy                           0.66       679\n",
      "   macro avg       0.56      0.64      0.53       679\n",
      "weighted avg       0.85      0.66      0.72       679\n"
     ]
    }
   ],
   "source": [
    "print( classification_report(y_true, y_pred))"
   ]
  },
  {
   "cell_type": "markdown",
   "metadata": {},
   "source": [
    "## 8-(2) Decision Tree"
   ]
  },
  {
   "cell_type": "code",
   "execution_count": 149,
   "metadata": {
    "ExecuteTime": {
     "end_time": "2023-12-23T22:16:23.034749030Z",
     "start_time": "2023-12-23T22:16:22.654750566Z"
    }
   },
   "outputs": [],
   "source": [
    "clf = DecisionTreeClassifier( random_state=0 )    # set up the DT classification model"
   ]
  },
  {
   "cell_type": "code",
   "execution_count": 150,
   "metadata": {
    "ExecuteTime": {
     "end_time": "2023-12-23T22:16:23.134247460Z",
     "start_time": "2023-12-23T22:16:22.696298167Z"
    }
   },
   "outputs": [
    {
     "data": {
      "text/plain": "DecisionTreeClassifier(random_state=0)",
      "text/html": "<style>#sk-container-id-4 {color: black;}#sk-container-id-4 pre{padding: 0;}#sk-container-id-4 div.sk-toggleable {background-color: white;}#sk-container-id-4 label.sk-toggleable__label {cursor: pointer;display: block;width: 100%;margin-bottom: 0;padding: 0.3em;box-sizing: border-box;text-align: center;}#sk-container-id-4 label.sk-toggleable__label-arrow:before {content: \"▸\";float: left;margin-right: 0.25em;color: #696969;}#sk-container-id-4 label.sk-toggleable__label-arrow:hover:before {color: black;}#sk-container-id-4 div.sk-estimator:hover label.sk-toggleable__label-arrow:before {color: black;}#sk-container-id-4 div.sk-toggleable__content {max-height: 0;max-width: 0;overflow: hidden;text-align: left;background-color: #f0f8ff;}#sk-container-id-4 div.sk-toggleable__content pre {margin: 0.2em;color: black;border-radius: 0.25em;background-color: #f0f8ff;}#sk-container-id-4 input.sk-toggleable__control:checked~div.sk-toggleable__content {max-height: 200px;max-width: 100%;overflow: auto;}#sk-container-id-4 input.sk-toggleable__control:checked~label.sk-toggleable__label-arrow:before {content: \"▾\";}#sk-container-id-4 div.sk-estimator input.sk-toggleable__control:checked~label.sk-toggleable__label {background-color: #d4ebff;}#sk-container-id-4 div.sk-label input.sk-toggleable__control:checked~label.sk-toggleable__label {background-color: #d4ebff;}#sk-container-id-4 input.sk-hidden--visually {border: 0;clip: rect(1px 1px 1px 1px);clip: rect(1px, 1px, 1px, 1px);height: 1px;margin: -1px;overflow: hidden;padding: 0;position: absolute;width: 1px;}#sk-container-id-4 div.sk-estimator {font-family: monospace;background-color: #f0f8ff;border: 1px dotted black;border-radius: 0.25em;box-sizing: border-box;margin-bottom: 0.5em;}#sk-container-id-4 div.sk-estimator:hover {background-color: #d4ebff;}#sk-container-id-4 div.sk-parallel-item::after {content: \"\";width: 100%;border-bottom: 1px solid gray;flex-grow: 1;}#sk-container-id-4 div.sk-label:hover label.sk-toggleable__label {background-color: #d4ebff;}#sk-container-id-4 div.sk-serial::before {content: \"\";position: absolute;border-left: 1px solid gray;box-sizing: border-box;top: 0;bottom: 0;left: 50%;z-index: 0;}#sk-container-id-4 div.sk-serial {display: flex;flex-direction: column;align-items: center;background-color: white;padding-right: 0.2em;padding-left: 0.2em;position: relative;}#sk-container-id-4 div.sk-item {position: relative;z-index: 1;}#sk-container-id-4 div.sk-parallel {display: flex;align-items: stretch;justify-content: center;background-color: white;position: relative;}#sk-container-id-4 div.sk-item::before, #sk-container-id-4 div.sk-parallel-item::before {content: \"\";position: absolute;border-left: 1px solid gray;box-sizing: border-box;top: 0;bottom: 0;left: 50%;z-index: -1;}#sk-container-id-4 div.sk-parallel-item {display: flex;flex-direction: column;z-index: 1;position: relative;background-color: white;}#sk-container-id-4 div.sk-parallel-item:first-child::after {align-self: flex-end;width: 50%;}#sk-container-id-4 div.sk-parallel-item:last-child::after {align-self: flex-start;width: 50%;}#sk-container-id-4 div.sk-parallel-item:only-child::after {width: 0;}#sk-container-id-4 div.sk-dashed-wrapped {border: 1px dashed gray;margin: 0 0.4em 0.5em 0.4em;box-sizing: border-box;padding-bottom: 0.4em;background-color: white;}#sk-container-id-4 div.sk-label label {font-family: monospace;font-weight: bold;display: inline-block;line-height: 1.2em;}#sk-container-id-4 div.sk-label-container {text-align: center;}#sk-container-id-4 div.sk-container {/* jupyter's `normalize.less` sets `[hidden] { display: none; }` but bootstrap.min.css set `[hidden] { display: none !important; }` so we also need the `!important` here to be able to override the default hidden behavior on the sphinx rendered scikit-learn.org. See: https://github.com/scikit-learn/scikit-learn/issues/21755 */display: inline-block !important;position: relative;}#sk-container-id-4 div.sk-text-repr-fallback {display: none;}</style><div id=\"sk-container-id-4\" class=\"sk-top-container\"><div class=\"sk-text-repr-fallback\"><pre>DecisionTreeClassifier(random_state=0)</pre><b>In a Jupyter environment, please rerun this cell to show the HTML representation or trust the notebook. <br />On GitHub, the HTML representation is unable to render, please try loading this page with nbviewer.org.</b></div><div class=\"sk-container\" hidden><div class=\"sk-item\"><div class=\"sk-estimator sk-toggleable\"><input class=\"sk-toggleable__control sk-hidden--visually\" id=\"sk-estimator-id-4\" type=\"checkbox\" checked><label for=\"sk-estimator-id-4\" class=\"sk-toggleable__label sk-toggleable__label-arrow\">DecisionTreeClassifier</label><div class=\"sk-toggleable__content\"><pre>DecisionTreeClassifier(random_state=0)</pre></div></div></div></div></div>"
     },
     "execution_count": 150,
     "metadata": {},
     "output_type": "execute_result"
    }
   ],
   "source": [
    "clf.fit( X_train ,y_train )    # Train the model by fitting it to the data (using the default values for all parameters)"
   ]
  },
  {
   "cell_type": "code",
   "execution_count": 151,
   "metadata": {
    "ExecuteTime": {
     "end_time": "2023-12-23T22:16:23.155014387Z",
     "start_time": "2023-12-23T22:16:22.740350219Z"
    }
   },
   "outputs": [],
   "source": [
    "y_true, y_pred = y_train, clf.predict( X_train )    # Apply the model to predict the training compound's activity."
   ]
  },
  {
   "cell_type": "code",
   "execution_count": 152,
   "metadata": {
    "ExecuteTime": {
     "end_time": "2023-12-23T22:16:23.159634097Z",
     "start_time": "2023-12-23T22:16:22.808462393Z"
    }
   },
   "outputs": [
    {
     "name": "stdout",
     "output_type": "stream",
     "text": [
      "[[664   3]\n",
      " [  4 663]]\n"
     ]
    }
   ],
   "source": [
    "CMat = confusion_matrix( y_true, y_pred )    #-- generate confusion matrix\n",
    "print(CMat)    # [[TN, FP], \n",
    "               #  [FN, TP]]"
   ]
  },
  {
   "cell_type": "code",
   "execution_count": 153,
   "metadata": {
    "ExecuteTime": {
     "end_time": "2023-12-23T22:16:23.166138890Z",
     "start_time": "2023-12-23T22:16:22.808862352Z"
    }
   },
   "outputs": [],
   "source": [
    "acc  = accuracy_score( y_true, y_pred )\n",
    "\n",
    "sens = CMat[ 1 ][ 1 ] / ( CMat[ 1 ][ 0 ] + CMat[ 1 ][ 1 ] )    # TP / (FN + TP)\n",
    "spec = CMat[ 0 ][ 0 ] / ( CMat[ 0 ][ 0 ] + CMat[ 0 ][ 1 ] )    # TN / (TN + FP )\n",
    "bacc = (sens + spec) / 2\n",
    "\n",
    "y_score = clf.predict_proba( X_train )[:, 1]\n",
    "auc = roc_auc_score( y_true, y_score )"
   ]
  },
  {
   "cell_type": "code",
   "execution_count": 154,
   "metadata": {
    "ExecuteTime": {
     "end_time": "2023-12-23T22:16:23.180598405Z",
     "start_time": "2023-12-23T22:16:22.820359889Z"
    }
   },
   "outputs": [
    {
     "name": "stdout",
     "output_type": "stream",
     "text": [
      "#-- Accuracy          =  0.9947526236881559\n",
      "#-- Balanced Accuracy =  0.9947526236881559\n",
      "#-- Sensitivity       =  0.9940029985007496\n",
      "#-- Specificity       =  0.9955022488755623\n",
      "#-- AUC-ROC           =  0.9999336913252519\n"
     ]
    }
   ],
   "source": [
    "print(\"#-- Accuracy          = \", acc)\n",
    "print(\"#-- Balanced Accuracy = \", bacc)\n",
    "print(\"#-- Sensitivity       = \", sens)\n",
    "print(\"#-- Specificity       = \", spec)\n",
    "print(\"#-- AUC-ROC           = \", auc)"
   ]
  },
  {
   "cell_type": "markdown",
   "metadata": {},
   "source": [
    "When applied to predict the activity of the **training** compounds, the DT classifier resulted in very high scores (>0.99) for all five performance measures considered here.  However, it does **not** necessarily mean that the model will perform very well for the **test** set compounds.  Let's apply the model to the test set."
   ]
  },
  {
   "cell_type": "code",
   "execution_count": 155,
   "metadata": {
    "ExecuteTime": {
     "end_time": "2023-12-23T22:16:23.187425552Z",
     "start_time": "2023-12-23T22:16:22.868199381Z"
    }
   },
   "outputs": [],
   "source": [
    "y_true, y_pred = y_test, clf.predict(X_test)    #-- Apply the model to predict the test set compounds' activity."
   ]
  },
  {
   "cell_type": "code",
   "execution_count": 156,
   "metadata": {
    "ExecuteTime": {
     "end_time": "2023-12-23T22:16:23.191859411Z",
     "start_time": "2023-12-23T22:16:22.868642937Z"
    }
   },
   "outputs": [
    {
     "name": "stdout",
     "output_type": "stream",
     "text": [
      "[[421 184]\n",
      " [ 26  48]]\n"
     ]
    }
   ],
   "source": [
    "CMat = confusion_matrix( y_true, y_pred )    #-- generate confusion matrix\n",
    "print(CMat)    # [[TN, FP], \n",
    "               #  [FN, TP]]"
   ]
  },
  {
   "cell_type": "code",
   "execution_count": 157,
   "metadata": {
    "ExecuteTime": {
     "end_time": "2023-12-23T22:16:23.209393438Z",
     "start_time": "2023-12-23T22:16:22.868901205Z"
    }
   },
   "outputs": [
    {
     "name": "stdout",
     "output_type": "stream",
     "text": [
      "#-- Accuracy          =  0.6907216494845361\n",
      "#-- Balanced Accuracy =  0.6722582086218449\n",
      "#-- Sensitivity       =  0.6486486486486487\n",
      "#-- Specificity       =  0.6958677685950413\n",
      "#-- AUC-ROC           =  0.670705829796739\n"
     ]
    }
   ],
   "source": [
    "acc  = accuracy_score( y_true, y_pred )\n",
    "\n",
    "sens = CMat[ 1 ][ 1 ] / ( CMat[ 1 ][ 0 ] + CMat[ 1 ][ 1 ] )\n",
    "spec = CMat[ 0 ][ 0 ] / ( CMat[ 0 ][ 0 ] + CMat[ 0 ][ 1 ] )\n",
    "bacc = (sens + spec) / 2\n",
    "\n",
    "y_score = clf.predict_proba( X_test )[:, 1]\n",
    "auc = roc_auc_score( y_true, y_score )\n",
    "\n",
    "print(\"#-- Accuracy          = \", acc)\n",
    "print(\"#-- Balanced Accuracy = \", bacc)\n",
    "print(\"#-- Sensitivity       = \", sens)\n",
    "print(\"#-- Specificity       = \", spec)\n",
    "print(\"#-- AUC-ROC           = \", auc)"
   ]
  },
  {
   "cell_type": "markdown",
   "metadata": {},
   "source": [
    "When the DT model was applied to the test set, all performance measures were much worse than those for the training set.  This is a typical example of **outfitting**."
   ]
  },
  {
   "cell_type": "markdown",
   "metadata": {},
   "source": [
    "## 9. Model building through cross-validation"
   ]
  },
  {
   "cell_type": "markdown",
   "metadata": {},
   "source": [
    "In the above section, the models were developed using the default values for many optional hyperparamters, which cannot be learned by the training algorithm.  For example, when building a decision tree model, one should specify how the tree should be deep, how many compounds should be allowed in a single leaf, what is the minimum number of compounds in a single leaf, etc."
   ]
  },
  {
   "cell_type": "markdown",
   "metadata": {},
   "source": [
    "The cells below demonstrate how to perform hyperparameter optimization through 10-fold cross-validation.  In this example, five values for each of three hyperparameters used in decision tree are considered (max_depth, min_samples_split, and min_samples_leaf), resulting in a total of 125 combination of the parameter values (=5 x 5 x 5).  For each combination, 10 models are generated (through 10-fold cross validation) and the average performance will be tracked.  The goal is to find the parameter value combination that results in the highest average performance score (e.g., 'roc_auc') from the 10-fold cross validation."
   ]
  },
  {
   "cell_type": "code",
   "execution_count": 158,
   "metadata": {
    "ExecuteTime": {
     "end_time": "2023-12-23T22:16:23.213925532Z",
     "start_time": "2023-12-23T22:16:22.912501792Z"
    }
   },
   "outputs": [],
   "source": [
    "from sklearn.model_selection import GridSearchCV"
   ]
  },
  {
   "cell_type": "code",
   "execution_count": 159,
   "metadata": {
    "ExecuteTime": {
     "end_time": "2023-12-23T22:16:23.218016914Z",
     "start_time": "2023-12-23T22:16:22.913026481Z"
    }
   },
   "outputs": [],
   "source": [
    "scores = [ 'roc_auc', 'balanced_accuracy' ]"
   ]
  },
  {
   "cell_type": "code",
   "execution_count": 160,
   "metadata": {
    "ExecuteTime": {
     "end_time": "2023-12-23T22:16:23.222627126Z",
     "start_time": "2023-12-23T22:16:22.913443102Z"
    }
   },
   "outputs": [],
   "source": [
    "ncvs = 10\n",
    "\n",
    "max_depth_range         = np.linspace( 3, 7, num=5, dtype='int32' )\n",
    "min_samples_split_range = np.linspace( 3, 7, num=5, dtype='int32' )\n",
    "min_samples_leaf_range  = np.linspace( 2, 6, num=5, dtype='int32' )\n",
    "\n",
    "param_grid = dict( max_depth=max_depth_range,\n",
    "                   min_samples_split=min_samples_split_range,\n",
    "                   min_samples_leaf=min_samples_leaf_range )\n",
    "\n",
    "clf = GridSearchCV( DecisionTreeClassifier( random_state=0 ),\n",
    "                    param_grid=param_grid, cv=ncvs, scoring=scores, refit='roc_auc',\n",
    "                    return_train_score = True)"
   ]
  },
  {
   "cell_type": "code",
   "execution_count": 161,
   "metadata": {
    "ExecuteTime": {
     "end_time": "2023-12-23T22:18:10.386469524Z",
     "start_time": "2023-12-23T22:16:22.924653825Z"
    }
   },
   "outputs": [
    {
     "name": "stdout",
     "output_type": "stream",
     "text": [
      "Best parameter set {'max_depth': 6, 'min_samples_leaf': 6, 'min_samples_split': 3}\n"
     ]
    }
   ],
   "source": [
    "clf.fit( X_train, y_train )\n",
    "print(\"Best parameter set\", clf.best_params_)"
   ]
  },
  {
   "cell_type": "markdown",
   "metadata": {},
   "source": [
    "If necessary, it is possible to look into the performance data for each parameter value combination (stored in **clf.cv_results_**), as shown in the following cell."
   ]
  },
  {
   "cell_type": "code",
   "execution_count": 162,
   "metadata": {
    "ExecuteTime": {
     "end_time": "2023-12-23T22:18:10.430896352Z",
     "start_time": "2023-12-23T22:18:10.401800830Z"
    }
   },
   "outputs": [
    {
     "name": "stdout",
     "output_type": "stream",
     "text": [
      "Grid {'max_depth': 3, 'min_samples_leaf': 2, 'min_samples_split': 3} : 0.7786 0.0032 0.7442 0.0363 0.7331 0.0052 0.6993 0.0359\n",
      "Grid {'max_depth': 3, 'min_samples_leaf': 2, 'min_samples_split': 4} : 0.7786 0.0032 0.7442 0.0363 0.7331 0.0052 0.6993 0.0359\n",
      "Grid {'max_depth': 3, 'min_samples_leaf': 2, 'min_samples_split': 5} : 0.7786 0.0032 0.7442 0.0363 0.7331 0.0052 0.6993 0.0359\n",
      "Grid {'max_depth': 3, 'min_samples_leaf': 2, 'min_samples_split': 6} : 0.7786 0.0032 0.7442 0.0363 0.7331 0.0052 0.6993 0.0359\n",
      "Grid {'max_depth': 3, 'min_samples_leaf': 2, 'min_samples_split': 7} : 0.7786 0.0032 0.7442 0.0363 0.7331 0.0052 0.6993 0.0359\n",
      "Grid {'max_depth': 3, 'min_samples_leaf': 3, 'min_samples_split': 3} : 0.7786 0.0032 0.7442 0.0363 0.7331 0.0052 0.6993 0.0359\n",
      "Grid {'max_depth': 3, 'min_samples_leaf': 3, 'min_samples_split': 4} : 0.7786 0.0032 0.7442 0.0363 0.7331 0.0052 0.6993 0.0359\n",
      "Grid {'max_depth': 3, 'min_samples_leaf': 3, 'min_samples_split': 5} : 0.7786 0.0032 0.7442 0.0363 0.7331 0.0052 0.6993 0.0359\n",
      "Grid {'max_depth': 3, 'min_samples_leaf': 3, 'min_samples_split': 6} : 0.7786 0.0032 0.7442 0.0363 0.7331 0.0052 0.6993 0.0359\n",
      "Grid {'max_depth': 3, 'min_samples_leaf': 3, 'min_samples_split': 7} : 0.7786 0.0032 0.7442 0.0363 0.7331 0.0052 0.6993 0.0359\n",
      "Grid {'max_depth': 3, 'min_samples_leaf': 4, 'min_samples_split': 3} : 0.7786 0.0032 0.7442 0.0363 0.7331 0.0052 0.6993 0.0359\n",
      "Grid {'max_depth': 3, 'min_samples_leaf': 4, 'min_samples_split': 4} : 0.7786 0.0032 0.7442 0.0363 0.7331 0.0052 0.6993 0.0359\n",
      "Grid {'max_depth': 3, 'min_samples_leaf': 4, 'min_samples_split': 5} : 0.7786 0.0032 0.7442 0.0363 0.7331 0.0052 0.6993 0.0359\n",
      "Grid {'max_depth': 3, 'min_samples_leaf': 4, 'min_samples_split': 6} : 0.7786 0.0032 0.7442 0.0363 0.7331 0.0052 0.6993 0.0359\n",
      "Grid {'max_depth': 3, 'min_samples_leaf': 4, 'min_samples_split': 7} : 0.7786 0.0032 0.7442 0.0363 0.7331 0.0052 0.6993 0.0359\n",
      "Grid {'max_depth': 3, 'min_samples_leaf': 5, 'min_samples_split': 3} : 0.7786 0.0032 0.7442 0.0363 0.7331 0.0052 0.6993 0.0359\n",
      "Grid {'max_depth': 3, 'min_samples_leaf': 5, 'min_samples_split': 4} : 0.7786 0.0032 0.7442 0.0363 0.7331 0.0052 0.6993 0.0359\n",
      "Grid {'max_depth': 3, 'min_samples_leaf': 5, 'min_samples_split': 5} : 0.7786 0.0032 0.7442 0.0363 0.7331 0.0052 0.6993 0.0359\n",
      "Grid {'max_depth': 3, 'min_samples_leaf': 5, 'min_samples_split': 6} : 0.7786 0.0032 0.7442 0.0363 0.7331 0.0052 0.6993 0.0359\n",
      "Grid {'max_depth': 3, 'min_samples_leaf': 5, 'min_samples_split': 7} : 0.7786 0.0032 0.7442 0.0363 0.7331 0.0052 0.6993 0.0359\n",
      "Grid {'max_depth': 3, 'min_samples_leaf': 6, 'min_samples_split': 3} : 0.7786 0.0032 0.7442 0.0363 0.7331 0.0052 0.6993 0.0359\n",
      "Grid {'max_depth': 3, 'min_samples_leaf': 6, 'min_samples_split': 4} : 0.7786 0.0032 0.7442 0.0363 0.7331 0.0052 0.6993 0.0359\n",
      "Grid {'max_depth': 3, 'min_samples_leaf': 6, 'min_samples_split': 5} : 0.7786 0.0032 0.7442 0.0363 0.7331 0.0052 0.6993 0.0359\n",
      "Grid {'max_depth': 3, 'min_samples_leaf': 6, 'min_samples_split': 6} : 0.7786 0.0032 0.7442 0.0363 0.7331 0.0052 0.6993 0.0359\n",
      "Grid {'max_depth': 3, 'min_samples_leaf': 6, 'min_samples_split': 7} : 0.7786 0.0032 0.7442 0.0363 0.7331 0.0052 0.6993 0.0359\n",
      "Grid {'max_depth': 4, 'min_samples_leaf': 2, 'min_samples_split': 3} : 0.8065 0.0034 0.7544 0.0261 0.7591 0.0043 0.7180 0.0276\n",
      "Grid {'max_depth': 4, 'min_samples_leaf': 2, 'min_samples_split': 4} : 0.8065 0.0034 0.7544 0.0261 0.7591 0.0043 0.7180 0.0276\n",
      "Grid {'max_depth': 4, 'min_samples_leaf': 2, 'min_samples_split': 5} : 0.8065 0.0034 0.7544 0.0261 0.7591 0.0043 0.7180 0.0276\n",
      "Grid {'max_depth': 4, 'min_samples_leaf': 2, 'min_samples_split': 6} : 0.8065 0.0034 0.7544 0.0261 0.7591 0.0043 0.7180 0.0276\n",
      "Grid {'max_depth': 4, 'min_samples_leaf': 2, 'min_samples_split': 7} : 0.8065 0.0034 0.7544 0.0261 0.7591 0.0043 0.7180 0.0276\n",
      "Grid {'max_depth': 4, 'min_samples_leaf': 3, 'min_samples_split': 3} : 0.8064 0.0036 0.7550 0.0275 0.7587 0.0043 0.7180 0.0276\n",
      "Grid {'max_depth': 4, 'min_samples_leaf': 3, 'min_samples_split': 4} : 0.8064 0.0036 0.7550 0.0275 0.7587 0.0043 0.7180 0.0276\n",
      "Grid {'max_depth': 4, 'min_samples_leaf': 3, 'min_samples_split': 5} : 0.8064 0.0036 0.7550 0.0275 0.7587 0.0043 0.7180 0.0276\n",
      "Grid {'max_depth': 4, 'min_samples_leaf': 3, 'min_samples_split': 6} : 0.8064 0.0036 0.7550 0.0275 0.7587 0.0043 0.7180 0.0276\n",
      "Grid {'max_depth': 4, 'min_samples_leaf': 3, 'min_samples_split': 7} : 0.8064 0.0036 0.7550 0.0275 0.7587 0.0043 0.7180 0.0276\n",
      "Grid {'max_depth': 4, 'min_samples_leaf': 4, 'min_samples_split': 3} : 0.8075 0.0036 0.7503 0.0284 0.7568 0.0046 0.7158 0.0293\n",
      "Grid {'max_depth': 4, 'min_samples_leaf': 4, 'min_samples_split': 4} : 0.8075 0.0036 0.7503 0.0284 0.7568 0.0046 0.7158 0.0293\n",
      "Grid {'max_depth': 4, 'min_samples_leaf': 4, 'min_samples_split': 5} : 0.8075 0.0036 0.7503 0.0284 0.7568 0.0046 0.7158 0.0293\n",
      "Grid {'max_depth': 4, 'min_samples_leaf': 4, 'min_samples_split': 6} : 0.8075 0.0036 0.7503 0.0284 0.7568 0.0046 0.7158 0.0293\n",
      "Grid {'max_depth': 4, 'min_samples_leaf': 4, 'min_samples_split': 7} : 0.8075 0.0036 0.7503 0.0284 0.7568 0.0046 0.7158 0.0293\n",
      "Grid {'max_depth': 4, 'min_samples_leaf': 5, 'min_samples_split': 3} : 0.8073 0.0038 0.7561 0.0288 0.7565 0.0044 0.7173 0.0304\n",
      "Grid {'max_depth': 4, 'min_samples_leaf': 5, 'min_samples_split': 4} : 0.8073 0.0038 0.7561 0.0288 0.7565 0.0044 0.7173 0.0304\n",
      "Grid {'max_depth': 4, 'min_samples_leaf': 5, 'min_samples_split': 5} : 0.8073 0.0038 0.7561 0.0288 0.7565 0.0044 0.7173 0.0304\n",
      "Grid {'max_depth': 4, 'min_samples_leaf': 5, 'min_samples_split': 6} : 0.8073 0.0038 0.7561 0.0288 0.7565 0.0044 0.7173 0.0304\n",
      "Grid {'max_depth': 4, 'min_samples_leaf': 5, 'min_samples_split': 7} : 0.8073 0.0038 0.7561 0.0288 0.7565 0.0044 0.7173 0.0304\n",
      "Grid {'max_depth': 4, 'min_samples_leaf': 6, 'min_samples_split': 3} : 0.8074 0.0038 0.7544 0.0303 0.7559 0.0040 0.7166 0.0297\n",
      "Grid {'max_depth': 4, 'min_samples_leaf': 6, 'min_samples_split': 4} : 0.8074 0.0038 0.7544 0.0303 0.7559 0.0040 0.7166 0.0297\n",
      "Grid {'max_depth': 4, 'min_samples_leaf': 6, 'min_samples_split': 5} : 0.8074 0.0038 0.7544 0.0303 0.7559 0.0040 0.7166 0.0297\n",
      "Grid {'max_depth': 4, 'min_samples_leaf': 6, 'min_samples_split': 6} : 0.8074 0.0038 0.7544 0.0303 0.7559 0.0040 0.7166 0.0297\n",
      "Grid {'max_depth': 4, 'min_samples_leaf': 6, 'min_samples_split': 7} : 0.8074 0.0038 0.7544 0.0303 0.7559 0.0040 0.7166 0.0297\n",
      "Grid {'max_depth': 5, 'min_samples_leaf': 2, 'min_samples_split': 3} : 0.8402 0.0035 0.7356 0.0279 0.7791 0.0063 0.7032 0.0286\n",
      "Grid {'max_depth': 5, 'min_samples_leaf': 2, 'min_samples_split': 4} : 0.8402 0.0035 0.7356 0.0279 0.7791 0.0063 0.7032 0.0286\n",
      "Grid {'max_depth': 5, 'min_samples_leaf': 2, 'min_samples_split': 5} : 0.8400 0.0036 0.7344 0.0288 0.7791 0.0063 0.7032 0.0286\n",
      "Grid {'max_depth': 5, 'min_samples_leaf': 2, 'min_samples_split': 6} : 0.8398 0.0036 0.7331 0.0294 0.7791 0.0063 0.7032 0.0286\n",
      "Grid {'max_depth': 5, 'min_samples_leaf': 2, 'min_samples_split': 7} : 0.8396 0.0038 0.7330 0.0294 0.7789 0.0063 0.7032 0.0286\n",
      "Grid {'max_depth': 5, 'min_samples_leaf': 3, 'min_samples_split': 3} : 0.8387 0.0035 0.7386 0.0366 0.7775 0.0057 0.7070 0.0340\n",
      "Grid {'max_depth': 5, 'min_samples_leaf': 3, 'min_samples_split': 4} : 0.8387 0.0035 0.7386 0.0366 0.7775 0.0057 0.7070 0.0340\n",
      "Grid {'max_depth': 5, 'min_samples_leaf': 3, 'min_samples_split': 5} : 0.8387 0.0035 0.7386 0.0366 0.7775 0.0057 0.7070 0.0340\n",
      "Grid {'max_depth': 5, 'min_samples_leaf': 3, 'min_samples_split': 6} : 0.8387 0.0035 0.7386 0.0366 0.7775 0.0057 0.7070 0.0340\n",
      "Grid {'max_depth': 5, 'min_samples_leaf': 3, 'min_samples_split': 7} : 0.8386 0.0036 0.7384 0.0366 0.7774 0.0056 0.7070 0.0340\n",
      "Grid {'max_depth': 5, 'min_samples_leaf': 4, 'min_samples_split': 3} : 0.8403 0.0048 0.7495 0.0342 0.7767 0.0052 0.7092 0.0311\n",
      "Grid {'max_depth': 5, 'min_samples_leaf': 4, 'min_samples_split': 4} : 0.8403 0.0048 0.7495 0.0342 0.7767 0.0052 0.7092 0.0311\n",
      "Grid {'max_depth': 5, 'min_samples_leaf': 4, 'min_samples_split': 5} : 0.8403 0.0048 0.7495 0.0342 0.7767 0.0052 0.7092 0.0311\n",
      "Grid {'max_depth': 5, 'min_samples_leaf': 4, 'min_samples_split': 6} : 0.8403 0.0048 0.7495 0.0342 0.7767 0.0052 0.7092 0.0311\n",
      "Grid {'max_depth': 5, 'min_samples_leaf': 4, 'min_samples_split': 7} : 0.8403 0.0048 0.7495 0.0342 0.7767 0.0052 0.7092 0.0311\n",
      "Grid {'max_depth': 5, 'min_samples_leaf': 5, 'min_samples_split': 3} : 0.8393 0.0037 0.7460 0.0371 0.7755 0.0046 0.7100 0.0334\n",
      "Grid {'max_depth': 5, 'min_samples_leaf': 5, 'min_samples_split': 4} : 0.8393 0.0037 0.7460 0.0371 0.7755 0.0046 0.7100 0.0334\n",
      "Grid {'max_depth': 5, 'min_samples_leaf': 5, 'min_samples_split': 5} : 0.8393 0.0037 0.7460 0.0371 0.7755 0.0046 0.7100 0.0334\n",
      "Grid {'max_depth': 5, 'min_samples_leaf': 5, 'min_samples_split': 6} : 0.8393 0.0037 0.7460 0.0371 0.7755 0.0046 0.7100 0.0334\n",
      "Grid {'max_depth': 5, 'min_samples_leaf': 5, 'min_samples_split': 7} : 0.8393 0.0037 0.7460 0.0371 0.7755 0.0046 0.7100 0.0334\n",
      "Grid {'max_depth': 5, 'min_samples_leaf': 6, 'min_samples_split': 3} : 0.8385 0.0037 0.7485 0.0387 0.7750 0.0036 0.7070 0.0320\n",
      "Grid {'max_depth': 5, 'min_samples_leaf': 6, 'min_samples_split': 4} : 0.8385 0.0037 0.7485 0.0387 0.7750 0.0036 0.7070 0.0320\n",
      "Grid {'max_depth': 5, 'min_samples_leaf': 6, 'min_samples_split': 5} : 0.8385 0.0037 0.7485 0.0387 0.7750 0.0036 0.7070 0.0320\n",
      "Grid {'max_depth': 5, 'min_samples_leaf': 6, 'min_samples_split': 6} : 0.8385 0.0037 0.7485 0.0387 0.7750 0.0036 0.7070 0.0320\n",
      "Grid {'max_depth': 5, 'min_samples_leaf': 6, 'min_samples_split': 7} : 0.8385 0.0037 0.7485 0.0387 0.7750 0.0036 0.7070 0.0320\n",
      "Grid {'max_depth': 6, 'min_samples_leaf': 2, 'min_samples_split': 3} : 0.8738 0.0039 0.7239 0.0398 0.8044 0.0089 0.7069 0.0379\n",
      "Grid {'max_depth': 6, 'min_samples_leaf': 2, 'min_samples_split': 4} : 0.8738 0.0039 0.7239 0.0398 0.8044 0.0089 0.7069 0.0379\n",
      "Grid {'max_depth': 6, 'min_samples_leaf': 2, 'min_samples_split': 5} : 0.8732 0.0040 0.7204 0.0441 0.8043 0.0089 0.7069 0.0360\n",
      "Grid {'max_depth': 6, 'min_samples_leaf': 2, 'min_samples_split': 6} : 0.8727 0.0037 0.7186 0.0440 0.8040 0.0088 0.7069 0.0342\n",
      "Grid {'max_depth': 6, 'min_samples_leaf': 2, 'min_samples_split': 7} : 0.8720 0.0037 0.7218 0.0439 0.8036 0.0090 0.7076 0.0346\n",
      "Grid {'max_depth': 6, 'min_samples_leaf': 3, 'min_samples_split': 3} : 0.8708 0.0037 0.7365 0.0493 0.8018 0.0081 0.7144 0.0447\n",
      "Grid {'max_depth': 6, 'min_samples_leaf': 3, 'min_samples_split': 4} : 0.8708 0.0037 0.7365 0.0493 0.8018 0.0081 0.7144 0.0447\n",
      "Grid {'max_depth': 6, 'min_samples_leaf': 3, 'min_samples_split': 5} : 0.8708 0.0037 0.7365 0.0493 0.8018 0.0081 0.7144 0.0447\n",
      "Grid {'max_depth': 6, 'min_samples_leaf': 3, 'min_samples_split': 6} : 0.8708 0.0037 0.7365 0.0493 0.8018 0.0081 0.7144 0.0447\n",
      "Grid {'max_depth': 6, 'min_samples_leaf': 3, 'min_samples_split': 7} : 0.8703 0.0036 0.7337 0.0501 0.8014 0.0079 0.7129 0.0449\n",
      "Grid {'max_depth': 6, 'min_samples_leaf': 4, 'min_samples_split': 3} : 0.8717 0.0057 0.7500 0.0401 0.7993 0.0069 0.7174 0.0390\n",
      "Grid {'max_depth': 6, 'min_samples_leaf': 4, 'min_samples_split': 4} : 0.8717 0.0057 0.7500 0.0401 0.7993 0.0069 0.7174 0.0390\n",
      "Grid {'max_depth': 6, 'min_samples_leaf': 4, 'min_samples_split': 5} : 0.8717 0.0057 0.7500 0.0401 0.7993 0.0069 0.7174 0.0390\n",
      "Grid {'max_depth': 6, 'min_samples_leaf': 4, 'min_samples_split': 6} : 0.8717 0.0057 0.7500 0.0401 0.7993 0.0069 0.7174 0.0390\n",
      "Grid {'max_depth': 6, 'min_samples_leaf': 4, 'min_samples_split': 7} : 0.8717 0.0057 0.7500 0.0401 0.7993 0.0069 0.7174 0.0390\n",
      "Grid {'max_depth': 6, 'min_samples_leaf': 5, 'min_samples_split': 3} : 0.8689 0.0055 0.7560 0.0397 0.7972 0.0054 0.7159 0.0392\n",
      "Grid {'max_depth': 6, 'min_samples_leaf': 5, 'min_samples_split': 4} : 0.8689 0.0055 0.7560 0.0397 0.7972 0.0054 0.7159 0.0392\n",
      "Grid {'max_depth': 6, 'min_samples_leaf': 5, 'min_samples_split': 5} : 0.8689 0.0055 0.7560 0.0397 0.7972 0.0054 0.7159 0.0392\n",
      "Grid {'max_depth': 6, 'min_samples_leaf': 5, 'min_samples_split': 6} : 0.8689 0.0055 0.7560 0.0397 0.7972 0.0054 0.7159 0.0392\n",
      "Grid {'max_depth': 6, 'min_samples_leaf': 5, 'min_samples_split': 7} : 0.8689 0.0055 0.7560 0.0397 0.7972 0.0054 0.7159 0.0392\n",
      "Grid {'max_depth': 6, 'min_samples_leaf': 6, 'min_samples_split': 3} : 0.8657 0.0061 0.7579 0.0356 0.7936 0.0069 0.7107 0.0371\n",
      "Grid {'max_depth': 6, 'min_samples_leaf': 6, 'min_samples_split': 4} : 0.8657 0.0061 0.7579 0.0356 0.7936 0.0069 0.7107 0.0371\n",
      "Grid {'max_depth': 6, 'min_samples_leaf': 6, 'min_samples_split': 5} : 0.8657 0.0061 0.7579 0.0356 0.7936 0.0069 0.7107 0.0371\n",
      "Grid {'max_depth': 6, 'min_samples_leaf': 6, 'min_samples_split': 6} : 0.8657 0.0061 0.7579 0.0356 0.7936 0.0069 0.7107 0.0371\n",
      "Grid {'max_depth': 6, 'min_samples_leaf': 6, 'min_samples_split': 7} : 0.8657 0.0061 0.7579 0.0356 0.7936 0.0069 0.7107 0.0371\n",
      "Grid {'max_depth': 7, 'min_samples_leaf': 2, 'min_samples_split': 3} : 0.9057 0.0048 0.7123 0.0477 0.8298 0.0073 0.6972 0.0512\n",
      "Grid {'max_depth': 7, 'min_samples_leaf': 2, 'min_samples_split': 4} : 0.9057 0.0048 0.7123 0.0477 0.8298 0.0073 0.6972 0.0512\n",
      "Grid {'max_depth': 7, 'min_samples_leaf': 2, 'min_samples_split': 5} : 0.9044 0.0046 0.7134 0.0511 0.8294 0.0069 0.6988 0.0552\n",
      "Grid {'max_depth': 7, 'min_samples_leaf': 2, 'min_samples_split': 6} : 0.9030 0.0044 0.7140 0.0495 0.8284 0.0073 0.6958 0.0564\n",
      "Grid {'max_depth': 7, 'min_samples_leaf': 2, 'min_samples_split': 7} : 0.9018 0.0042 0.7106 0.0482 0.8276 0.0085 0.6927 0.0542\n",
      "Grid {'max_depth': 7, 'min_samples_leaf': 3, 'min_samples_split': 3} : 0.9010 0.0052 0.7239 0.0443 0.8255 0.0067 0.6972 0.0445\n",
      "Grid {'max_depth': 7, 'min_samples_leaf': 3, 'min_samples_split': 4} : 0.9010 0.0052 0.7239 0.0443 0.8255 0.0067 0.6972 0.0445\n",
      "Grid {'max_depth': 7, 'min_samples_leaf': 3, 'min_samples_split': 5} : 0.9010 0.0052 0.7239 0.0443 0.8255 0.0067 0.6972 0.0445\n",
      "Grid {'max_depth': 7, 'min_samples_leaf': 3, 'min_samples_split': 6} : 0.9010 0.0052 0.7239 0.0443 0.8255 0.0067 0.6972 0.0445\n",
      "Grid {'max_depth': 7, 'min_samples_leaf': 3, 'min_samples_split': 7} : 0.8997 0.0048 0.7293 0.0435 0.8241 0.0064 0.7017 0.0484\n",
      "Grid {'max_depth': 7, 'min_samples_leaf': 4, 'min_samples_split': 3} : 0.8977 0.0048 0.7430 0.0266 0.8196 0.0050 0.7047 0.0347\n",
      "Grid {'max_depth': 7, 'min_samples_leaf': 4, 'min_samples_split': 4} : 0.8977 0.0048 0.7430 0.0266 0.8196 0.0050 0.7047 0.0347\n",
      "Grid {'max_depth': 7, 'min_samples_leaf': 4, 'min_samples_split': 5} : 0.8977 0.0048 0.7430 0.0266 0.8196 0.0050 0.7047 0.0347\n",
      "Grid {'max_depth': 7, 'min_samples_leaf': 4, 'min_samples_split': 6} : 0.8977 0.0048 0.7430 0.0266 0.8196 0.0050 0.7047 0.0347\n",
      "Grid {'max_depth': 7, 'min_samples_leaf': 4, 'min_samples_split': 7} : 0.8977 0.0048 0.7430 0.0266 0.8196 0.0050 0.7047 0.0347\n",
      "Grid {'max_depth': 7, 'min_samples_leaf': 5, 'min_samples_split': 3} : 0.8925 0.0061 0.7524 0.0308 0.8155 0.0037 0.7092 0.0298\n",
      "Grid {'max_depth': 7, 'min_samples_leaf': 5, 'min_samples_split': 4} : 0.8925 0.0061 0.7524 0.0308 0.8155 0.0037 0.7092 0.0298\n",
      "Grid {'max_depth': 7, 'min_samples_leaf': 5, 'min_samples_split': 5} : 0.8925 0.0061 0.7524 0.0308 0.8155 0.0037 0.7092 0.0298\n",
      "Grid {'max_depth': 7, 'min_samples_leaf': 5, 'min_samples_split': 6} : 0.8925 0.0061 0.7524 0.0308 0.8155 0.0037 0.7092 0.0298\n",
      "Grid {'max_depth': 7, 'min_samples_leaf': 5, 'min_samples_split': 7} : 0.8925 0.0061 0.7524 0.0308 0.8155 0.0037 0.7092 0.0298\n",
      "Grid {'max_depth': 7, 'min_samples_leaf': 6, 'min_samples_split': 3} : 0.8882 0.0065 0.7546 0.0237 0.8093 0.0024 0.7039 0.0380\n",
      "Grid {'max_depth': 7, 'min_samples_leaf': 6, 'min_samples_split': 4} : 0.8882 0.0065 0.7546 0.0237 0.8093 0.0024 0.7039 0.0380\n",
      "Grid {'max_depth': 7, 'min_samples_leaf': 6, 'min_samples_split': 5} : 0.8882 0.0065 0.7546 0.0237 0.8093 0.0024 0.7039 0.0380\n",
      "Grid {'max_depth': 7, 'min_samples_leaf': 6, 'min_samples_split': 6} : 0.8882 0.0065 0.7546 0.0237 0.8093 0.0024 0.7039 0.0380\n",
      "Grid {'max_depth': 7, 'min_samples_leaf': 6, 'min_samples_split': 7} : 0.8882 0.0065 0.7546 0.0237 0.8093 0.0024 0.7039 0.0380\n"
     ]
    }
   ],
   "source": [
    "means_1a = clf.cv_results_['mean_train_roc_auc']\n",
    "stds_1a  = clf.cv_results_['std_train_roc_auc']\n",
    "\n",
    "means_1b = clf.cv_results_['mean_test_roc_auc']\n",
    "stds_1b  = clf.cv_results_['std_test_roc_auc']\n",
    "\n",
    "means_2a = clf.cv_results_['mean_train_balanced_accuracy']\n",
    "stds_2a  = clf.cv_results_['std_train_balanced_accuracy']\n",
    "\n",
    "means_2b = clf.cv_results_['mean_test_balanced_accuracy']\n",
    "stds_2b  = clf.cv_results_['std_test_balanced_accuracy']\n",
    "\n",
    "iterobjs = zip( means_1a, stds_1a, means_1b, stds_1b,\n",
    "                means_2a, stds_2a, means_2b, stds_2b, clf.cv_results_['params'] )\n",
    "\n",
    "for m1a, s1a, m1b, s1b, m2a, s2a, m2b, s2b, params in iterobjs :\n",
    "\n",
    "    print( \"Grid %r : %0.4f %0.04f %0.4f %0.04f %0.4f %0.04f %0.4f %0.04f\"\n",
    "           % ( params, m1a, s1a, m1b, s1b, m2a, s2a, m2b, s2b))"
   ]
  },
  {
   "cell_type": "markdown",
   "metadata": {},
   "source": [
    "Uncomment the following cell to look into additional performance data stored in cv_result_."
   ]
  },
  {
   "cell_type": "code",
   "execution_count": 163,
   "metadata": {
    "ExecuteTime": {
     "end_time": "2023-12-23T22:18:10.437637691Z",
     "start_time": "2023-12-23T22:18:10.409881930Z"
    }
   },
   "outputs": [],
   "source": [
    "#print(clf.cv_result_)"
   ]
  },
  {
   "cell_type": "markdown",
   "metadata": {},
   "source": [
    "It is important to understand that each model built through 10-fold cross-validation during hyperparameter optimization uses only 90% of the compounds in the training set and the remaining 10% is used for testing that model.  After all parameter value combinations are evaluated, the best parameter values are selected and used to rebuild a model from **all** compounds in the training set.  **GridSearchCV()** takes care of this last step automatically.  Therefore, there is no need to take an extra step to build a model using **cls.fit()** after hyperparameter optimization."
   ]
  },
  {
   "cell_type": "code",
   "execution_count": 164,
   "metadata": {
    "ExecuteTime": {
     "end_time": "2023-12-23T22:18:10.480363928Z",
     "start_time": "2023-12-23T22:18:10.438126878Z"
    }
   },
   "outputs": [],
   "source": [
    "y_true, y_pred = y_train, clf.predict( X_train )    # Apply the model to predict the training compound's activity."
   ]
  },
  {
   "cell_type": "code",
   "execution_count": 165,
   "metadata": {
    "ExecuteTime": {
     "end_time": "2023-12-23T22:18:10.497775040Z",
     "start_time": "2023-12-23T22:18:10.444824149Z"
    }
   },
   "outputs": [
    {
     "name": "stdout",
     "output_type": "stream",
     "text": [
      "[[524 143]\n",
      " [133 534]]\n"
     ]
    }
   ],
   "source": [
    "CMat = confusion_matrix( y_true, y_pred )    #-- generate confusion matrix\n",
    "print(CMat)    # [[TN, FP], \n",
    "               #  [FN, TP]]"
   ]
  },
  {
   "cell_type": "code",
   "execution_count": 166,
   "metadata": {
    "ExecuteTime": {
     "end_time": "2023-12-23T22:18:10.503074187Z",
     "start_time": "2023-12-23T22:18:10.488400783Z"
    }
   },
   "outputs": [],
   "source": [
    "acc  = accuracy_score( y_true, y_pred )\n",
    "\n",
    "sens = CMat[ 1 ][ 1 ] / ( CMat[ 1 ][ 0 ] + CMat[ 1 ][ 1 ] )    # TP / (FN + TP)\n",
    "spec = CMat[ 0 ][ 0 ] / ( CMat[ 0 ][ 0 ] + CMat[ 0 ][ 1 ] )    # TN / (TN + FP )\n",
    "bacc = (sens + spec) / 2\n",
    "\n",
    "y_score = clf.predict_proba( X_train )[:, 1]\n",
    "auc = roc_auc_score( y_true, y_score )"
   ]
  },
  {
   "cell_type": "code",
   "execution_count": 167,
   "metadata": {
    "ExecuteTime": {
     "end_time": "2023-12-23T22:18:10.566088105Z",
     "start_time": "2023-12-23T22:18:10.488865146Z"
    }
   },
   "outputs": [
    {
     "name": "stdout",
     "output_type": "stream",
     "text": [
      "#-- Accuracy          =  0.7931034482758621\n",
      "#-- Balanced Accuracy =  0.7931034482758621\n",
      "#-- Sensitivity       =  0.800599700149925\n",
      "#-- Specificity       =  0.7856071964017991\n",
      "#-- AUC-ROC           =  0.8695135191025176\n"
     ]
    }
   ],
   "source": [
    "print(\"#-- Accuracy          = \", acc)\n",
    "print(\"#-- Balanced Accuracy = \", bacc)\n",
    "print(\"#-- Sensitivity       = \", sens)\n",
    "print(\"#-- Specificity       = \", spec)\n",
    "print(\"#-- AUC-ROC           = \", auc)"
   ]
  },
  {
   "cell_type": "markdown",
   "metadata": {},
   "source": [
    "Compare these performance data with those from section 8-(2) (for the training set).  When the default values were used, the DT model gave >0.99 for all performance measures, but the current models (developed using hyperparameter optimization) have much lower values, ranging from 0.73 to 0.83.  Again, however, what really matters is the performance against the test set, which contains the data not used for model training. "
   ]
  },
  {
   "cell_type": "code",
   "execution_count": 168,
   "metadata": {
    "ExecuteTime": {
     "end_time": "2023-12-23T22:18:10.571304759Z",
     "start_time": "2023-12-23T22:18:10.532286751Z"
    }
   },
   "outputs": [],
   "source": [
    "y_true, y_pred = y_test, clf.predict(X_test)    #-- Apply the model to predict the test set compounds' activity."
   ]
  },
  {
   "cell_type": "code",
   "execution_count": 169,
   "metadata": {
    "ExecuteTime": {
     "end_time": "2023-12-23T22:18:10.576495558Z",
     "start_time": "2023-12-23T22:18:10.532698253Z"
    }
   },
   "outputs": [
    {
     "name": "stdout",
     "output_type": "stream",
     "text": [
      "[[435 170]\n",
      " [ 28  46]]\n"
     ]
    }
   ],
   "source": [
    "CMat = confusion_matrix( y_true, y_pred )    #-- generate confusion matrix\n",
    "print(CMat)    # [[TN, FP], \n",
    "               #  [FN, TP]]"
   ]
  },
  {
   "cell_type": "code",
   "execution_count": 170,
   "metadata": {
    "ExecuteTime": {
     "end_time": "2023-12-23T22:18:10.630973162Z",
     "start_time": "2023-12-23T22:18:10.533110642Z"
    }
   },
   "outputs": [
    {
     "name": "stdout",
     "output_type": "stream",
     "text": [
      "#-- Accuracy          =  0.7083946980854198\n",
      "#-- Balanced Accuracy =  0.6703149430422157\n",
      "#-- Sensitivity       =  0.6216216216216216\n",
      "#-- Specificity       =  0.71900826446281\n",
      "#-- AUC-ROC           =  0.7246928746928747\n"
     ]
    }
   ],
   "source": [
    "acc  = accuracy_score( y_true, y_pred )\n",
    "\n",
    "sens = CMat[ 1 ][ 1 ] / ( CMat[ 1 ][ 0 ] + CMat[ 1 ][ 1 ] )\n",
    "spec = CMat[ 0 ][ 0 ] / ( CMat[ 0 ][ 0 ] + CMat[ 0 ][ 1 ] )\n",
    "bacc = (sens + spec) / 2\n",
    "\n",
    "y_score = clf.predict_proba( X_test )[:, 1]\n",
    "auc = roc_auc_score( y_true, y_score )\n",
    "\n",
    "print(\"#-- Accuracy          = \", acc)\n",
    "print(\"#-- Balanced Accuracy = \", bacc)\n",
    "print(\"#-- Sensitivity       = \", sens)\n",
    "print(\"#-- Specificity       = \", spec)\n",
    "print(\"#-- AUC-ROC           = \", auc)"
   ]
  },
  {
   "cell_type": "markdown",
   "metadata": {},
   "source": [
    "Now we can see that the model from hyperparameter optimization gives better performance data against the test set, compared to the model developed using the default parameter values.  Importantly, the model from hyperparameter optimization shows smaller differences in performance measures between the training and test sets, indicatiing that the issue of outffiting has been alleviated substantially."
   ]
  },
  {
   "cell_type": "markdown",
   "metadata": {},
   "source": [
    "# Exercises"
   ]
  },
  {
   "cell_type": "markdown",
   "metadata": {},
   "source": [
    "In this assignment, we will build predictive models using the same aromatase data."
   ]
  },
  {
   "cell_type": "markdown",
   "metadata": {},
   "source": [
    "**step 1** Show the following information to make sure that the activity data in the **df_activity** data frame is still available."
   ]
  },
  {
   "cell_type": "markdown",
   "metadata": {},
   "source": [
    "- The first five lines of **df_activity**"
   ]
  },
  {
   "cell_type": "code",
   "execution_count": 171,
   "metadata": {
    "ExecuteTime": {
     "end_time": "2023-12-23T22:18:10.642560242Z",
     "start_time": "2023-12-23T22:18:10.576323201Z"
    }
   },
   "outputs": [
    {
     "data": {
      "text/plain": "           cid  activity\n3   12850184.0         0\n4      89753.0         0\n5       9403.0         0\n6   13218779.0         0\n12    637566.0         0",
      "text/html": "<div>\n<style scoped>\n    .dataframe tbody tr th:only-of-type {\n        vertical-align: middle;\n    }\n\n    .dataframe tbody tr th {\n        vertical-align: top;\n    }\n\n    .dataframe thead th {\n        text-align: right;\n    }\n</style>\n<table border=\"1\" class=\"dataframe\">\n  <thead>\n    <tr style=\"text-align: right;\">\n      <th></th>\n      <th>cid</th>\n      <th>activity</th>\n    </tr>\n  </thead>\n  <tbody>\n    <tr>\n      <th>3</th>\n      <td>12850184.0</td>\n      <td>0</td>\n    </tr>\n    <tr>\n      <th>4</th>\n      <td>89753.0</td>\n      <td>0</td>\n    </tr>\n    <tr>\n      <th>5</th>\n      <td>9403.0</td>\n      <td>0</td>\n    </tr>\n    <tr>\n      <th>6</th>\n      <td>13218779.0</td>\n      <td>0</td>\n    </tr>\n    <tr>\n      <th>12</th>\n      <td>637566.0</td>\n      <td>0</td>\n    </tr>\n  </tbody>\n</table>\n</div>"
     },
     "execution_count": 171,
     "metadata": {},
     "output_type": "execute_result"
    }
   ],
   "source": [
    "# Write your code in this cell.\n",
    "\n",
    "df_activity.head(5)"
   ]
  },
  {
   "cell_type": "markdown",
   "metadata": {},
   "source": [
    "- The counts of active/inactive compounds in **df_activity**"
   ]
  },
  {
   "cell_type": "code",
   "execution_count": 172,
   "metadata": {
    "ExecuteTime": {
     "end_time": "2023-12-23T22:18:10.647352386Z",
     "start_time": "2023-12-23T22:18:10.576878342Z"
    }
   },
   "outputs": [
    {
     "data": {
      "text/plain": "           cid\nactivity      \n0         6050\n1          741",
      "text/html": "<div>\n<style scoped>\n    .dataframe tbody tr th:only-of-type {\n        vertical-align: middle;\n    }\n\n    .dataframe tbody tr th {\n        vertical-align: top;\n    }\n\n    .dataframe thead th {\n        text-align: right;\n    }\n</style>\n<table border=\"1\" class=\"dataframe\">\n  <thead>\n    <tr style=\"text-align: right;\">\n      <th></th>\n      <th>cid</th>\n    </tr>\n    <tr>\n      <th>activity</th>\n      <th></th>\n    </tr>\n  </thead>\n  <tbody>\n    <tr>\n      <th>0</th>\n      <td>6050</td>\n    </tr>\n    <tr>\n      <th>1</th>\n      <td>741</td>\n    </tr>\n  </tbody>\n</table>\n</div>"
     },
     "execution_count": 172,
     "metadata": {},
     "output_type": "execute_result"
    }
   ],
   "source": [
    "# Write your code in this cell.\n",
    "\n",
    "df_activity.groupby('activity').count()"
   ]
  },
  {
   "cell_type": "markdown",
   "metadata": {},
   "source": [
    "**Step 2** Show the following information to make sure the structure data is still available."
   ]
  },
  {
   "cell_type": "markdown",
   "metadata": {},
   "source": [
    "- The first five lines of **df_smiles**"
   ]
  },
  {
   "cell_type": "code",
   "execution_count": 173,
   "metadata": {
    "ExecuteTime": {
     "end_time": "2023-12-23T22:18:10.653072083Z",
     "start_time": "2023-12-23T22:18:10.590043241Z"
    }
   },
   "outputs": [
    {
     "data": {
      "text/plain": "        cid                                             smiles\n0  12850184  C(C(=O)[C@H]([C@@H]([C@H](C(=O)[O-])O)O)O)O.C(...\n1     89753  C([C@H]([C@H]([C@@H]([C@H](C(=O)[O-])O)O)O)O)O...\n2      9403  C[C@]12CC[C@H]3[C@H]([C@@H]1CC[C@@H]2OC(=O)CCC...\n3  13218779         C[C@@]12CC[C@@H](C1(C)C)C[C@H]2OC(=O)CSC#N\n4    637566                               CC(=CCC/C(=C/CO)/C)C",
      "text/html": "<div>\n<style scoped>\n    .dataframe tbody tr th:only-of-type {\n        vertical-align: middle;\n    }\n\n    .dataframe tbody tr th {\n        vertical-align: top;\n    }\n\n    .dataframe thead th {\n        text-align: right;\n    }\n</style>\n<table border=\"1\" class=\"dataframe\">\n  <thead>\n    <tr style=\"text-align: right;\">\n      <th></th>\n      <th>cid</th>\n      <th>smiles</th>\n    </tr>\n  </thead>\n  <tbody>\n    <tr>\n      <th>0</th>\n      <td>12850184</td>\n      <td>C(C(=O)[C@H]([C@@H]([C@H](C(=O)[O-])O)O)O)O.C(...</td>\n    </tr>\n    <tr>\n      <th>1</th>\n      <td>89753</td>\n      <td>C([C@H]([C@H]([C@@H]([C@H](C(=O)[O-])O)O)O)O)O...</td>\n    </tr>\n    <tr>\n      <th>2</th>\n      <td>9403</td>\n      <td>C[C@]12CC[C@H]3[C@H]([C@@H]1CC[C@@H]2OC(=O)CCC...</td>\n    </tr>\n    <tr>\n      <th>3</th>\n      <td>13218779</td>\n      <td>C[C@@]12CC[C@@H](C1(C)C)C[C@H]2OC(=O)CSC#N</td>\n    </tr>\n    <tr>\n      <th>4</th>\n      <td>637566</td>\n      <td>CC(=CCC/C(=C/CO)/C)C</td>\n    </tr>\n  </tbody>\n</table>\n</div>"
     },
     "execution_count": 173,
     "metadata": {},
     "output_type": "execute_result"
    }
   ],
   "source": [
    "# Write your code in this cell.\n",
    "\n",
    "df_smiles.head(5)"
   ]
  },
  {
   "cell_type": "markdown",
   "metadata": {},
   "source": [
    "- the number of rows of **df_smiles**"
   ]
  },
  {
   "cell_type": "code",
   "execution_count": 174,
   "metadata": {
    "ExecuteTime": {
     "end_time": "2023-12-23T22:18:10.741636216Z",
     "start_time": "2023-12-23T22:18:10.597394887Z"
    }
   },
   "outputs": [
    {
     "data": {
      "text/plain": "6791"
     },
     "execution_count": 174,
     "metadata": {},
     "output_type": "execute_result"
    }
   ],
   "source": [
    "# Write your code in this cell.\n",
    "\n",
    "len(df_smiles)"
   ]
  },
  {
   "cell_type": "markdown",
   "metadata": {},
   "source": [
    "**Step 3** Generate the (ECFP-equivalent) circular fingerprints from the SMILES strings.\n",
    "- Use RDKit to generate 1024-bit-long circular fingerprints.\n",
    "- Set the radius of the circular fingerprint to 2.\n",
    "- Store the fingerprints in a data_frame called **df_fps** (along with the CIDs).\n",
    "- Print the dimension of **df_fps**.\n",
    "- Show the first five lines of **df_fps**."
   ]
  },
  {
   "cell_type": "code",
   "execution_count": 175,
   "metadata": {
    "ExecuteTime": {
     "end_time": "2023-12-23T22:18:14.961036025Z",
     "start_time": "2023-12-23T22:18:10.603376257Z"
    }
   },
   "outputs": [
    {
     "name": "stderr",
     "output_type": "stream",
     "text": [
      "[22:18:12] Explicit valence for atom # 3 Si, 8, is greater than permitted\n"
     ]
    },
    {
     "name": "stdout",
     "output_type": "stream",
     "text": [
      "Can't generate MOL object: CID 28145 [NH4+].[NH4+].F[Si-2](F)(F)(F)(F)F\n"
     ]
    },
    {
     "name": "stderr",
     "output_type": "stream",
     "text": [
      "[22:18:13] WARNING: not removing hydrogen atom without neighbors\n",
      "[22:18:14] Explicit valence for atom # 1 Si, 8, is greater than permitted\n"
     ]
    },
    {
     "name": "stdout",
     "output_type": "stream",
     "text": [
      "Can't generate MOL object: CID 28127 F[Si-2](F)(F)(F)(F)F.[Na+].[Na+]\n",
      "(6789, 1025)\n"
     ]
    },
    {
     "data": {
      "text/plain": "               cid ecfp000 ecfp001 ecfp002 ecfp003 ecfp004 ecfp005 ecfp006  \\\n12850184  12850184       0       1       0       0       0       0       0   \n89753        89753       0       1       0       0       0       0       0   \n9403          9403       0       0       0       1       1       0       0   \n13218779  13218779       0       0       0       0       0       0       0   \n637566      637566       0       0       0       0       0       0       0   \n\n         ecfp007 ecfp008  ... ecfp1014 ecfp1015 ecfp1016 ecfp1017 ecfp1018  \\\n12850184       0       0  ...        0        0        0        0        0   \n89753          0       0  ...        0        0        0        0        0   \n9403           0       0  ...        0        0        0        0        0   \n13218779       0       0  ...        0        0        0        0        0   \n637566         0       0  ...        0        0        0        1        0   \n\n         ecfp1019 ecfp1020 ecfp1021 ecfp1022 ecfp1023  \n12850184        0        0        0        0        0  \n89753           0        0        0        0        0  \n9403            1        0        0        0        0  \n13218779        1        0        0        0        0  \n637566          0        0        0        0        0  \n\n[5 rows x 1025 columns]",
      "text/html": "<div>\n<style scoped>\n    .dataframe tbody tr th:only-of-type {\n        vertical-align: middle;\n    }\n\n    .dataframe tbody tr th {\n        vertical-align: top;\n    }\n\n    .dataframe thead th {\n        text-align: right;\n    }\n</style>\n<table border=\"1\" class=\"dataframe\">\n  <thead>\n    <tr style=\"text-align: right;\">\n      <th></th>\n      <th>cid</th>\n      <th>ecfp000</th>\n      <th>ecfp001</th>\n      <th>ecfp002</th>\n      <th>ecfp003</th>\n      <th>ecfp004</th>\n      <th>ecfp005</th>\n      <th>ecfp006</th>\n      <th>ecfp007</th>\n      <th>ecfp008</th>\n      <th>...</th>\n      <th>ecfp1014</th>\n      <th>ecfp1015</th>\n      <th>ecfp1016</th>\n      <th>ecfp1017</th>\n      <th>ecfp1018</th>\n      <th>ecfp1019</th>\n      <th>ecfp1020</th>\n      <th>ecfp1021</th>\n      <th>ecfp1022</th>\n      <th>ecfp1023</th>\n    </tr>\n  </thead>\n  <tbody>\n    <tr>\n      <th>12850184</th>\n      <td>12850184</td>\n      <td>0</td>\n      <td>1</td>\n      <td>0</td>\n      <td>0</td>\n      <td>0</td>\n      <td>0</td>\n      <td>0</td>\n      <td>0</td>\n      <td>0</td>\n      <td>...</td>\n      <td>0</td>\n      <td>0</td>\n      <td>0</td>\n      <td>0</td>\n      <td>0</td>\n      <td>0</td>\n      <td>0</td>\n      <td>0</td>\n      <td>0</td>\n      <td>0</td>\n    </tr>\n    <tr>\n      <th>89753</th>\n      <td>89753</td>\n      <td>0</td>\n      <td>1</td>\n      <td>0</td>\n      <td>0</td>\n      <td>0</td>\n      <td>0</td>\n      <td>0</td>\n      <td>0</td>\n      <td>0</td>\n      <td>...</td>\n      <td>0</td>\n      <td>0</td>\n      <td>0</td>\n      <td>0</td>\n      <td>0</td>\n      <td>0</td>\n      <td>0</td>\n      <td>0</td>\n      <td>0</td>\n      <td>0</td>\n    </tr>\n    <tr>\n      <th>9403</th>\n      <td>9403</td>\n      <td>0</td>\n      <td>0</td>\n      <td>0</td>\n      <td>1</td>\n      <td>1</td>\n      <td>0</td>\n      <td>0</td>\n      <td>0</td>\n      <td>0</td>\n      <td>...</td>\n      <td>0</td>\n      <td>0</td>\n      <td>0</td>\n      <td>0</td>\n      <td>0</td>\n      <td>1</td>\n      <td>0</td>\n      <td>0</td>\n      <td>0</td>\n      <td>0</td>\n    </tr>\n    <tr>\n      <th>13218779</th>\n      <td>13218779</td>\n      <td>0</td>\n      <td>0</td>\n      <td>0</td>\n      <td>0</td>\n      <td>0</td>\n      <td>0</td>\n      <td>0</td>\n      <td>0</td>\n      <td>0</td>\n      <td>...</td>\n      <td>0</td>\n      <td>0</td>\n      <td>0</td>\n      <td>0</td>\n      <td>0</td>\n      <td>1</td>\n      <td>0</td>\n      <td>0</td>\n      <td>0</td>\n      <td>0</td>\n    </tr>\n    <tr>\n      <th>637566</th>\n      <td>637566</td>\n      <td>0</td>\n      <td>0</td>\n      <td>0</td>\n      <td>0</td>\n      <td>0</td>\n      <td>0</td>\n      <td>0</td>\n      <td>0</td>\n      <td>0</td>\n      <td>...</td>\n      <td>0</td>\n      <td>0</td>\n      <td>0</td>\n      <td>1</td>\n      <td>0</td>\n      <td>0</td>\n      <td>0</td>\n      <td>0</td>\n      <td>0</td>\n      <td>0</td>\n    </tr>\n  </tbody>\n</table>\n<p>5 rows × 1025 columns</p>\n</div>"
     },
     "execution_count": 175,
     "metadata": {},
     "output_type": "execute_result"
    }
   ],
   "source": [
    "# Write your code in this cell\n",
    "\n",
    "from rdkit.Chem import AllChem\n",
    "\n",
    "fps=dict()\n",
    "\n",
    "for idx, row in df_smiles.iterrows() :\n",
    "    \n",
    "    mol = Chem.MolFromSmiles(row.smiles)\n",
    "    \n",
    "    if mol == None :\n",
    "        print(\"Can't generate MOL object:\", \"CID\", row.cid, row.smiles)\n",
    "    else:\n",
    "        fps[row.cid] = [row.cid] + list(AllChem.GetMorganFingerprintAsBitVect(mol, 2, nBits=1024).ToBitString())\n",
    "        \n",
    "# Generate column names\n",
    "fpbitnames = []\n",
    "\n",
    "fpbitnames.append('cid')\n",
    "\n",
    "for i in range(0,1024):   # from MACCS000 to MACCS166\n",
    "    fpbitnames.append( \"ecfp\" + str(i).zfill(3) )\n",
    "\n",
    "df_fps = pd.DataFrame.from_dict(fps, orient='index', columns=fpbitnames)\n",
    "\n",
    "print(df_fps.shape)\n",
    "\n",
    "df_fps.head(5)"
   ]
  },
  {
   "cell_type": "markdown",
   "metadata": {},
   "source": [
    "**Step 4** Merge the **df_activity** and **df_fps** data frames into a data frame called **df_data**\n",
    "- Join the two data frames using the CID column as keys.\n",
    "- Remove the rows that have any NULL values (i.e., compounds for which the fingerprints couldn't be generated).\n",
    "- Print the dimension of **df_data**.\n",
    "- Show the first five lines of **df_data**."
   ]
  },
  {
   "cell_type": "code",
   "execution_count": 176,
   "metadata": {
    "ExecuteTime": {
     "end_time": "2023-12-23T22:18:15.658946116Z",
     "start_time": "2023-12-23T22:18:15.013550064Z"
    }
   },
   "outputs": [
    {
     "name": "stdout",
     "output_type": "stream",
     "text": [
      "(6789, 1026)\n"
     ]
    },
    {
     "data": {
      "text/plain": "           cid  activity ecfp000 ecfp001 ecfp002 ecfp003 ecfp004 ecfp005  \\\n3   12850184.0         0       0       1       0       0       0       0   \n4      89753.0         0       0       1       0       0       0       0   \n5       9403.0         0       0       0       0       1       1       0   \n6   13218779.0         0       0       0       0       0       0       0   \n12    637566.0         0       0       0       0       0       0       0   \n\n   ecfp006 ecfp007  ... ecfp1014 ecfp1015 ecfp1016 ecfp1017 ecfp1018 ecfp1019  \\\n3        0       0  ...        0        0        0        0        0        0   \n4        0       0  ...        0        0        0        0        0        0   \n5        0       0  ...        0        0        0        0        0        1   \n6        0       0  ...        0        0        0        0        0        1   \n12       0       0  ...        0        0        0        1        0        0   \n\n   ecfp1020 ecfp1021 ecfp1022 ecfp1023  \n3         0        0        0        0  \n4         0        0        0        0  \n5         0        0        0        0  \n6         0        0        0        0  \n12        0        0        0        0  \n\n[5 rows x 1026 columns]",
      "text/html": "<div>\n<style scoped>\n    .dataframe tbody tr th:only-of-type {\n        vertical-align: middle;\n    }\n\n    .dataframe tbody tr th {\n        vertical-align: top;\n    }\n\n    .dataframe thead th {\n        text-align: right;\n    }\n</style>\n<table border=\"1\" class=\"dataframe\">\n  <thead>\n    <tr style=\"text-align: right;\">\n      <th></th>\n      <th>cid</th>\n      <th>activity</th>\n      <th>ecfp000</th>\n      <th>ecfp001</th>\n      <th>ecfp002</th>\n      <th>ecfp003</th>\n      <th>ecfp004</th>\n      <th>ecfp005</th>\n      <th>ecfp006</th>\n      <th>ecfp007</th>\n      <th>...</th>\n      <th>ecfp1014</th>\n      <th>ecfp1015</th>\n      <th>ecfp1016</th>\n      <th>ecfp1017</th>\n      <th>ecfp1018</th>\n      <th>ecfp1019</th>\n      <th>ecfp1020</th>\n      <th>ecfp1021</th>\n      <th>ecfp1022</th>\n      <th>ecfp1023</th>\n    </tr>\n  </thead>\n  <tbody>\n    <tr>\n      <th>3</th>\n      <td>12850184.0</td>\n      <td>0</td>\n      <td>0</td>\n      <td>1</td>\n      <td>0</td>\n      <td>0</td>\n      <td>0</td>\n      <td>0</td>\n      <td>0</td>\n      <td>0</td>\n      <td>...</td>\n      <td>0</td>\n      <td>0</td>\n      <td>0</td>\n      <td>0</td>\n      <td>0</td>\n      <td>0</td>\n      <td>0</td>\n      <td>0</td>\n      <td>0</td>\n      <td>0</td>\n    </tr>\n    <tr>\n      <th>4</th>\n      <td>89753.0</td>\n      <td>0</td>\n      <td>0</td>\n      <td>1</td>\n      <td>0</td>\n      <td>0</td>\n      <td>0</td>\n      <td>0</td>\n      <td>0</td>\n      <td>0</td>\n      <td>...</td>\n      <td>0</td>\n      <td>0</td>\n      <td>0</td>\n      <td>0</td>\n      <td>0</td>\n      <td>0</td>\n      <td>0</td>\n      <td>0</td>\n      <td>0</td>\n      <td>0</td>\n    </tr>\n    <tr>\n      <th>5</th>\n      <td>9403.0</td>\n      <td>0</td>\n      <td>0</td>\n      <td>0</td>\n      <td>0</td>\n      <td>1</td>\n      <td>1</td>\n      <td>0</td>\n      <td>0</td>\n      <td>0</td>\n      <td>...</td>\n      <td>0</td>\n      <td>0</td>\n      <td>0</td>\n      <td>0</td>\n      <td>0</td>\n      <td>1</td>\n      <td>0</td>\n      <td>0</td>\n      <td>0</td>\n      <td>0</td>\n    </tr>\n    <tr>\n      <th>6</th>\n      <td>13218779.0</td>\n      <td>0</td>\n      <td>0</td>\n      <td>0</td>\n      <td>0</td>\n      <td>0</td>\n      <td>0</td>\n      <td>0</td>\n      <td>0</td>\n      <td>0</td>\n      <td>...</td>\n      <td>0</td>\n      <td>0</td>\n      <td>0</td>\n      <td>0</td>\n      <td>0</td>\n      <td>1</td>\n      <td>0</td>\n      <td>0</td>\n      <td>0</td>\n      <td>0</td>\n    </tr>\n    <tr>\n      <th>12</th>\n      <td>637566.0</td>\n      <td>0</td>\n      <td>0</td>\n      <td>0</td>\n      <td>0</td>\n      <td>0</td>\n      <td>0</td>\n      <td>0</td>\n      <td>0</td>\n      <td>0</td>\n      <td>...</td>\n      <td>0</td>\n      <td>0</td>\n      <td>0</td>\n      <td>1</td>\n      <td>0</td>\n      <td>0</td>\n      <td>0</td>\n      <td>0</td>\n      <td>0</td>\n      <td>0</td>\n    </tr>\n  </tbody>\n</table>\n<p>5 rows × 1026 columns</p>\n</div>"
     },
     "execution_count": 176,
     "metadata": {},
     "output_type": "execute_result"
    }
   ],
   "source": [
    "# Write your code in this cell.\n",
    "\n",
    "df_data = df_activity.join(df_fps.set_index('cid'), on='cid')\n",
    "df_data = df_data.dropna()\n",
    "\n",
    "print(df_data.shape)\n",
    "df_data.head(5)"
   ]
  },
  {
   "cell_type": "markdown",
   "metadata": {},
   "source": [
    "**Step 5** Prepare input and output data for model building\n",
    "- Load the fingerprint data into 2-D array (X) and the activity data into 1-D array (y).\n",
    "- Show the dimension of X and y."
   ]
  },
  {
   "cell_type": "code",
   "execution_count": 177,
   "metadata": {
    "ExecuteTime": {
     "end_time": "2023-12-23T22:18:15.771069105Z",
     "start_time": "2023-12-23T22:18:15.720745922Z"
    }
   },
   "outputs": [
    {
     "name": "stdout",
     "output_type": "stream",
     "text": [
      "(6789, 1024)\n",
      "6789\n"
     ]
    }
   ],
   "source": [
    "# Write your code in this cell.\n",
    "\n",
    "X = df_data.iloc[:,2:]\n",
    "y = df_data['activity'].values\n",
    "\n",
    "print(X.shape)\n",
    "print(len(y))"
   ]
  },
  {
   "cell_type": "markdown",
   "metadata": {},
   "source": [
    "- Remove zero-variance features from X (if any)."
   ]
  },
  {
   "cell_type": "code",
   "execution_count": 178,
   "metadata": {
    "ExecuteTime": {
     "end_time": "2023-12-23T22:18:17.591122250Z",
     "start_time": "2023-12-23T22:18:17.090952197Z"
    }
   },
   "outputs": [
    {
     "data": {
      "text/plain": "(6789, 1024)"
     },
     "execution_count": 178,
     "metadata": {},
     "output_type": "execute_result"
    }
   ],
   "source": [
    "# Write your code in this cell.\n",
    "\n",
    "sel = VarianceThreshold()\n",
    "X=sel.fit_transform(X)\n",
    "X.shape  #-- dimension after removal (none removed)"
   ]
  },
  {
   "cell_type": "markdown",
   "metadata": {},
   "source": [
    "- Split the data set into training and test sets (90% vs 10%) (using random_state=3100).\n",
    "- Print the dimension of X and y for the training and test sets."
   ]
  },
  {
   "cell_type": "code",
   "execution_count": 179,
   "metadata": {
    "ExecuteTime": {
     "end_time": "2023-12-23T22:18:18.286761452Z",
     "start_time": "2023-12-23T22:18:17.584249387Z"
    }
   },
   "outputs": [
    {
     "name": "stdout",
     "output_type": "stream",
     "text": [
      "(6110, 1024) (679, 1024) (6110,) (679,)\n",
      "667 74\n",
      "6110\n",
      "6110\n",
      "1024\n"
     ]
    }
   ],
   "source": [
    "# Write your code in this cell.\n",
    "\n",
    "from sklearn.model_selection import train_test_split\n",
    "\n",
    "X_train, X_test, y_train, y_test = \\\n",
    "    train_test_split(X, y, shuffle=True, random_state=3100, stratify=y, test_size=0.1)\n",
    "\n",
    "print(X_train.shape, X_test.shape, y_train.shape, y_test.shape)\n",
    "print(y_train.sum(), y_test.sum())\n",
    "\n",
    "print(len(y_train))\n",
    "print(len(X_train))\n",
    "print(len(X_train[0]))"
   ]
  },
  {
   "cell_type": "markdown",
   "metadata": {},
   "source": [
    "- Balance the training data set through downsampling.\n",
    "- Show the number of inactive/active compounds in the downsampled training set."
   ]
  },
  {
   "cell_type": "code",
   "execution_count": 180,
   "metadata": {
    "ExecuteTime": {
     "end_time": "2023-12-23T22:18:18.331810849Z",
     "start_time": "2023-12-23T22:18:18.279893539Z"
    }
   },
   "outputs": [
    {
     "name": "stdout",
     "output_type": "stream",
     "text": [
      "5443 667\n",
      "# inactives :  667\n",
      "# actives   :  667\n"
     ]
    }
   ],
   "source": [
    "# Write your code in this cell.\n",
    "\n",
    "# Indicies of each class' observations\n",
    "idx_inactives = np.where( y_train == 0 )[0]\n",
    "idx_actives   = np.where( y_train == 1 )[0]\n",
    "\n",
    "print(len(idx_inactives), len(idx_actives))\n",
    "\n",
    "# Number of observations in each class\n",
    "num_inactives = len(idx_inactives)\n",
    "num_actives   = len(idx_actives)\n",
    "\n",
    "# Randomly sample from inactives without replacement\n",
    "np.random.seed(0)\n",
    "idx_inactives_downsampled = np.random.choice(idx_inactives, size=num_actives, replace=False)\n",
    "\n",
    "# Join together downsampled inactives with actives\n",
    "X_train = np.vstack((X_train[idx_inactives_downsampled], X_train[idx_actives]))\n",
    "y_train = np.hstack((y_train[idx_inactives_downsampled], y_train[idx_actives]))\n",
    "\n",
    "print(\"# inactives : \", len(y_train) - y_train.sum())\n",
    "print(\"# actives   : \", y_train.sum())"
   ]
  },
  {
   "cell_type": "markdown",
   "metadata": {},
   "source": [
    "**Step 6** Building a Random Forest model using the balanced training data set.\n",
    "- First read the followng documents about random forest (https://scikit-learn.org/stable/modules/ensemble.html#forest and https://scikit-learn.org/stable/modules/generated/sklearn.ensemble.RandomForestClassifier.html#sklearn.ensemble.RandomForestClassifier). \n",
    "- Use 10-fold cross validation to select the best value for the \"n_estimators\" parameter that maximizes the **balanced accuracy**.  Test 40 values from 5 to 200 with an increment of 5 (e.g., 5, 10, 15, 20, ..., 190, 195, 200).\n",
    "- For parameters 'max_depth', 'min_samples_leaf', and 'min_samples_split', use the best values found in Section 9.\n",
    "- For other parameters, use the default values.\n",
    "- For each parameter value, print the mean balanced accuracies (for both training and test from cross validation). "
   ]
  },
  {
   "cell_type": "code",
   "execution_count": 181,
   "metadata": {
    "ExecuteTime": {
     "end_time": "2023-12-23T22:18:18.462644528Z",
     "start_time": "2023-12-23T22:18:18.335322049Z"
    }
   },
   "outputs": [
    {
     "ename": "TypeError",
     "evalue": "GridSearchCV.__init__() got an unexpected keyword argument 'iid'",
     "output_type": "error",
     "traceback": [
      "\u001B[0;31m---------------------------------------------------------------------------\u001B[0m",
      "\u001B[0;31mTypeError\u001B[0m                                 Traceback (most recent call last)",
      "Cell \u001B[0;32mIn[181], line 12\u001B[0m\n\u001B[1;32m      8\u001B[0m n_estimators_range \u001B[38;5;241m=\u001B[39m np\u001B[38;5;241m.\u001B[39mlinspace( \u001B[38;5;241m5\u001B[39m, \u001B[38;5;241m200\u001B[39m, num\u001B[38;5;241m=\u001B[39m\u001B[38;5;241m40\u001B[39m, dtype\u001B[38;5;241m=\u001B[39m\u001B[38;5;124m'\u001B[39m\u001B[38;5;124mint32\u001B[39m\u001B[38;5;124m'\u001B[39m );\n\u001B[1;32m     10\u001B[0m param_grid \u001B[38;5;241m=\u001B[39m \u001B[38;5;28mdict\u001B[39m( n_estimators\u001B[38;5;241m=\u001B[39mn_estimators_range );\n\u001B[0;32m---> 12\u001B[0m clf \u001B[38;5;241m=\u001B[39m \u001B[43mGridSearchCV\u001B[49m\u001B[43m(\u001B[49m\u001B[43m \u001B[49m\u001B[43mRandomForestClassifier\u001B[49m\u001B[43m(\u001B[49m\u001B[43m \u001B[49m\u001B[43mrandom_state\u001B[49m\u001B[38;5;241;43m=\u001B[39;49m\u001B[38;5;241;43m0\u001B[39;49m\u001B[43m,\u001B[49m\u001B[43m \u001B[49m\u001B[43mmax_depth\u001B[49m\u001B[38;5;241;43m=\u001B[39;49m\u001B[38;5;241;43m5\u001B[39;49m\u001B[43m,\u001B[49m\u001B[43m \u001B[49m\u001B[43mmin_samples_leaf\u001B[49m\u001B[38;5;241;43m=\u001B[39;49m\u001B[38;5;241;43m4\u001B[39;49m\u001B[43m,\u001B[49m\u001B[43m \u001B[49m\u001B[43mmin_samples_split\u001B[49m\u001B[38;5;241;43m=\u001B[39;49m\u001B[38;5;241;43m3\u001B[39;49m\u001B[43m \u001B[49m\u001B[43m)\u001B[49m\u001B[43m,\u001B[49m\n\u001B[1;32m     13\u001B[0m \u001B[43m                    \u001B[49m\u001B[43mparam_grid\u001B[49m\u001B[38;5;241;43m=\u001B[39;49m\u001B[43mparam_grid\u001B[49m\u001B[43m,\u001B[49m\u001B[43m \u001B[49m\u001B[43mcv\u001B[49m\u001B[38;5;241;43m=\u001B[39;49m\u001B[43mncvs\u001B[49m\u001B[43m,\u001B[49m\u001B[43m \u001B[49m\u001B[43mscoring\u001B[49m\u001B[38;5;241;43m=\u001B[39;49m\u001B[43mscores\u001B[49m\u001B[43m,\u001B[49m\u001B[43m \u001B[49m\u001B[43mrefit\u001B[49m\u001B[38;5;241;43m=\u001B[39;49m\u001B[38;5;124;43m'\u001B[39;49m\u001B[38;5;124;43mbalanced_accuracy\u001B[39;49m\u001B[38;5;124;43m'\u001B[39;49m\u001B[43m,\u001B[49m\n\u001B[1;32m     14\u001B[0m \u001B[43m                    \u001B[49m\u001B[43mreturn_train_score\u001B[49m\u001B[43m \u001B[49m\u001B[38;5;241;43m=\u001B[39;49m\u001B[43m \u001B[49m\u001B[38;5;28;43;01mTrue\u001B[39;49;00m\u001B[43m,\u001B[49m\u001B[43m \u001B[49m\u001B[43miid\u001B[49m\u001B[38;5;241;43m=\u001B[39;49m\u001B[38;5;28;43;01mFalse\u001B[39;49;00m\u001B[43m)\u001B[49m\n\u001B[1;32m     16\u001B[0m clf\u001B[38;5;241m.\u001B[39mfit( X_train, y_train )\n\u001B[1;32m     17\u001B[0m \u001B[38;5;28mprint\u001B[39m(\u001B[38;5;124m\"\u001B[39m\u001B[38;5;124m#-- Best parameter set\u001B[39m\u001B[38;5;124m\"\u001B[39m, clf\u001B[38;5;241m.\u001B[39mbest_params_)\n",
      "\u001B[0;31mTypeError\u001B[0m: GridSearchCV.__init__() got an unexpected keyword argument 'iid'"
     ]
    }
   ],
   "source": [
    "# Write your code in this cell.\n",
    "\n",
    "from sklearn.ensemble import RandomForestClassifier\n",
    "\n",
    "ncvs = 10\n",
    "scores = ['roc_auc', 'balanced_accuracy']\n",
    "\n",
    "n_estimators_range = np.linspace( 5, 200, num=40, dtype='int32' );\n",
    "\n",
    "param_grid = dict( n_estimators=n_estimators_range );\n",
    "\n",
    "clf = GridSearchCV( RandomForestClassifier( random_state=0, max_depth=5, min_samples_leaf=4, min_samples_split=3 ),\n",
    "                    param_grid=param_grid, cv=ncvs, scoring=scores, refit='balanced_accuracy',\n",
    "                    return_train_score = True, iid=False)\n",
    "\n",
    "clf.fit( X_train, y_train )\n",
    "print(\"#-- Best parameter set\", clf.best_params_)\n",
    "\n",
    "means_1a = clf.cv_results_['mean_train_balanced_accuracy']\n",
    "means_1b = clf.cv_results_['mean_test_balanced_accuracy']\n",
    "\n",
    "iterobjs = zip( means_1a, means_1b, clf.cv_results_['params'] )\n",
    "\n",
    "for m1a, m1b, params in iterobjs :\n",
    "    print( \"Grid %r : %0.4f %0.04f\" % ( params, m1a, m1b))"
   ]
  },
  {
   "cell_type": "markdown",
   "metadata": {},
   "source": [
    "**Step 7** Apply the developed RF model to predict the activity of the **training** set compounds.\n",
    "\n",
    "- Report the confusion matrix.\n",
    "- Report the accuracy, balanced accurayc, sensitivity, specificity, and auc-roc."
   ]
  },
  {
   "cell_type": "code",
   "execution_count": null,
   "metadata": {
    "ExecuteTime": {
     "start_time": "2023-12-23T22:18:18.461553433Z"
    }
   },
   "outputs": [],
   "source": [
    "# Write your code in this cell.\n",
    "\n",
    "y_true, y_pred = y_train, clf.predict( X_train )    # Apply the model to predict the training compound's activity.\n",
    "\n",
    "CMat = confusion_matrix( y_true, y_pred )    #-- generate confusion matrix\n",
    "print(CMat)    # [[TN, FP], \n",
    "               #  [FN, TP]]\n",
    "    \n",
    "acc  = accuracy_score( y_true, y_pred )\n",
    "\n",
    "sens = CMat[ 1 ][ 1 ] / ( CMat[ 1 ][ 0 ] + CMat[ 1 ][ 1 ] )    # TP / (FN + TP)\n",
    "spec = CMat[ 0 ][ 0 ] / ( CMat[ 0 ][ 0 ] + CMat[ 0 ][ 1 ] )    # TN / (TN + FP )\n",
    "bacc = (sens + spec) / 2\n",
    "\n",
    "y_score = clf.predict_proba( X_train )[:, 1]\n",
    "auc = roc_auc_score( y_true, y_score )\n",
    "\n",
    "print(\"#-- Accuracy          = \", acc)\n",
    "print(\"#-- Balanced Accuracy = \", bacc)\n",
    "print(\"#-- Sensitivity       = \", sens)\n",
    "print(\"#-- Specificity       = \", spec)\n",
    "print(\"#-- AUC-ROC           = \", auc)"
   ]
  },
  {
   "cell_type": "markdown",
   "metadata": {},
   "source": [
    "**Step 8** Apply the developed RF model to predict the activity of the **test** set compounds.\n",
    "\n",
    "- Report the accuracy, balanced accurayc, sensitivity, specificity, and auc-roc."
   ]
  },
  {
   "cell_type": "code",
   "execution_count": null,
   "metadata": {
    "ExecuteTime": {
     "end_time": "2023-12-23T22:18:18.470123841Z",
     "start_time": "2023-12-23T22:18:18.466090882Z"
    }
   },
   "outputs": [],
   "source": [
    "# Write your code in this cell.\n",
    "\n",
    "y_true, y_pred = y_test, clf.predict(X_test)    #-- Apply the model to predict the test set compounds' activity.\n",
    "\n",
    "CMat = confusion_matrix( y_true, y_pred )    #-- generate confusion matrix\n",
    "print(CMat)    # [[TN, FP], \n",
    "               #  [FN, TP]]\n",
    "    \n",
    "acc  = accuracy_score( y_true, y_pred )\n",
    "\n",
    "sens = CMat[ 1 ][ 1 ] / ( CMat[ 1 ][ 0 ] + CMat[ 1 ][ 1 ] )\n",
    "spec = CMat[ 0 ][ 0 ] / ( CMat[ 0 ][ 0 ] + CMat[ 0 ][ 1 ] )\n",
    "bacc = (sens + spec) / 2\n",
    "\n",
    "y_score = clf.predict_proba( X_test )[:, 1]\n",
    "auc = roc_auc_score( y_true, y_score )\n",
    "\n",
    "print(\"#-- Accuracy          = \", acc)\n",
    "print(\"#-- Balanced Accuracy = \", bacc)\n",
    "print(\"#-- Sensitivity       = \", sens)\n",
    "print(\"#-- Specificity       = \", spec)\n",
    "print(\"#-- AUC-ROC           = \", auc)"
   ]
  },
  {
   "cell_type": "markdown",
   "metadata": {},
   "source": [
    "**Step 9** Read a recent paper published in *Chem. Res. Toxicol.* (https://doi.org/10.1021/acs.chemrestox.7b00037) and answer the following questions (in no more than five sentences for each question).\n",
    "\n",
    "- What different approaches did the paper take to develop prediction models (compared to those used in this notebook)?\n",
    "- How different are the models reported in the paper from those constructed in this paper (in terms of the performance measures)? \n",
    "- What would you do to develop models with improved performance?"
   ]
  },
  {
   "cell_type": "markdown",
   "metadata": {},
   "source": [
    "Write your answers in this cell.\n",
    "\n",
    "- \n",
    "\n",
    "- \n",
    "\n",
    "- "
   ]
  },
  {
   "cell_type": "code",
   "execution_count": null,
   "metadata": {
    "ExecuteTime": {
     "start_time": "2023-12-23T22:18:18.508123310Z"
    }
   },
   "outputs": [],
   "source": []
  }
 ],
 "metadata": {
  "kernelspec": {
   "display_name": "Python 3",
   "language": "python",
   "name": "python3"
  },
  "language_info": {
   "codemirror_mode": {
    "name": "ipython",
    "version": 3
   },
   "file_extension": ".py",
   "mimetype": "text/x-python",
   "name": "python",
   "nbconvert_exporter": "python",
   "pygments_lexer": "ipython3",
   "version": "3.7.1"
  }
 },
 "nbformat": 4,
 "nbformat_minor": 4
}
